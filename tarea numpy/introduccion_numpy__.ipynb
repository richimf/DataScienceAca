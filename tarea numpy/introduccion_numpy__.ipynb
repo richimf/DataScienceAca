{
 "cells": [
  {
   "cell_type": "markdown",
   "metadata": {},
   "source": [
    "# Introducción a numpy"
   ]
  },
  {
   "cell_type": "markdown",
   "metadata": {},
   "source": [
    "#### Librería optimizada para realizar cálculos numéricos con vectores y matrices"
   ]
  },
  {
   "cell_type": "code",
   "execution_count": 3,
   "metadata": {},
   "outputs": [],
   "source": [
    "import numpy as np"
   ]
  },
  {
   "cell_type": "markdown",
   "metadata": {},
   "source": [
    "#### Podemos definir arrays a partir de listas"
   ]
  },
  {
   "cell_type": "code",
   "execution_count": null,
   "metadata": {},
   "outputs": [],
   "source": [
    "arr = np.array([10, 11, 12, 13, 14, 15, 16, 17, 18, 19])\n",
    "print(type(arr))"
   ]
  },
  {
   "cell_type": "code",
   "execution_count": null,
   "metadata": {},
   "outputs": [],
   "source": [
    "lista = [10, 11, 12, 13, 14, 15, 16, 17, 18, 19]\n",
    "arr = np.array(lista)"
   ]
  },
  {
   "cell_type": "markdown",
   "metadata": {},
   "source": [
    "#### Los arrays y las listas se comportan diferente frente operaciones matematicas con números"
   ]
  },
  {
   "cell_type": "code",
   "execution_count": null,
   "metadata": {},
   "outputs": [],
   "source": [
    "#print(lista + 2) # da error\n",
    "print(arr + 2) # suma 2 a cada elemento"
   ]
  },
  {
   "cell_type": "code",
   "execution_count": null,
   "metadata": {},
   "outputs": [],
   "source": [
    "print(lista * 2) # duplica la lista\n",
    "print(arr * 2) # multiplica por dos cada elemento"
   ]
  },
  {
   "cell_type": "markdown",
   "metadata": {},
   "source": [
    "#### Los arrays y las listas se comportan diferente frente a operaciones con otros arrays/listas"
   ]
  },
  {
   "cell_type": "code",
   "execution_count": null,
   "metadata": {},
   "outputs": [],
   "source": [
    "lista1 = [1, 2, 3, 4, 5]\n",
    "lista2 = [5, 4, 3, 2, 1]\n",
    "\n",
    "arr1 = np.array(lista1)\n",
    "arr2 = np.array(lista2)"
   ]
  },
  {
   "cell_type": "code",
   "execution_count": null,
   "metadata": {},
   "outputs": [],
   "source": [
    "print('suma de listas =', lista1 + lista2) # concatena (une) las dos listas\n",
    "print('suma de arreglos =', arr1 + arr2) # suma los elementos de cada arreglo"
   ]
  },
  {
   "cell_type": "code",
   "execution_count": null,
   "metadata": {},
   "outputs": [],
   "source": [
    "#print(lista1 * lista2) # da error\n",
    "print('multiplicación de arreglos =', arr1 * arr2) # multiplica los elementos de cada arreglo"
   ]
  },
  {
   "cell_type": "code",
   "execution_count": null,
   "metadata": {},
   "outputs": [],
   "source": [
    "print('resta =', arr1 - arr2)\n",
    "print('division =', arr1 / arr2)\n",
    "print('exponenciacion =', arr1 ** arr2)\n",
    "print('combinacion de operaciones =', (arr1 - arr2)/(arr1 + arr2) * arr1)"
   ]
  },
  {
   "cell_type": "markdown",
   "metadata": {},
   "source": [
    "#### Para arrays1d la indexación funciona igual que para las listas"
   ]
  },
  {
   "cell_type": "code",
   "execution_count": null,
   "metadata": {},
   "outputs": [],
   "source": [
    "lista = [10, 11, 12, 13, 14, 15, 16, 17, 18, 19]\n",
    "arr = np.array(lista)"
   ]
  },
  {
   "cell_type": "code",
   "execution_count": null,
   "metadata": {},
   "outputs": [],
   "source": [
    "print(lista[0], arr[0]) # devuelve el 1er elemento\n",
    "print(lista[4], arr[4]) # devuelve el 5to elemento\n",
    "print(lista[:3], arr[:3])\n",
    "print(lista[1:7], arr[1:7])\n",
    "print(lista[3:], arr[3:])\n",
    "print(lista[-1], arr[-1])\n",
    "print(lista[:-1], arr[:-1])\n",
    "print(lista[::-1], arr[::-1])"
   ]
  },
  {
   "cell_type": "code",
   "execution_count": null,
   "metadata": {},
   "outputs": [],
   "source": [
    "lista[2:5] = [22, 23, 24]\n",
    "arr[2:5] = [22, 23, 24]\n",
    "print(lista)\n",
    "print(arr)"
   ]
  },
  {
   "cell_type": "markdown",
   "metadata": {},
   "source": [
    "# Arreglos multidimensionales"
   ]
  },
  {
   "cell_type": "markdown",
   "metadata": {},
   "source": [
    "#### Las listas son cadenas unidimensionales de elementos. Los arreglos pueden ser multidimensionales"
   ]
  },
  {
   "cell_type": "code",
   "execution_count": null,
   "metadata": {},
   "outputs": [],
   "source": [
    "lista = [[0, 1, 3], [3, 4, 5]]\n",
    "array_2d = np.array(lista)\n",
    "array_2d"
   ]
  },
  {
   "cell_type": "code",
   "execution_count": null,
   "metadata": {},
   "outputs": [],
   "source": [
    "print(array_2d.ndim)"
   ]
  },
  {
   "cell_type": "code",
   "execution_count": null,
   "metadata": {},
   "outputs": [],
   "source": [
    "print(array_2d.shape)"
   ]
  },
  {
   "cell_type": "code",
   "execution_count": null,
   "metadata": {},
   "outputs": [],
   "source": [
    "print(array_2d.size)"
   ]
  },
  {
   "cell_type": "markdown",
   "metadata": {},
   "source": [
    "#### En scikit-learn array_2d=(samples, features)"
   ]
  },
  {
   "cell_type": "markdown",
   "metadata": {},
   "source": [
    "#### **Desafío:** armar un array 3d a partir de una lista de listas <br>\n",
    "#### Queremos que *array3d.ndim==3* devuelva *True*"
   ]
  },
  {
   "cell_type": "code",
   "execution_count": null,
   "metadata": {},
   "outputs": [],
   "source": [
    "lista = [[0, 1], [2, 3]]\n",
    "lista = [lista, lista]\n",
    "arr3d = np.array(lista)\n",
    "print(arr3d.shape)"
   ]
  },
  {
   "cell_type": "code",
   "execution_count": null,
   "metadata": {},
   "outputs": [],
   "source": [
    "print(arr2d[0, 1])\n",
    "#print(arr3d[0, 1, 1])\n",
    "#print(arr3d[0, 1, :])\n",
    "#print(arr3d[0, 1, :2])\n",
    "#print(arr3d[0, :, :1])\n",
    "#print(arr3d[0, 1, -1])"
   ]
  },
  {
   "cell_type": "code",
   "execution_count": null,
   "metadata": {},
   "outputs": [],
   "source": [
    "arr = np.array([1, 2, 3, 4, 5, 6])\n",
    "print(arr)\n",
    "print(arr.reshape(2, 3))"
   ]
  },
  {
   "cell_type": "markdown",
   "metadata": {},
   "source": [
    "# Creación de arreglos"
   ]
  },
  {
   "cell_type": "code",
   "execution_count": null,
   "metadata": {},
   "outputs": [],
   "source": [
    "# print(np.zeros(10))\n",
    "# print(np.zeros((3, 2)))\n",
    "# print(np.zeros((10, 5)))\n",
    "print(np.zeros((2, 2, 2)))"
   ]
  },
  {
   "cell_type": "code",
   "execution_count": null,
   "metadata": {},
   "outputs": [],
   "source": [
    "# np.ones(10)\n",
    "# np.ones((3, 2))\n",
    "# np.ones((10, 5))\n",
    "# np.ones((2, 2, 2))"
   ]
  },
  {
   "cell_type": "code",
   "execution_count": null,
   "metadata": {},
   "outputs": [],
   "source": [
    "print(np.random.rand(10), '\\n')\n",
    "print(np.random.rand(3, 2), '\\n')\n",
    "print(np.random.rand(10, 5), '\\n')\n",
    "print(np.random.rand(2, 2, 2))"
   ]
  },
  {
   "cell_type": "code",
   "execution_count": null,
   "metadata": {},
   "outputs": [],
   "source": [
    "print(np.random.randn(10), '\\n')\n",
    "print(np.random.randn(3, 2), '\\n')\n",
    "print(np.random.randn(10, 5), '\\n')\n",
    "print(np.random.randn(2, 2, 2))"
   ]
  },
  {
   "cell_type": "code",
   "execution_count": null,
   "metadata": {},
   "outputs": [],
   "source": [
    "np.random.randint(5)"
   ]
  },
  {
   "cell_type": "code",
   "execution_count": null,
   "metadata": {},
   "outputs": [],
   "source": [
    "print(np.random.randint(10, size=10), '\\n')\n",
    "print(np.random.randint(10, size=(3, 3)), '\\n')"
   ]
  },
  {
   "cell_type": "code",
   "execution_count": null,
   "metadata": {},
   "outputs": [],
   "source": [
    "# np.arange(10)\n",
    "# np.arange(0, 10, 1) # start, stop, step\n",
    "np.arange(2, 16, 2)\n",
    "np.arange(0, 10, .1)"
   ]
  },
  {
   "cell_type": "code",
   "execution_count": null,
   "metadata": {},
   "outputs": [],
   "source": [
    "np.linspace(0, 10, 11) # start, stop, length\n",
    "np.linspace(0, 10, 101)"
   ]
  },
  {
   "cell_type": "code",
   "execution_count": null,
   "metadata": {},
   "outputs": [],
   "source": [
    "np.append(np.zeros(5), 1.)\n",
    "# np.append(np.zeros(5), np.ones(5))\n",
    "# np.concatenate((np.zeros(5), np.ones(5), np.arange(5)))\n",
    "# np.stack((np.zeros(5), np.ones(5)), axis=0)\n",
    "# np.stack((np.zeros(5), np.ones(5)), axis=1)"
   ]
  },
  {
   "cell_type": "code",
   "execution_count": null,
   "metadata": {},
   "outputs": [],
   "source": [
    "# print(np.nan, np.inf)\n",
    "# print(np.exp(1000))\n",
    "np.zeros((10, 10)) * np.nan"
   ]
  },
  {
   "cell_type": "markdown",
   "metadata": {},
   "source": [
    "**Desafío:** crear un array 1d de longitud 10 que tenga el número 5 en todas sus posiciones <br>\n",
    "**Desafío:** crear un array 1d que tenga todos los números del 1 al 40 pero con todos los pares primero y los impares después <br>\n",
    "**Desafío usando google:** crear un array 1d de longitud 20 que tenga los números del 1 al 20 desordenados <br>"
   ]
  },
  {
   "cell_type": "code",
   "execution_count": null,
   "metadata": {},
   "outputs": [],
   "source": [
    "#np.ones(10) * 5\n",
    "np.append(np.arange(2, 42, 2), np.arange(1, 40, 2))"
   ]
  },
  {
   "cell_type": "markdown",
   "metadata": {},
   "source": [
    "# Funciones"
   ]
  },
  {
   "cell_type": "markdown",
   "metadata": {},
   "source": [
    "## Promedio o media\n",
    "$$\n",
    "X = (x_1, x_2,...,x_N)\n",
    "$$\n",
    "\n",
    "$$\n",
    "\\bar{x}=\\frac{1}{N}\\sum_{n=1}^{N} x_n\n",
    "$$\n",
    "\n",
    "#### Valor esperado"
   ]
  },
  {
   "cell_type": "code",
   "execution_count": 4,
   "metadata": {},
   "outputs": [
    {
     "name": "stdout",
     "output_type": "stream",
     "text": [
      "[4. 4. 4. 4. 4. 4. 4.]\n",
      "4.0\n"
     ]
    }
   ],
   "source": [
    "X = np.ones(7) * 4\n",
    "print(X)\n",
    "print(np.mean(X))"
   ]
  },
  {
   "cell_type": "code",
   "execution_count": 5,
   "metadata": {},
   "outputs": [
    {
     "name": "stdout",
     "output_type": "stream",
     "text": [
      "[5 6 3 4 2]\n",
      "4.0\n"
     ]
    }
   ],
   "source": [
    "X = np.arange(2, 7)\n",
    "np.random.shuffle(X)\n",
    "print(X)\n",
    "print(np.mean(X))"
   ]
  },
  {
   "cell_type": "code",
   "execution_count": null,
   "metadata": {},
   "outputs": [],
   "source": [
    "X = np.arange(1, 8)\n",
    "print(X)\n",
    "print(np.mean(X))"
   ]
  },
  {
   "cell_type": "code",
   "execution_count": null,
   "metadata": {},
   "outputs": [],
   "source": [
    "X = np.arange(1, 10).reshape(3, 3)\n",
    "print(X, '\\n')\n",
    "print(np.mean(X, 0), '\\n') # o np.mean(X, axis=0)\n",
    "print(np.mean(X, 1)) # o np.mean(X, axis=1)"
   ]
  },
  {
   "cell_type": "code",
   "execution_count": null,
   "metadata": {},
   "outputs": [],
   "source": [
    "np.mean?"
   ]
  },
  {
   "cell_type": "markdown",
   "metadata": {},
   "source": [
    "## Varianza\n",
    "$$\n",
    "\\sigma_x=\\frac{1}{N}\\sum_{n=1}^{N} (x_n - \\bar{x})^2\n",
    "$$\n",
    "\n",
    "#### Mide la dispersión de los valores alrededor de la media"
   ]
  },
  {
   "cell_type": "code",
   "execution_count": null,
   "metadata": {},
   "outputs": [],
   "source": [
    "X = np.ones(7) * 4\n",
    "print(X)\n",
    "print(np.var(X))"
   ]
  },
  {
   "cell_type": "code",
   "execution_count": null,
   "metadata": {},
   "outputs": [],
   "source": [
    "X = np.arange(2, 7)\n",
    "print(X)\n",
    "print(np.var(X))"
   ]
  },
  {
   "cell_type": "code",
   "execution_count": null,
   "metadata": {},
   "outputs": [],
   "source": [
    "X = np.arange(1, 8)\n",
    "print(X)\n",
    "print(np.var(X))"
   ]
  },
  {
   "cell_type": "code",
   "execution_count": null,
   "metadata": {},
   "outputs": [],
   "source": [
    "X = np.arange(1, 10).reshape(3, 3)\n",
    "print(X, '\\n')\n",
    "print(np.var(X, 0), '\\n') # o np.var(X, axis=0)\n",
    "print(np.var(X, 1)) # o np.var(X, axis=1)"
   ]
  },
  {
   "cell_type": "markdown",
   "metadata": {},
   "source": [
    "Otras"
   ]
  },
  {
   "cell_type": "code",
   "execution_count": 6,
   "metadata": {},
   "outputs": [
    {
     "name": "stdout",
     "output_type": "stream",
     "text": [
      "[-3 -2 -1  0  1  2  3]\n",
      "-3\n",
      "3\n",
      "0\n"
     ]
    }
   ],
   "source": [
    "X = np.arange(-3, 4)\n",
    "print(X)\n",
    "print(np.min(X))\n",
    "print(np.max(X))\n",
    "print(np.sum(X))\n",
    "# también funcionan con axis"
   ]
  },
  {
   "cell_type": "code",
   "execution_count": null,
   "metadata": {},
   "outputs": [],
   "source": [
    "X = np.arange(-3, 4)\n",
    "print(np.abs(X))\n",
    "print(np.sign(X))"
   ]
  },
  {
   "cell_type": "code",
   "execution_count": null,
   "metadata": {},
   "outputs": [],
   "source": [
    "X = np.arange(1, 8)\n",
    "np.random.shuffle(X)\n",
    "print(X)\n",
    "arg_min = np.argmin(X)\n",
    "arg_max = np.argmax(X)\n",
    "print(arg_min, X[arg_min])\n",
    "print(arg_max, X[arg_max])"
   ]
  },
  {
   "cell_type": "code",
   "execution_count": null,
   "metadata": {},
   "outputs": [],
   "source": [
    "X = np.arange(1, 8) + 0.7\n",
    "print(X)\n",
    "print(np.round(X, 0))"
   ]
  },
  {
   "cell_type": "markdown",
   "metadata": {},
   "source": [
    "# Máscaras booleanas"
   ]
  },
  {
   "cell_type": "code",
   "execution_count": null,
   "metadata": {},
   "outputs": [],
   "source": [
    "arr = np.array([0., 1.])\n",
    "mask = np.array([True, False])\n",
    "print(mask)\n",
    "print(mask.dtype)\n",
    "print(arr)\n",
    "print(arr.dtype)"
   ]
  },
  {
   "cell_type": "code",
   "execution_count": null,
   "metadata": {},
   "outputs": [],
   "source": [
    "arr = np.arange(10)\n",
    "print(arr)\n",
    "print(arr > 3)\n",
    "print(~(arr > 3))\n",
    "print((arr > 3) & (arr < 8))\n",
    "print((arr < 3) | (arr > 8))"
   ]
  },
  {
   "cell_type": "markdown",
   "metadata": {},
   "source": [
    "#### Puedo filtrar datos"
   ]
  },
  {
   "cell_type": "code",
   "execution_count": null,
   "metadata": {},
   "outputs": [],
   "source": [
    "arr = np.array([5., 10.])\n",
    "mask = np.array([True, False])\n",
    "print(arr[mask])"
   ]
  },
  {
   "cell_type": "code",
   "execution_count": null,
   "metadata": {},
   "outputs": [],
   "source": [
    "arr = np.arange(10)\n",
    "mask = (arr > 3) & (arr < 8)\n",
    "print(arr[mask])"
   ]
  },
  {
   "cell_type": "markdown",
   "metadata": {},
   "source": [
    "#### Devuelvo siempre un array 1d"
   ]
  },
  {
   "cell_type": "code",
   "execution_count": null,
   "metadata": {},
   "outputs": [],
   "source": [
    "arr = np.arange(10).reshape(2, 5)\n",
    "mask = (arr > 3) & (arr < 8)\n",
    "print(arr)\n",
    "print(arr[mask])"
   ]
  },
  {
   "cell_type": "markdown",
   "metadata": {},
   "source": [
    "#### Puedo usar *np.zeros* y *np.ones* para crear arrays de False y True"
   ]
  },
  {
   "cell_type": "code",
   "execution_count": null,
   "metadata": {},
   "outputs": [],
   "source": [
    "np.zeros(10, dtype=bool)\n",
    "# np.ones(10, dtype=bool)"
   ]
  },
  {
   "cell_type": "markdown",
   "metadata": {},
   "source": [
    "#### np.any y np.all"
   ]
  },
  {
   "cell_type": "code",
   "execution_count": null,
   "metadata": {},
   "outputs": [],
   "source": [
    "mask = np.zeros(10, dtype=bool)\n",
    "print(mask, '  any=', np.any(mask))\n",
    "mask[5] = True\n",
    "print(mask, '  any=', np.any(mask))"
   ]
  },
  {
   "cell_type": "code",
   "execution_count": null,
   "metadata": {},
   "outputs": [],
   "source": [
    "mask = np.ones(10, dtype=bool)\n",
    "print(mask, '  all=', np.all(mask))\n",
    "mask[5] = False\n",
    "print(mask, '  all=', np.all(mask))"
   ]
  },
  {
   "cell_type": "code",
   "execution_count": null,
   "metadata": {},
   "outputs": [],
   "source": [
    "mask = np.array(np.random.randint(2, size=(3, 3)), dtype=bool)\n",
    "print(mask, '\\n')\n",
    "print(np.all(mask, 0), '\\n')\n",
    "print(np.all(mask, 1))"
   ]
  },
  {
   "cell_type": "code",
   "execution_count": null,
   "metadata": {},
   "outputs": [],
   "source": [
    "mask = np.array(np.random.randint(2, size=10), dtype=bool)\n",
    "print(mask, '\\n')\n",
    "print(np.where(mask), '\\n')"
   ]
  },
  {
   "cell_type": "code",
   "execution_count": null,
   "metadata": {},
   "outputs": [],
   "source": [
    "mask = np.array(np.random.randint(2, size=(3, 3)), dtype=bool)\n",
    "print(mask, '\\n')\n",
    "print(np.where(mask), '\\n')"
   ]
  },
  {
   "cell_type": "markdown",
   "metadata": {},
   "source": [
    "# Ejercicios"
   ]
  },
  {
   "cell_type": "markdown",
   "metadata": {},
   "source": [
    "1. Crear un arreglo de ceros de longitud 12\n",
    "2. Crear un arreglo de longitud 10 con ceros en todas sus posiciones y un 10 en la posición número 5\n",
    "3. Crear un arreglo que tenga los números del 10 al 49\n",
    "4. Crear una arreglo 2d de shape (3, 3) que tenga los números del 0 al 8\n",
    "5. Crear un arreglo de números aleatorios de longitud 100 y obtener su media y varianza\n",
    "6. Calcular la media de un arreglo usando np.sum\n",
    "7. Calcular la varianza de un arreglo usando np.sum y np.mean\n",
    "8. Crear un array de números aleatorios usando np.random.randn y llenar con ceros todas las posiciones menores a 0 usando una máscara\n",
    "9. Crear el array np.arange(10) e insertar el número 0 en todos los valores pares usando una máscara\n",
    "10. Crear un arreglo de números aleatorios de longitud 10. Hallar el valor mínimo y reemplazarlo por 0"
   ]
  }
 ],
 "metadata": {
  "kernelspec": {
   "display_name": "Python 3",
   "language": "python",
   "name": "python3"
  },
  "language_info": {
   "codemirror_mode": {
    "name": "ipython",
    "version": 3
   },
   "file_extension": ".py",
   "mimetype": "text/x-python",
   "name": "python",
   "nbconvert_exporter": "python",
   "pygments_lexer": "ipython3",
   "version": "3.7.3"
  }
 },
 "nbformat": 4,
 "nbformat_minor": 2
}
