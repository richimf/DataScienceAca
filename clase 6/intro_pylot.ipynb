{
 "cells": [
  {
   "cell_type": "markdown",
   "metadata": {},
   "source": [
    "# Explorando pandas"
   ]
  },
  {
   "cell_type": "code",
   "execution_count": 47,
   "metadata": {},
   "outputs": [],
   "source": [
    "import numpy as np #importo numpy\n",
    "import pandas as pd #importo pandas\n",
    "# Le indica a jupyter que generen las figuras dentro del notebook\n",
    "%matplotlib inline \n",
    "import matplotlib.pyplot as plt #importo matplotlib\n",
    "np.set_printoptions(precision=3)\n"
   ]
  },
  {
   "cell_type": "code",
   "execution_count": 48,
   "metadata": {},
   "outputs": [
    {
     "data": {
      "text/html": [
       "<div>\n",
       "<style scoped>\n",
       "    .dataframe tbody tr th:only-of-type {\n",
       "        vertical-align: middle;\n",
       "    }\n",
       "\n",
       "    .dataframe tbody tr th {\n",
       "        vertical-align: top;\n",
       "    }\n",
       "\n",
       "    .dataframe thead th {\n",
       "        text-align: right;\n",
       "    }\n",
       "</style>\n",
       "<table border=\"1\" class=\"dataframe\">\n",
       "  <thead>\n",
       "    <tr style=\"text-align: right;\">\n",
       "      <th></th>\n",
       "      <th>demanda_total</th>\n",
       "      <th>demanda_residencial</th>\n",
       "      <th>comercio_e_industria</th>\n",
       "      <th>grandes_usuarios</th>\n",
       "      <th>temperatura_promedio</th>\n",
       "      <th>potencia_maxima</th>\n",
       "      <th>ede_tucuman</th>\n",
       "      <th>edelap_sa</th>\n",
       "      <th>edenor_distribuidor</th>\n",
       "      <th>edesal_distribuidor</th>\n",
       "      <th>...</th>\n",
       "      <th>energia_de_entre_rios_sa</th>\n",
       "      <th>energia_de_mendoza_sa</th>\n",
       "      <th>energia_san_juan_sa_exedessa</th>\n",
       "      <th>epec_distribuidor</th>\n",
       "      <th>epen_distribuidor</th>\n",
       "      <th>epesf_distribuidor</th>\n",
       "      <th>recursos_y_energia_formosa_sa</th>\n",
       "      <th>secheep</th>\n",
       "      <th>spse_santa_cruz</th>\n",
       "      <th>mes</th>\n",
       "    </tr>\n",
       "    <tr>\n",
       "      <th>indice_tiempo</th>\n",
       "      <th></th>\n",
       "      <th></th>\n",
       "      <th></th>\n",
       "      <th></th>\n",
       "      <th></th>\n",
       "      <th></th>\n",
       "      <th></th>\n",
       "      <th></th>\n",
       "      <th></th>\n",
       "      <th></th>\n",
       "      <th></th>\n",
       "      <th></th>\n",
       "      <th></th>\n",
       "      <th></th>\n",
       "      <th></th>\n",
       "      <th></th>\n",
       "      <th></th>\n",
       "      <th></th>\n",
       "      <th></th>\n",
       "      <th></th>\n",
       "      <th></th>\n",
       "    </tr>\n",
       "  </thead>\n",
       "  <tbody>\n",
       "    <tr>\n",
       "      <th>2001</th>\n",
       "      <td>6866.26</td>\n",
       "      <td>NaN</td>\n",
       "      <td>NaN</td>\n",
       "      <td>NaN</td>\n",
       "      <td>25.432</td>\n",
       "      <td>13501.0</td>\n",
       "      <td>NaN</td>\n",
       "      <td>NaN</td>\n",
       "      <td>NaN</td>\n",
       "      <td>NaN</td>\n",
       "      <td>...</td>\n",
       "      <td>NaN</td>\n",
       "      <td>NaN</td>\n",
       "      <td>NaN</td>\n",
       "      <td>NaN</td>\n",
       "      <td>NaN</td>\n",
       "      <td>NaN</td>\n",
       "      <td>NaN</td>\n",
       "      <td>NaN</td>\n",
       "      <td>NaN</td>\n",
       "      <td>01</td>\n",
       "    </tr>\n",
       "    <tr>\n",
       "      <th>2001</th>\n",
       "      <td>6473.10</td>\n",
       "      <td>NaN</td>\n",
       "      <td>NaN</td>\n",
       "      <td>NaN</td>\n",
       "      <td>25.596</td>\n",
       "      <td>14061.0</td>\n",
       "      <td>NaN</td>\n",
       "      <td>NaN</td>\n",
       "      <td>NaN</td>\n",
       "      <td>NaN</td>\n",
       "      <td>...</td>\n",
       "      <td>NaN</td>\n",
       "      <td>NaN</td>\n",
       "      <td>NaN</td>\n",
       "      <td>NaN</td>\n",
       "      <td>NaN</td>\n",
       "      <td>NaN</td>\n",
       "      <td>NaN</td>\n",
       "      <td>NaN</td>\n",
       "      <td>NaN</td>\n",
       "      <td>02</td>\n",
       "    </tr>\n",
       "    <tr>\n",
       "      <th>2001</th>\n",
       "      <td>6952.30</td>\n",
       "      <td>NaN</td>\n",
       "      <td>NaN</td>\n",
       "      <td>NaN</td>\n",
       "      <td>22.852</td>\n",
       "      <td>13780.0</td>\n",
       "      <td>NaN</td>\n",
       "      <td>NaN</td>\n",
       "      <td>NaN</td>\n",
       "      <td>NaN</td>\n",
       "      <td>...</td>\n",
       "      <td>NaN</td>\n",
       "      <td>NaN</td>\n",
       "      <td>NaN</td>\n",
       "      <td>NaN</td>\n",
       "      <td>NaN</td>\n",
       "      <td>NaN</td>\n",
       "      <td>NaN</td>\n",
       "      <td>NaN</td>\n",
       "      <td>NaN</td>\n",
       "      <td>03</td>\n",
       "    </tr>\n",
       "    <tr>\n",
       "      <th>2001</th>\n",
       "      <td>6183.35</td>\n",
       "      <td>NaN</td>\n",
       "      <td>NaN</td>\n",
       "      <td>NaN</td>\n",
       "      <td>18.317</td>\n",
       "      <td>12866.0</td>\n",
       "      <td>NaN</td>\n",
       "      <td>NaN</td>\n",
       "      <td>NaN</td>\n",
       "      <td>NaN</td>\n",
       "      <td>...</td>\n",
       "      <td>NaN</td>\n",
       "      <td>NaN</td>\n",
       "      <td>NaN</td>\n",
       "      <td>NaN</td>\n",
       "      <td>NaN</td>\n",
       "      <td>NaN</td>\n",
       "      <td>NaN</td>\n",
       "      <td>NaN</td>\n",
       "      <td>NaN</td>\n",
       "      <td>04</td>\n",
       "    </tr>\n",
       "    <tr>\n",
       "      <th>2001</th>\n",
       "      <td>6668.94</td>\n",
       "      <td>NaN</td>\n",
       "      <td>NaN</td>\n",
       "      <td>NaN</td>\n",
       "      <td>14.306</td>\n",
       "      <td>12968.0</td>\n",
       "      <td>NaN</td>\n",
       "      <td>NaN</td>\n",
       "      <td>NaN</td>\n",
       "      <td>NaN</td>\n",
       "      <td>...</td>\n",
       "      <td>NaN</td>\n",
       "      <td>NaN</td>\n",
       "      <td>NaN</td>\n",
       "      <td>NaN</td>\n",
       "      <td>NaN</td>\n",
       "      <td>NaN</td>\n",
       "      <td>NaN</td>\n",
       "      <td>NaN</td>\n",
       "      <td>NaN</td>\n",
       "      <td>05</td>\n",
       "    </tr>\n",
       "  </tbody>\n",
       "</table>\n",
       "<p>5 rows × 30 columns</p>\n",
       "</div>"
      ],
      "text/plain": [
       "               demanda_total  demanda_residencial  comercio_e_industria  \\\n",
       "indice_tiempo                                                             \n",
       "2001                 6866.26                  NaN                   NaN   \n",
       "2001                 6473.10                  NaN                   NaN   \n",
       "2001                 6952.30                  NaN                   NaN   \n",
       "2001                 6183.35                  NaN                   NaN   \n",
       "2001                 6668.94                  NaN                   NaN   \n",
       "\n",
       "               grandes_usuarios  temperatura_promedio  potencia_maxima  \\\n",
       "indice_tiempo                                                            \n",
       "2001                        NaN                25.432          13501.0   \n",
       "2001                        NaN                25.596          14061.0   \n",
       "2001                        NaN                22.852          13780.0   \n",
       "2001                        NaN                18.317          12866.0   \n",
       "2001                        NaN                14.306          12968.0   \n",
       "\n",
       "               ede_tucuman  edelap_sa  edenor_distribuidor  \\\n",
       "indice_tiempo                                                \n",
       "2001                   NaN        NaN                  NaN   \n",
       "2001                   NaN        NaN                  NaN   \n",
       "2001                   NaN        NaN                  NaN   \n",
       "2001                   NaN        NaN                  NaN   \n",
       "2001                   NaN        NaN                  NaN   \n",
       "\n",
       "               edesal_distribuidor ...   energia_de_entre_rios_sa  \\\n",
       "indice_tiempo                      ...                              \n",
       "2001                           NaN ...                        NaN   \n",
       "2001                           NaN ...                        NaN   \n",
       "2001                           NaN ...                        NaN   \n",
       "2001                           NaN ...                        NaN   \n",
       "2001                           NaN ...                        NaN   \n",
       "\n",
       "               energia_de_mendoza_sa  energia_san_juan_sa_exedessa  \\\n",
       "indice_tiempo                                                        \n",
       "2001                             NaN                           NaN   \n",
       "2001                             NaN                           NaN   \n",
       "2001                             NaN                           NaN   \n",
       "2001                             NaN                           NaN   \n",
       "2001                             NaN                           NaN   \n",
       "\n",
       "               epec_distribuidor  epen_distribuidor  epesf_distribuidor  \\\n",
       "indice_tiempo                                                             \n",
       "2001                         NaN                NaN                 NaN   \n",
       "2001                         NaN                NaN                 NaN   \n",
       "2001                         NaN                NaN                 NaN   \n",
       "2001                         NaN                NaN                 NaN   \n",
       "2001                         NaN                NaN                 NaN   \n",
       "\n",
       "               recursos_y_energia_formosa_sa  secheep  spse_santa_cruz  mes  \n",
       "indice_tiempo                                                                \n",
       "2001                                     NaN      NaN              NaN   01  \n",
       "2001                                     NaN      NaN              NaN   02  \n",
       "2001                                     NaN      NaN              NaN   03  \n",
       "2001                                     NaN      NaN              NaN   04  \n",
       "2001                                     NaN      NaN              NaN   05  \n",
       "\n",
       "[5 rows x 30 columns]"
      ]
     },
     "execution_count": 48,
     "metadata": {},
     "output_type": "execute_result"
    }
   ],
   "source": [
    "data_mensual = pd.read_csv('elect_mens.csv', delimiter=',')\n",
    "year = data_mensual['indice_tiempo'].str[:4]\n",
    "month = data_mensual['indice_tiempo'].str[5:7]\n",
    "\n",
    "data_mensual['mes'] = month\n",
    "data_mensual.index = year\n",
    "data_mensual.drop('indice_tiempo', axis=1, inplace=True)\n",
    "data_mensual.head()\n",
    "\n",
    "\n"
   ]
  },
  {
   "cell_type": "markdown",
   "metadata": {},
   "source": [
    "#### Habiamos visto que una forma de generar un histograma era con la funcion plt.hist()"
   ]
  },
  {
   "cell_type": "code",
   "execution_count": 49,
   "metadata": {
    "scrolled": true
   },
   "outputs": [
    {
     "name": "stdout",
     "output_type": "stream",
     "text": [
      "[25.432 25.596 22.852 18.317 14.306 12.94  11.542 15.055 14.69  18.074\n",
      " 20.007 23.013 24.903 23.252 22.18  17.463 16.432 10.7   11.469 14.242\n",
      " 14.787 19.9   21.39  22.758 23.81  23.296 22.403 17.387 15.284 13.043\n",
      " 11.081 12.068 14.623 18.955 20.303 21.539 25.071 23.186 23.555 19.9\n",
      " 13.3   13.4   12.4   13.8   16.1   17.5   19.8   23.3   25.872 25.593\n",
      " 21.237 17.223 14.939 14.3   12.4   13.    14.3   17.2   22.    22.3\n",
      " 24.6   24.3   20.6   19.1   14.1   13.2   14.3   12.4   15.6   19.8\n",
      " 20.5   24.4   24.6   24.6   22.2   18.8   12.7   10.9    9.3   10.1\n",
      " 17.    19.2   18.8   23.6   25.6   25.3   22.1   19.    15.7   11.8\n",
      " 14.3   13.    14.6   18.1   24.8   24.3   25.8   24.6   23.6   19.6\n",
      " 16.4   11.6   10.8   15.6   13.6   17.7   21.1   22.6   26.1   24.2\n",
      " 23.1   17.2   15.2   12.5   10.7   11.9   15.3   17.2   20.9   22.5\n",
      " 25.8   24.    22.5   18.9   14.8   12.1   11.2   11.5   16.2   17.3\n",
      " 22.6   22.9   26.2   24.8   21.7   18.1   16.9   12.2    9.9   13.7\n",
      " 15.6   18.3   22.4   24.5   25.1   24.1   20.3   19.1   15.    12.8\n",
      " 12.    12.7   14.4   18.5   21.1   27.    25.9   23.    20.7   18.3\n",
      " 15.    12.4   12.4   15.3   16.    20.2   20.9   23.4   24.3   24.7\n",
      " 22.9   20.6   16.8   13.5   12.7   15.    14.6   15.9   20.2   24.8\n",
      " 26.1   26.1   21.2   17.3   12.6   10.6   11.    13.8   14.3   17.8\n",
      " 21.1   25.3   25.7   25.4   22.4   18.9   15.9   13.7   13.4   15.2\n",
      " 15.9   18.2   20.6   24.7   26.1   25.2   22.4   22.1   16.6   11.3\n",
      " 10.8   12.4   17.5   17.8   21.4   22.4  ]\n"
     ]
    },
    {
     "data": {
      "image/png": "[encoded data removed]",
      "text/plain": [
       "<Figure size 432x288 with 1 Axes>"
      ]
     },
     "metadata": {
      "needs_background": "light"
     },
     "output_type": "display_data"
    }
   ],
   "source": [
    "print(data_mensual.loc[:, 'temperatura_promedio'].values)\n",
    "plt.hist(data_mensual.loc[:, 'temperatura_promedio'].values,bins = 15)\n",
    "plt.show()"
   ]
  },
  {
   "cell_type": "code",
   "execution_count": 50,
   "metadata": {},
   "outputs": [
    {
     "name": "stdout",
     "output_type": "stream",
     "text": [
      "[ 1  2  3  4  5  6  7  8  9 10 11 12]\n",
      "[25.388 24.512 22.107 18.738 15.109 12.388 11.761 13.376 15.283 18.202\n",
      " 21.106 23.628]\n"
     ]
    }
   ],
   "source": [
    "mes = data_mensual.groupby('mes')['temperatura_promedio'].mean().index.values.astype(int)\n",
    "temp_media = data_mensual.groupby('mes')['temperatura_promedio'].mean().values\n",
    "\n",
    "print(mes)\n",
    "print(temp_media)"
   ]
  },
  {
   "cell_type": "markdown",
   "metadata": {},
   "source": [
    "#### Pero hay más de una forma generar figuras con pyplot\n",
    "#### https://matplotlib.org/api/_as_gen/matplotlib.pyplot.plot.html\n",
    "<b>Noten que ademas de generar una figura, las funciones devuelven distintos objetos</b>"
   ]
  },
  {
   "cell_type": "code",
   "execution_count": 51,
   "metadata": {},
   "outputs": [
    {
     "data": {
      "text/plain": [
       "[<matplotlib.lines.Line2D at 0x2ab4672dba8>,\n",
       " <matplotlib.lines.Line2D at 0x2ab4672dd30>]"
      ]
     },
     "execution_count": 51,
     "metadata": {},
     "output_type": "execute_result"
    },
    {
     "data": {
      "image/png": "[encoded data removed]",
      "text/plain": [
       "<Figure size 432x288 with 1 Axes>"
      ]
     },
     "metadata": {
      "needs_background": "light"
     },
     "output_type": "display_data"
    }
   ],
   "source": [
    "# Llamando directamente al 'graficador':\n",
    "plt.plot(mes, temp_media, 'r', mes, -temp_media, 'k')\n",
    "# devuelve una lista (por eso estan los corchetes) de lineas (los objetos que están siendo dibujados)\n"
   ]
  },
  {
   "cell_type": "markdown",
   "metadata": {},
   "source": [
    "#### Creando solo una instancia de Axes (el lugar donde se generan los graficos) y ploteando en los Axes\n",
    "#### Cuando graficamos de a pares es mas facil modificar las propiedades de esa linea\n",
    "#### (Axes != Axis)"
   ]
  },
  {
   "cell_type": "code",
   "execution_count": 62,
   "metadata": {},
   "outputs": [
    {
     "name": "stdout",
     "output_type": "stream",
     "text": [
      "<class 'matplotlib.axes._subplots.AxesSubplot'>\n"
     ]
    },
    {
     "data": {
      "text/plain": [
       "[<matplotlib.lines.Line2D at 0x2ab44ff3438>]"
      ]
     },
     "execution_count": 62,
     "metadata": {},
     "output_type": "execute_result"
    },
    {
     "data": {
      "image/png": "[encoded data removed]",
      "text/plain": [
       "<Figure size 432x288 with 1 Axes>"
      ]
     },
     "metadata": {
      "needs_background": "light"
     },
     "output_type": "display_data"
    }
   ],
   "source": [
    "\n",
    "ax = plt.subplot()\n",
    "print(type(ax))\n",
    "ax.plot(mes, temp_media, color='g', linewidth=5, linestyle='-', marker='.',\n",
    "       markersize=30, markerfacecolor='k', markeredgecolor='r')"
   ]
  },
  {
   "cell_type": "markdown",
   "metadata": {},
   "source": [
    "## O por ultimo ( y el mas recomendado en general) creando una figura, poniendole axes, y graficando lineas o puntos"
   ]
  },
  {
   "cell_type": "code",
   "execution_count": 1,
   "metadata": {},
   "outputs": [
    {
     "ename": "NameError",
     "evalue": "name 'plt' is not defined",
     "output_type": "error",
     "traceback": [
      "\u001b[1;31m---------------------------------------------------------------------------\u001b[0m",
      "\u001b[1;31mNameError\u001b[0m                                 Traceback (most recent call last)",
      "\u001b[1;32m<ipython-input-1-55c4e57789ea>\u001b[0m in \u001b[0;36m<module>\u001b[1;34m\u001b[0m\n\u001b[0;32m      1\u001b[0m \u001b[1;33m\u001b[0m\u001b[0m\n\u001b[1;32m----> 2\u001b[1;33m \u001b[0mfig\u001b[0m \u001b[1;33m=\u001b[0m \u001b[0mplt\u001b[0m\u001b[1;33m.\u001b[0m\u001b[0mfigure\u001b[0m\u001b[1;33m(\u001b[0m\u001b[1;33m)\u001b[0m\u001b[1;33m\u001b[0m\u001b[0m\n\u001b[0m\u001b[0;32m      3\u001b[0m \u001b[0mprint\u001b[0m\u001b[1;33m(\u001b[0m\u001b[0mtype\u001b[0m\u001b[1;33m(\u001b[0m\u001b[0mfig\u001b[0m\u001b[1;33m)\u001b[0m\u001b[1;33m)\u001b[0m\u001b[1;33m\u001b[0m\u001b[0m\n\u001b[0;32m      4\u001b[0m \u001b[1;31m## add subplot subdivide la figura en dos espacios con numero de filas, numero de columnas, ubicacion\u001b[0m\u001b[1;33m\u001b[0m\u001b[1;33m\u001b[0m\u001b[0m\n\u001b[0;32m      5\u001b[0m \u001b[0max1\u001b[0m \u001b[1;33m=\u001b[0m \u001b[0mfig\u001b[0m\u001b[1;33m.\u001b[0m\u001b[0madd_subplot\u001b[0m\u001b[1;33m(\u001b[0m\u001b[1;36m121\u001b[0m\u001b[1;33m)\u001b[0m\u001b[1;33m\u001b[0m\u001b[0m\n",
      "\u001b[1;31mNameError\u001b[0m: name 'plt' is not defined"
     ]
    }
   ],
   "source": [
    "\n",
    "fig = plt.figure()\n",
    "print(type(fig))\n",
    "## add subplot subdivide la figura en dos espacios con numero de filas, numero de columnas, ubicacion\n",
    "ax1 = fig.add_subplot(121)\n",
    "ax2 = fig.add_subplot(122)\n",
    "\n",
    "# # Y hasta podriamos superponer axes \n",
    "# ax3 = fig.add_subplot(212)\n",
    "\n",
    "ax1.plot(mes, temp_media, color='g', linewidth=5, linestyle='-', marker='.',\n",
    "       markersize=30, markerfacecolor='k', markeredgecolor='r')"
   ]
  },
  {
   "cell_type": "markdown",
   "metadata": {},
   "source": [
    "#### Para todo lo graficado en el Notebook, como podemos ver queda en una celda y no podemos alterarlo en otro, tiene un poco menos de funcionalidad. Pero si sacamos las figuras como ventanas separadas se puede ver mejor como funciona"
   ]
  },
  {
   "cell_type": "code",
   "execution_count": 70,
   "metadata": {},
   "outputs": [
    {
     "name": "stdout",
     "output_type": "stream",
     "text": [
      "Available matplotlib backends: ['tk', 'gtk', 'gtk3', 'wx', 'qt4', 'qt5', 'qt', 'osx', 'nbagg', 'notebook', 'agg', 'svg', 'pdf', 'ps', 'inline', 'ipympl', 'widget']\n",
      "Warning: Cannot change to a different GUI toolkit: None. Using qt5 instead.\n"
     ]
    }
   ],
   "source": [
    "%matplotlib --list\n",
    "plt.switch_backend('agg')\n",
    "%matplotlib qt5\n",
    "%matplotlib agg"
   ]
  },
  {
   "cell_type": "code",
   "execution_count": 77,
   "metadata": {},
   "outputs": [
    {
     "name": "stdout",
     "output_type": "stream",
     "text": [
      "[<matplotlib.axes._subplots.AxesSubplot object at 0x000002AB444D4F98>\n",
      " <matplotlib.axes._subplots.AxesSubplot object at 0x000002AB4454F400>]\n",
      "[<matplotlib.axes._subplots.AxesSubplot object at 0x000002AB44576E80>\n",
      " <matplotlib.axes._subplots.AxesSubplot object at 0x000002AB445E7438>]\n"
     ]
    }
   ],
   "source": [
    "fig1, ax1 = plt.subplots(2,1)\n",
    "fig2, ax2 = plt.subplots(2,1)\n",
    "print(ax1)\n",
    "print(ax2)"
   ]
  },
  {
   "cell_type": "code",
   "execution_count": 78,
   "metadata": {},
   "outputs": [
    {
     "data": {
      "text/plain": [
       "[<matplotlib.lines.Line2D at 0x2ab444b8ac8>]"
      ]
     },
     "execution_count": 78,
     "metadata": {},
     "output_type": "execute_result"
    }
   ],
   "source": [
    "ax1[0].scatter(data_mensual['temperatura_promedio'], data_mensual['demanda_total'], color='g', s=1000, marker='$hola$')\n",
    "ax1[1].scatter(data_mensual['temperatura_promedio'], data_mensual['demanda_total'], color='g', s=500, marker='4')\n",
    "ax2[1].plot(mes, temp_media, color='g', linewidth=10, linestyle=':', marker='.',\n",
    "       markersize=30, markerfacecolor='r', markeredgecolor='b', label='temperatura media')"
   ]
  },
  {
   "cell_type": "code",
   "execution_count": 79,
   "metadata": {},
   "outputs": [
    {
     "data": {
      "text/plain": [
       "Text(0.5, 1.0, 'este es el titutlo del primer ax, segunda figura')"
      ]
     },
     "execution_count": 79,
     "metadata": {},
     "output_type": "execute_result"
    }
   ],
   "source": [
    "fig2.suptitle('Este es el titulo de la segunda figura')\n",
    "ax1[0].set_title('Este es el titulo del primer ax de la primer figura')\n",
    "ax1[0].legend()\n",
    "# el método legend() levanta las etiquetas de cada plot (labels) \n",
    "# y la incluye ya sea en el ax, o en la figura\n",
    "ax2[1].legend()\n",
    "fig2.legend()\n",
    "ax2[0].set_xlabel('puedo etiquetar el eje x')\n",
    "ax2[0].set_ylabel('puedo etiquetar el eje y')\n",
    "ax2[0].set_title('este es el titutlo del primer ax, segunda figura')"
   ]
  },
  {
   "cell_type": "code",
   "execution_count": 81,
   "metadata": {},
   "outputs": [],
   "source": [
    "## También puedo hacer que las figuras compartan los valores de los ejes\n",
    "\n",
    "# fig, ax = plt.subplots(4,1, sharex=True, sharey=True)\n",
    "fig, ax = plt.subplots(4,1, sharex=True, sharey=True)"
   ]
  },
  {
   "cell_type": "code",
   "execution_count": 82,
   "metadata": {},
   "outputs": [],
   "source": [
    "for i in range(ax.shape[0]):\n",
    "    year = str(2005 + i)    \n",
    "    ax[i].plot(data_mensual.loc[data_mensual.index==year, 'mes'], \n",
    "               data_mensual.loc[data_mensual.index==year, 'temperatura_promedio'], label=year, marker=4)\n",
    "    ax[i].grid()"
   ]
  },
  {
   "cell_type": "code",
   "execution_count": null,
   "metadata": {},
   "outputs": [],
   "source": []
  }
 ],
 "metadata": {
  "kernelspec": {
   "display_name": "Python 3",
   "language": "python",
   "name": "python3"
  },
  "language_info": {
   "codemirror_mode": {
    "name": "ipython",
    "version": 3
   },
   "file_extension": ".py",
   "mimetype": "text/x-python",
   "name": "python",
   "nbconvert_exporter": "python",
   "pygments_lexer": "ipython3",
   "version": "3.6.5"
  }
 },
 "nbformat": 4,
 "nbformat_minor": 2
}
