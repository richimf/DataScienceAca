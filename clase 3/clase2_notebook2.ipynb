{
 "cells": [
  {
   "cell_type": "markdown",
   "metadata": {
    "colab_type": "text",
    "id": "NeSTYL8g0Ec0"
   },
   "source": [
    "# if, for statements"
   ]
  },
  {
   "cell_type": "markdown",
   "metadata": {
    "colab_type": "text",
    "id": "pJlV3_L22n99"
   },
   "source": [
    "## If statement"
   ]
  },
  {
   "cell_type": "code",
   "execution_count": 1,
   "metadata": {
    "colab": {},
    "colab_type": "code",
    "id": "IuqeBLCl0uro"
   },
   "outputs": [
    {
     "name": "stdout",
     "output_type": "stream",
     "text": [
      "Corrí esta linea\n"
     ]
    }
   ],
   "source": [
    "if True:\n",
    "  print('Corrí esta linea')\n",
    "  \n",
    "if False:\n",
    "  print('Corro esta linea?')"
   ]
  },
  {
   "cell_type": "markdown",
   "metadata": {
    "colab_type": "text",
    "id": "D8w-uTCp1PM_"
   },
   "source": [
    "#### Ya vimos que escribir comparaciones devuelve su condicion de verdad"
   ]
  },
  {
   "cell_type": "code",
   "execution_count": 2,
   "metadata": {
    "colab": {},
    "colab_type": "code",
    "id": "5Tm0EmBt1IhV"
   },
   "outputs": [
    {
     "name": "stdout",
     "output_type": "stream",
     "text": [
      "Es 3<5? True\n",
      "Es 3>5? False\n"
     ]
    }
   ],
   "source": [
    "print('Es 3<5?', 3<5)\n",
    "print('Es 3>5?', 3>5)"
   ]
  },
  {
   "cell_type": "markdown",
   "metadata": {
    "colab_type": "text",
    "id": "qDtTtYt91m6H"
   },
   "source": [
    "#### Entonces las podemos evaluar con el if statement"
   ]
  },
  {
   "cell_type": "code",
   "execution_count": 3,
   "metadata": {
    "colab": {},
    "colab_type": "code",
    "id": "6l8GFmB_1u7X"
   },
   "outputs": [
    {
     "name": "stdout",
     "output_type": "stream",
     "text": [
      "3 es menor que 5\n",
      "3 no es mayor que 5\n"
     ]
    }
   ],
   "source": [
    "if 3 < 5:\n",
    "  print('3 es menor que 5')\n",
    "else:\n",
    "  print('3 no es menor que 5')\n",
    "  \n",
    "if 3 > 5:\n",
    "  print('3 es mayor que 5')\n",
    "else:\n",
    "  print('3 no es mayor que 5')\n",
    "  "
   ]
  },
  {
   "cell_type": "code",
   "execution_count": 4,
   "metadata": {},
   "outputs": [
    {
     "name": "stdout",
     "output_type": "stream",
     "text": [
      "3 es menor que 5\n"
     ]
    }
   ],
   "source": [
    "a = 3\n",
    "b = 5\n",
    "if a>b:\n",
    "    print(\"%i es mayor que %i\" % (a, b))\n",
    "elif a<b:\n",
    "    print(\"%i es menor que %i\" % (a, b))\n",
    "else:\n",
    "    print(\"%i no es ni menor ni mayor que %i, debe ser igual!\" % (a, b))\n",
    "    print(a==b)\n",
    "    "
   ]
  },
  {
   "cell_type": "markdown",
   "metadata": {
    "colab_type": "text",
    "id": "chkg2kFW2tvK"
   },
   "source": [
    "## for loops\n",
    "#### for es otro statement de python, este nos permite repetir la mismas lineas de código con distintos elementos"
   ]
  },
  {
   "cell_type": "code",
   "execution_count": 5,
   "metadata": {
    "colab": {
     "base_uri": "https://localhost:8080/",
     "height": 102
    },
    "colab_type": "code",
    "id": "LH3sdGi02zK7",
    "outputId": "d163eb99-d825-466e-b3d1-6b3e8b58bbf9"
   },
   "outputs": [
    {
     "name": "stdout",
     "output_type": "stream",
     "text": [
      "0\n",
      "1\n",
      "2\n",
      "3\n",
      "4\n"
     ]
    }
   ],
   "source": [
    "for i in range(5):\n",
    "  print(i)"
   ]
  },
  {
   "cell_type": "markdown",
   "metadata": {
    "colab_type": "text",
    "id": "ZjW2-g0f3RpL"
   },
   "source": [
    "#### utiliza diferentes tipos variables llamados \"iterables\""
   ]
  },
  {
   "cell_type": "code",
   "execution_count": 6,
   "metadata": {
    "colab": {
     "base_uri": "https://localhost:8080/",
     "height": 867
    },
    "colab_type": "code",
    "id": "5qQN9POT3Y2c",
    "outputId": "8b7d26fa-b0ae-4cbd-8399-70250861e4b0"
   },
   "outputs": [
    {
     "name": "stdout",
     "output_type": "stream",
     "text": [
      "0\n",
      "1\n",
      "2\n",
      "\n",
      "\n",
      "0\n",
      "1\n",
      "2\n",
      "\n",
      "\n",
      "0\n",
      "1\n",
      "2\n",
      "\n",
      "\n",
      "l\n",
      "o\n",
      "s\n",
      " \n",
      "'\n",
      "s\n",
      "t\n",
      "r\n",
      "i\n",
      "n\n",
      "g\n",
      "s\n",
      "'\n",
      " \n",
      "t\n",
      "a\n",
      "m\n",
      "b\n",
      "i\n",
      "e\n",
      "n\n",
      " \n",
      "s\n",
      "o\n",
      "n\n",
      " \n",
      "i\n",
      "t\n",
      "e\n",
      "r\n",
      "a\n",
      "b\n",
      "l\n",
      "e\n",
      "s\n",
      "!\n",
      "Cualquier numero es un ejemplo de objeto no iterable:\n"
     ]
    },
    {
     "ename": "TypeError",
     "evalue": "'int' object is not iterable",
     "output_type": "error",
     "traceback": [
      "\u001b[1;31m---------------------------------------------------------------------------\u001b[0m",
      "\u001b[1;31mTypeError\u001b[0m                                 Traceback (most recent call last)",
      "\u001b[1;32m<ipython-input-6-405ed3157ccd>\u001b[0m in \u001b[0;36m<module>\u001b[1;34m\u001b[0m\n\u001b[0;32m     16\u001b[0m \u001b[1;33m\u001b[0m\u001b[0m\n\u001b[0;32m     17\u001b[0m \u001b[0mprint\u001b[0m\u001b[1;33m(\u001b[0m\u001b[1;34m'Cualquier numero es un ejemplo de objeto no iterable:'\u001b[0m\u001b[1;33m)\u001b[0m\u001b[1;33m\u001b[0m\u001b[0m\n\u001b[1;32m---> 18\u001b[1;33m \u001b[1;32mfor\u001b[0m \u001b[0melemento\u001b[0m \u001b[1;32min\u001b[0m \u001b[1;36m4\u001b[0m\u001b[1;33m:\u001b[0m\u001b[1;33m\u001b[0m\u001b[0m\n\u001b[0m\u001b[0;32m     19\u001b[0m       \u001b[0mprint\u001b[0m\u001b[1;33m(\u001b[0m\u001b[0melemento\u001b[0m\u001b[1;33m)\u001b[0m\u001b[1;33m\u001b[0m\u001b[0m\n",
      "\u001b[1;31mTypeError\u001b[0m: 'int' object is not iterable"
     ]
    }
   ],
   "source": [
    "iterable1 = [0, 1, 2]\n",
    "iterable2 = range(3)\n",
    "iterable3 = {0:2, 1:3, 2:5} \n",
    "iterable4 = \"los 'strings' tambien son iterables!\"\n",
    "for elemento in iterable1:\n",
    "  print(elemento)\n",
    "print('\\n')\n",
    "for elemento in iterable2:\n",
    "  print(elemento)\n",
    "print('\\n')\n",
    "for elemento in iterable3:\n",
    "  print(elemento)\n",
    "print('\\n')\n",
    "for elemento in iterable4:\n",
    "  print(elemento)\n",
    "  \n",
    "print('Cualquier numero es un ejemplo de objeto no iterable:')\n",
    "for elemento in 4:\n",
    "      print(elemento)"
   ]
  },
  {
   "cell_type": "code",
   "execution_count": 7,
   "metadata": {
    "colab": {
     "base_uri": "https://localhost:8080/",
     "height": 119
    },
    "colab_type": "code",
    "id": "OhRKtv22MI2a",
    "outputId": "7400c113-cd13-42f9-f6f6-3ea24fefe45d"
   },
   "outputs": [
    {
     "name": "stdout",
     "output_type": "stream",
     "text": [
      "0 es divisible por 2\n",
      "2 es divisible por 2\n",
      "4 es divisible por 2\n",
      "6 es divisible por 2\n",
      "8 es divisible por 2\n",
      "10 es divisible por 2\n"
     ]
    }
   ],
   "source": [
    "for j in range(11):\n",
    "  if j % 2 == 0:\n",
    "    print(\"%i es divisible por 2\" % j)"
   ]
  },
  {
   "cell_type": "code",
   "execution_count": 8,
   "metadata": {},
   "outputs": [
    {
     "name": "stdout",
     "output_type": "stream",
     "text": [
      "3 es menor que 5\n",
      "7 es mayor que 5\n",
      "5 no es ni menor ni mayor que 5, debe ser igual!\n",
      "True\n"
     ]
    }
   ],
   "source": [
    "lista = [3, 7, 5]\n",
    "b = 5\n",
    "for a in lista:\n",
    "    if a>b:\n",
    "        print(\"%i es mayor que %i\" % (a, b))\n",
    "    elif a<b:\n",
    "        print(\"%i es menor que %i\" % (a, b))\n",
    "    else:\n",
    "        print(\"%i no es ni menor ni mayor que %i, debe ser igual!\" % (a, b))\n",
    "        print(a==b)"
   ]
  },
  {
   "cell_type": "markdown",
   "metadata": {
    "colab_type": "text",
    "id": "WJOp12oHEPXW"
   },
   "source": [
    "# List comprehension (comprension de listas)\n",
    "####  Ahora que vimos cómo funcionan las listas, algunos statements  y loops, podemos poner todo una linea para generar listas"
   ]
  },
  {
   "cell_type": "code",
   "execution_count": 9,
   "metadata": {
    "colab": {
     "base_uri": "https://localhost:8080/",
     "height": 34
    },
    "colab_type": "code",
    "id": "-Z9hzPgfFje6",
    "outputId": "611678bf-2aed-4b3a-ab56-049d09baf2b5"
   },
   "outputs": [
    {
     "data": {
      "text/plain": [
       "[0, 1, 2, 3, 4, 5, 6, 7, 8, 9]"
      ]
     },
     "execution_count": 9,
     "metadata": {},
     "output_type": "execute_result"
    }
   ],
   "source": [
    "[x for x in range(10)]"
   ]
  },
  {
   "cell_type": "code",
   "execution_count": 13,
   "metadata": {},
   "outputs": [
    {
     "data": {
      "text/plain": [
       "{0: 1, 1: 2, 2: 3, 3: 4, 4: 5, 5: 6, 6: 7, 7: 8, 8: 9, 9: 10}"
      ]
     },
     "execution_count": 13,
     "metadata": {},
     "output_type": "execute_result"
    }
   ],
   "source": [
    "{x: x+1 for x in range(10)}"
   ]
  },
  {
   "cell_type": "code",
   "execution_count": 10,
   "metadata": {
    "colab": {
     "base_uri": "https://localhost:8080/",
     "height": 34
    },
    "colab_type": "code",
    "id": "AbAIIrN4FrKw",
    "outputId": "2f62f718-0255-4e21-af37-c9c502f4d2ea"
   },
   "outputs": [
    {
     "data": {
      "text/plain": [
       "[0, 2, 4, 6, 8]"
      ]
     },
     "execution_count": 10,
     "metadata": {},
     "output_type": "execute_result"
    }
   ],
   "source": [
    "[x for x in range(10) if x % 2 == 0]"
   ]
  },
  {
   "cell_type": "markdown",
   "metadata": {},
   "source": [
    "#### Finalmente, podemos convertir iterables que no son tipo \"lista\" en listas con la funcion list()"
   ]
  },
  {
   "cell_type": "code",
   "execution_count": 14,
   "metadata": {},
   "outputs": [
    {
     "name": "stdout",
     "output_type": "stream",
     "text": [
      "<class 'dict'>\n",
      "[1, 3]\n",
      "<class 'list'>\n"
     ]
    }
   ],
   "source": [
    "diccionario = {1: 2, 3: 4}\n",
    "print(type(diccionario))\n",
    "lista = list(diccionario)\n",
    "print(lista)\n",
    "print(type(lista))"
   ]
  },
  {
   "cell_type": "code",
   "execution_count": 16,
   "metadata": {},
   "outputs": [],
   "source": [
    "def espalindromo(palabra):\n",
    "    if palabra.lower() == palabra.lower()[::-1]:\n",
    "        return True\n",
    "    else: \n",
    "        return False"
   ]
  },
  {
   "cell_type": "code",
   "execution_count": 18,
   "metadata": {},
   "outputs": [
    {
     "data": {
      "text/plain": [
       "False"
      ]
     },
     "execution_count": 18,
     "metadata": {},
     "output_type": "execute_result"
    }
   ],
   "source": [
    "espalindromo('banana')"
   ]
  },
  {
   "cell_type": "markdown",
   "metadata": {},
   "source": [
    "# Modulo Numpy\n",
    "#### veamos que funciones tiene numpy que podemos aplicar a listas"
   ]
  },
  {
   "cell_type": "code",
   "execution_count": 2,
   "metadata": {},
   "outputs": [],
   "source": [
    "import numpy as np"
   ]
  },
  {
   "cell_type": "code",
   "execution_count": 3,
   "metadata": {},
   "outputs": [
    {
     "data": {
      "text/plain": [
       "array([0.84044073, 0.60411776, 0.28964165, 0.41696918, 0.92066955,\n",
       "       0.63217393, 0.4778487 , 0.85772108, 0.03171182, 0.6260986 ])"
      ]
     },
     "execution_count": 3,
     "metadata": {},
     "output_type": "execute_result"
    }
   ],
   "source": [
    "np.random.random(10)"
   ]
  },
  {
   "cell_type": "markdown",
   "metadata": {},
   "source": [
    "#### numpy se maneja con con arreglos (arrays) pero tambien podemos usarlo para realizar operaciones sobre listas.\n",
    "#### Convertimos un arreglo de numpy (nos vamos a meter con ellos la semana que viene)"
   ]
  },
  {
   "cell_type": "code",
   "execution_count": 7,
   "metadata": {},
   "outputs": [
    {
     "name": "stdout",
     "output_type": "stream",
     "text": [
      "[0.8137352472861805, 0.28142066212894146, 0.8816922612531226, 0.3337041860011061, 0.6098332464967896, 0.2608312055782479, 0.9247167384844052, 0.18901676771299258, 0.5319817866960957, 0.2738389150239118]\n",
      "<class 'list'>\n"
     ]
    }
   ],
   "source": [
    "lista_de_randoms = list(np.random.random(10))\n",
    "print(lista_de_randoms)\n",
    "print(type(lista_de_randoms))"
   ]
  },
  {
   "cell_type": "code",
   "execution_count": 8,
   "metadata": {},
   "outputs": [
    {
     "data": {
      "text/plain": [
       "numpy.ndarray"
      ]
     },
     "execution_count": 8,
     "metadata": {},
     "output_type": "execute_result"
    }
   ],
   "source": [
    "type(np.random.random(10))"
   ]
  },
  {
   "cell_type": "code",
   "execution_count": 9,
   "metadata": {},
   "outputs": [
    {
     "data": {
      "text/plain": [
       "0.5100771016661794"
      ]
     },
     "execution_count": 9,
     "metadata": {},
     "output_type": "execute_result"
    }
   ],
   "source": [
    "np.mean(lista_de_randoms)"
   ]
  },
  {
   "cell_type": "code",
   "execution_count": 10,
   "metadata": {},
   "outputs": [
    {
     "data": {
      "text/plain": [
       "0.18901676771299258"
      ]
     },
     "execution_count": 10,
     "metadata": {},
     "output_type": "execute_result"
    }
   ],
   "source": [
    "np.min(lista_de_randoms)"
   ]
  },
  {
   "cell_type": "code",
   "execution_count": 11,
   "metadata": {},
   "outputs": [
    {
     "data": {
      "text/plain": [
       "0.9247167384844052"
      ]
     },
     "execution_count": 11,
     "metadata": {},
     "output_type": "execute_result"
    }
   ],
   "source": [
    "np.max(lista_de_randoms)"
   ]
  },
  {
   "cell_type": "code",
   "execution_count": 12,
   "metadata": {},
   "outputs": [
    {
     "data": {
      "text/plain": [
       "0.9247167384844052"
      ]
     },
     "execution_count": 12,
     "metadata": {},
     "output_type": "execute_result"
    }
   ],
   "source": [
    "lista_de_randoms[np.argmax(lista_de_randoms)]"
   ]
  },
  {
   "cell_type": "code",
   "execution_count": 13,
   "metadata": {},
   "outputs": [
    {
     "data": {
      "text/plain": [
       "7"
      ]
     },
     "execution_count": 13,
     "metadata": {},
     "output_type": "execute_result"
    }
   ],
   "source": [
    "np.argmin(lista_de_randoms)"
   ]
  },
  {
   "cell_type": "code",
   "execution_count": 14,
   "metadata": {},
   "outputs": [
    {
     "data": {
      "text/plain": [
       "0.2677809060817375"
      ]
     },
     "execution_count": 14,
     "metadata": {},
     "output_type": "execute_result"
    }
   ],
   "source": [
    "np.std(lista_de_randoms)"
   ]
  },
  {
   "cell_type": "code",
   "execution_count": 15,
   "metadata": {},
   "outputs": [
    {
     "data": {
      "text/plain": [
       "0.07170661366195631"
      ]
     },
     "execution_count": 15,
     "metadata": {},
     "output_type": "execute_result"
    }
   ],
   "source": [
    "np.var(lista_de_randoms)"
   ]
  },
  {
   "cell_type": "code",
   "execution_count": 16,
   "metadata": {},
   "outputs": [
    {
     "name": "stdout",
     "output_type": "stream",
     "text": [
      "0.07170661366195631\n",
      "0.07170661366195631\n"
     ]
    }
   ],
   "source": [
    "squared_std = np.power(np.std(lista_de_randoms), 2)\n",
    "print(squared_std)\n",
    "print(np.std(lista_de_randoms)**2)"
   ]
  },
  {
   "cell_type": "code",
   "execution_count": 18,
   "metadata": {},
   "outputs": [
    {
     "name": "stdout",
     "output_type": "stream",
     "text": [
      "[0.66216505 0.07919759 0.77738124 0.11135848 0.37189659 0.06803292\n",
      " 0.85510105 0.03572734 0.28300462 0.07498775]\n"
     ]
    },
    {
     "data": {
      "text/plain": [
       "array([0.66216505, 0.07919759, 0.77738124, 0.11135848, 0.37189659,\n",
       "       0.06803292, 0.85510105, 0.03572734, 0.28300462, 0.07498775])"
      ]
     },
     "execution_count": 18,
     "metadata": {},
     "output_type": "execute_result"
    }
   ],
   "source": [
    "print(np.power(lista_de_randoms, 2))\n",
    "np.array(lista_de_randoms) ** 2"
   ]
  },
  {
   "cell_type": "code",
   "execution_count": 19,
   "metadata": {},
   "outputs": [
    {
     "name": "stdout",
     "output_type": "stream",
     "text": [
      "5.100771016661794\n",
      "5.100771016661794\n"
     ]
    }
   ],
   "source": [
    "print(sum(lista_de_randoms))\n",
    "print(np.sum(lista_de_randoms))"
   ]
  },
  {
   "cell_type": "code",
   "execution_count": 27,
   "metadata": {},
   "outputs": [
    {
     "data": {
      "text/plain": [
       "array([ 0.49379647,  0.10605941,  0.114734  , -0.19004142, -0.39770339,\n",
       "        0.37999969, -0.04252859, -0.37682214,  0.34491186])"
      ]
     },
     "execution_count": 27,
     "metadata": {},
     "output_type": "execute_result"
    }
   ],
   "source": [
    "np.diff(lista_de_randoms)"
   ]
  },
  {
   "cell_type": "code",
   "execution_count": 21,
   "metadata": {},
   "outputs": [
    {
     "data": {
      "text/plain": [
       "array([3, 2])"
      ]
     },
     "execution_count": 21,
     "metadata": {},
     "output_type": "execute_result"
    }
   ],
   "source": [
    "np.diff([0, 3, 5])"
   ]
  },
  {
   "cell_type": "markdown",
   "metadata": {},
   "source": [
    "### y tambien tiene funciones matematicas y constantes"
   ]
  },
  {
   "cell_type": "code",
   "execution_count": 29,
   "metadata": {},
   "outputs": [
    {
     "data": {
      "text/plain": [
       "1.0"
      ]
     },
     "execution_count": 29,
     "metadata": {},
     "output_type": "execute_result"
    }
   ],
   "source": [
    "np.exp(0)"
   ]
  },
  {
   "cell_type": "code",
   "execution_count": 30,
   "metadata": {},
   "outputs": [
    {
     "data": {
      "text/plain": [
       "1.0"
      ]
     },
     "execution_count": 30,
     "metadata": {},
     "output_type": "execute_result"
    }
   ],
   "source": [
    "np.cos(0)"
   ]
  },
  {
   "cell_type": "code",
   "execution_count": 34,
   "metadata": {},
   "outputs": [
    {
     "name": "stdout",
     "output_type": "stream",
     "text": [
      "3.141592653589793\n",
      "2.718281828459045\n"
     ]
    }
   ],
   "source": [
    "print(np.pi)\n",
    "print(np.e)"
   ]
  },
  {
   "cell_type": "code",
   "execution_count": 32,
   "metadata": {},
   "outputs": [
    {
     "data": {
      "text/plain": [
       "1.2246467991473532e-16"
      ]
     },
     "execution_count": 32,
     "metadata": {},
     "output_type": "execute_result"
    }
   ],
   "source": [
    "np.sin(np.pi)"
   ]
  },
  {
   "cell_type": "code",
   "execution_count": 33,
   "metadata": {},
   "outputs": [
    {
     "data": {
      "text/plain": [
       "-1.0"
      ]
     },
     "execution_count": 33,
     "metadata": {},
     "output_type": "execute_result"
    }
   ],
   "source": [
    "np.cos(np.pi)"
   ]
  },
  {
   "cell_type": "code",
   "execution_count": null,
   "metadata": {},
   "outputs": [],
   "source": []
  }
 ],
 "metadata": {
  "colab": {
   "collapsed_sections": [],
   "name": "clase_2_notebook_copia.ipynb",
   "provenance": [],
   "version": "0.3.2"
  },
  "kernelspec": {
   "display_name": "Python 3",
   "language": "python",
   "name": "python3"
  },
  "language_info": {
   "codemirror_mode": {
    "name": "ipython",
    "version": 3
   },
   "file_extension": ".py",
   "mimetype": "text/x-python",
   "name": "python",
   "nbconvert_exporter": "python",
   "pygments_lexer": "ipython3",
   "version": "3.6.5"
  }
 },
 "nbformat": 4,
 "nbformat_minor": 2
}
