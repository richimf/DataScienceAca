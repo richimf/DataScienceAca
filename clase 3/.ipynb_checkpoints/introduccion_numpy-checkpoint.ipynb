{
 "cells": [
  {
   "cell_type": "code",
   "execution_count": 12,
   "metadata": {},
   "outputs": [],
   "source": [
    "palindromo = \"anita lava la tina\""
   ]
  },
  {
   "cell_type": "code",
   "execution_count": 11,
   "metadata": {},
   "outputs": [
    {
     "name": "stdout",
     "output_type": "stream",
     "text": [
      "'anita lava las tinas' no es un palindromo =(\n"
     ]
    }
   ],
   "source": [
    "print(\"%s es un palindromo!!!!\" % palindromo) if palindromo.replace(\" \", \"\") == palindromo.replace(\" \", \"\")[::-1] else print(\"'%s' no es un palindromo =(\" % palindromo)"
   ]
  },
  {
   "cell_type": "code",
   "execution_count": 24,
   "metadata": {},
   "outputs": [
    {
     "ename": "SyntaxError",
     "evalue": "invalid syntax (<ipython-input-24-70117ea2e0c3>, line 1)",
     "output_type": "error",
     "traceback": [
      "\u001b[1;36m  File \u001b[1;32m\"<ipython-input-24-70117ea2e0c3>\"\u001b[1;36m, line \u001b[1;32m1\u001b[0m\n\u001b[1;33m    'a' === 'b'\u001b[0m\n\u001b[1;37m          ^\u001b[0m\n\u001b[1;31mSyntaxError\u001b[0m\u001b[1;31m:\u001b[0m invalid syntax\n"
     ]
    }
   ],
   "source": []
  },
  {
   "cell_type": "markdown",
   "metadata": {},
   "source": [
    "# Introducción a numpy"
   ]
  },
  {
   "cell_type": "markdown",
   "metadata": {},
   "source": [
    "#### Librería optimizada para realizar cálculos numéricos con vectores y matrices"
   ]
  },
  {
   "cell_type": "code",
   "execution_count": 14,
   "metadata": {},
   "outputs": [],
   "source": [
    "import numpy as np"
   ]
  },
  {
   "cell_type": "markdown",
   "metadata": {},
   "source": [
    "#### Podemos definir arrays a partir de listas"
   ]
  },
  {
   "cell_type": "code",
   "execution_count": 16,
   "metadata": {},
   "outputs": [
    {
     "name": "stdout",
     "output_type": "stream",
     "text": [
      "<class 'numpy.ndarray'>\n"
     ]
    }
   ],
   "source": [
    "arr = np.array([[10, 11, 12, 13, 14, 15, 16, 17, 18, 19], [10, 11, 12, 13, 14, 15, 16, 17, 18, 19]])\n",
    "print(type(arr))"
   ]
  },
  {
   "cell_type": "code",
   "execution_count": 17,
   "metadata": {},
   "outputs": [
    {
     "data": {
      "text/plain": [
       "(2, 10)"
      ]
     },
     "execution_count": 17,
     "metadata": {},
     "output_type": "execute_result"
    }
   ],
   "source": [
    "arr.shape"
   ]
  },
  {
   "cell_type": "code",
   "execution_count": 18,
   "metadata": {},
   "outputs": [],
   "source": [
    "lista = [10, 11, 12, 13, 14, 15, 16, 17, 18, 19]\n",
    "arr = np.array(lista)"
   ]
  },
  {
   "cell_type": "code",
   "execution_count": 23,
   "metadata": {},
   "outputs": [
    {
     "data": {
      "text/plain": [
       "[2, 4]"
      ]
     },
     "execution_count": 23,
     "metadata": {},
     "output_type": "execute_result"
    }
   ],
   "source": [
    "[2] + [4]"
   ]
  },
  {
   "cell_type": "code",
   "execution_count": 1,
   "metadata": {},
   "outputs": [],
   "source": [
    "l = [2]\n",
    "l.append(4)"
   ]
  },
  {
   "cell_type": "code",
   "execution_count": 26,
   "metadata": {},
   "outputs": [
    {
     "data": {
      "text/plain": [
       "[2, 4]"
      ]
     },
     "execution_count": 26,
     "metadata": {},
     "output_type": "execute_result"
    }
   ],
   "source": [
    "l"
   ]
  },
  {
   "cell_type": "markdown",
   "metadata": {},
   "source": [
    "#### Los arrays y las listas se comportan diferente frente operaciones matematicas con números"
   ]
  },
  {
   "cell_type": "code",
   "execution_count": 20,
   "metadata": {},
   "outputs": [
    {
     "ename": "TypeError",
     "evalue": "can only concatenate list (not \"int\") to list",
     "output_type": "error",
     "traceback": [
      "\u001b[1;31m---------------------------------------------------------------------------\u001b[0m",
      "\u001b[1;31mTypeError\u001b[0m                                 Traceback (most recent call last)",
      "\u001b[1;32m<ipython-input-20-86c7ea29c23b>\u001b[0m in \u001b[0;36m<module>\u001b[1;34m\u001b[0m\n\u001b[1;32m----> 1\u001b[1;33m \u001b[0mprint\u001b[0m\u001b[1;33m(\u001b[0m\u001b[0mlista\u001b[0m \u001b[1;33m+\u001b[0m \u001b[1;36m2\u001b[0m\u001b[1;33m)\u001b[0m \u001b[1;31m# da error\u001b[0m\u001b[1;33m\u001b[0m\u001b[0m\n\u001b[0m\u001b[0;32m      2\u001b[0m \u001b[1;31m# print(arr + 2) # suma 2 a cada elemento\u001b[0m\u001b[1;33m\u001b[0m\u001b[1;33m\u001b[0m\u001b[0m\n",
      "\u001b[1;31mTypeError\u001b[0m: can only concatenate list (not \"int\") to list"
     ]
    }
   ],
   "source": [
    "print(lista + 2) # da error\n",
    "# print(arr + 2) # suma 2 a cada elemento"
   ]
  },
  {
   "cell_type": "code",
   "execution_count": 22,
   "metadata": {},
   "outputs": [
    {
     "name": "stdout",
     "output_type": "stream",
     "text": [
      "[20 22 24 26 28 30 32 34 36 38]\n"
     ]
    }
   ],
   "source": [
    "# print(lista * 2) # duplica la lista\n",
    "print(arr * 2) # multiplica por dos cada elemento"
   ]
  },
  {
   "cell_type": "markdown",
   "metadata": {},
   "source": [
    "#### Los arrays y las listas se comportan diferente frente a operaciones con otros arrays/listas"
   ]
  },
  {
   "cell_type": "code",
   "execution_count": 27,
   "metadata": {},
   "outputs": [],
   "source": [
    "lista1 = [1, 2, 3, 4, 5]\n",
    "lista2 = [5, 4, 3, 2, 1]\n",
    "\n",
    "arr1 = np.array(lista1)\n",
    "arr2 = np.array(lista2)"
   ]
  },
  {
   "cell_type": "code",
   "execution_count": 28,
   "metadata": {},
   "outputs": [
    {
     "name": "stdout",
     "output_type": "stream",
     "text": [
      "suma de listas = [1, 2, 3, 4, 5, 5, 4, 3, 2, 1]\n",
      "suma de arreglos = [6 6 6 6 6]\n"
     ]
    }
   ],
   "source": [
    "print('suma de listas =', lista1 + lista2) # concatena (une) las dos listas\n",
    "print('suma de arreglos =', arr1 + arr2) # suma los elementos de cada arreglo"
   ]
  },
  {
   "cell_type": "code",
   "execution_count": 31,
   "metadata": {},
   "outputs": [
    {
     "name": "stdout",
     "output_type": "stream",
     "text": [
      "multiplicación de arreglos = [5 8 9 8 5]\n"
     ]
    }
   ],
   "source": [
    "# print(lista1 * lista2) # da error\n",
    "print('multiplicación de arreglos =', arr1 * arr2) # multiplica los elementos de cada arreglo"
   ]
  },
  {
   "cell_type": "code",
   "execution_count": 32,
   "metadata": {},
   "outputs": [
    {
     "name": "stdout",
     "output_type": "stream",
     "text": [
      "resta = [-4 -2  0  2  4]\n",
      "division = [0.2 0.5 1.  2.  5. ]\n",
      "exponenciacion = [ 1 16 27 16  5]\n",
      "combinacion de operaciones = [-0.66666667 -0.66666667  0.          1.33333333  3.33333333]\n"
     ]
    }
   ],
   "source": [
    "print('resta =', arr1 - arr2)\n",
    "print('division =', arr1 / arr2)\n",
    "print('exponenciacion =', arr1 ** arr2)\n",
    "print('combinacion de operaciones =', (arr1 - arr2)/(arr1 + arr2) * arr1)"
   ]
  },
  {
   "cell_type": "markdown",
   "metadata": {},
   "source": [
    "#### Para arrays1d la indexación funciona igual que para las listas"
   ]
  },
  {
   "cell_type": "code",
   "execution_count": 33,
   "metadata": {},
   "outputs": [],
   "source": [
    "lista = [10, 11, 12, 13, 14, 15, 16, 17, 18, 19]\n",
    "arr = np.array(lista)"
   ]
  },
  {
   "cell_type": "code",
   "execution_count": 34,
   "metadata": {},
   "outputs": [
    {
     "name": "stdout",
     "output_type": "stream",
     "text": [
      "10 10\n",
      "14 14\n",
      "[10, 11, 12] [10 11 12]\n",
      "[11, 12, 13, 14, 15, 16] [11 12 13 14 15 16]\n",
      "[13, 14, 15, 16, 17, 18, 19] [13 14 15 16 17 18 19]\n",
      "19 19\n",
      "[10, 11, 12, 13, 14, 15, 16, 17, 18] [10 11 12 13 14 15 16 17 18]\n",
      "[19, 18, 17, 16, 15, 14, 13, 12, 11, 10] [19 18 17 16 15 14 13 12 11 10]\n"
     ]
    }
   ],
   "source": [
    "print(lista[0], arr[0]) # devuelve el 1er elemento\n",
    "print(lista[4], arr[4]) # devuelve el 5to elemento\n",
    "print(lista[:3], arr[:3])\n",
    "print(lista[1:7], arr[1:7])\n",
    "print(lista[3:], arr[3:])\n",
    "print(lista[-1], arr[-1])\n",
    "print(lista[:-1], arr[:-1])\n",
    "print(lista[::-1], arr[::-1])"
   ]
  },
  {
   "cell_type": "code",
   "execution_count": 35,
   "metadata": {},
   "outputs": [
    {
     "name": "stdout",
     "output_type": "stream",
     "text": [
      "[10, 11, 22, 23, 24, 15, 16, 17, 18, 19]\n",
      "[10 11 22 23 24 15 16 17 18 19]\n"
     ]
    }
   ],
   "source": [
    "lista[2:5] = [22, 23, 24]\n",
    "arr[2:5] = [22, 23, 24]\n",
    "print(lista)\n",
    "print(arr)"
   ]
  },
  {
   "cell_type": "markdown",
   "metadata": {},
   "source": [
    "# Arreglos multidimensionales"
   ]
  },
  {
   "cell_type": "markdown",
   "metadata": {},
   "source": [
    "#### Las listas son cadenas unidimensionales de elementos. Los arreglos pueden ser multidimensionales"
   ]
  },
  {
   "cell_type": "code",
   "execution_count": 37,
   "metadata": {},
   "outputs": [
    {
     "data": {
      "text/plain": [
       "array([[0, 1, 3],\n",
       "       [3, 4, 5]])"
      ]
     },
     "execution_count": 37,
     "metadata": {},
     "output_type": "execute_result"
    }
   ],
   "source": [
    "lista = [[0, 1, 3], [3, 4, 5]]\n",
    "array_2d = np.array(lista)\n",
    "array_2d"
   ]
  },
  {
   "cell_type": "code",
   "execution_count": 38,
   "metadata": {},
   "outputs": [
    {
     "name": "stdout",
     "output_type": "stream",
     "text": [
      "2\n"
     ]
    }
   ],
   "source": [
    "print(array_2d.ndim)"
   ]
  },
  {
   "cell_type": "code",
   "execution_count": 39,
   "metadata": {},
   "outputs": [
    {
     "name": "stdout",
     "output_type": "stream",
     "text": [
      "(2, 3)\n"
     ]
    }
   ],
   "source": [
    "print(array_2d.shape)"
   ]
  },
  {
   "cell_type": "code",
   "execution_count": 40,
   "metadata": {},
   "outputs": [
    {
     "name": "stdout",
     "output_type": "stream",
     "text": [
      "6\n"
     ]
    }
   ],
   "source": [
    "print(array_2d.size)"
   ]
  },
  {
   "cell_type": "markdown",
   "metadata": {},
   "source": [
    "#### En scikit-learn array_2d=(samples, features)"
   ]
  },
  {
   "cell_type": "markdown",
   "metadata": {},
   "source": [
    "#### **Desafío:** armar un array 3d a partir de una lista de listas <br>\n",
    "#### Queremos que *array3d.ndim==3* devuelva *True*"
   ]
  },
  {
   "cell_type": "code",
   "execution_count": 63,
   "metadata": {},
   "outputs": [
    {
     "name": "stdout",
     "output_type": "stream",
     "text": [
      "(2, 2, 2)\n",
      "int32\n"
     ]
    }
   ],
   "source": [
    "lista = [[0, 1], [2, 3]]\n",
    "# lista = [lista, lista]\n",
    "arr3d = np.array([lista, lista])\n",
    "print(arr3d.shape)\n",
    "print(arr3d.dtype)"
   ]
  },
  {
   "cell_type": "code",
   "execution_count": 47,
   "metadata": {},
   "outputs": [
    {
     "data": {
      "text/plain": [
       "dtype('O')"
      ]
     },
     "execution_count": 47,
     "metadata": {},
     "output_type": "execute_result"
    }
   ],
   "source": [
    "np.array([[1, 2], [1, 2, 3]]).dtype"
   ]
  },
  {
   "cell_type": "code",
   "execution_count": 52,
   "metadata": {},
   "outputs": [
    {
     "data": {
      "text/plain": [
       "[[0, 1], [2, 3]]"
      ]
     },
     "execution_count": 52,
     "metadata": {},
     "output_type": "execute_result"
    }
   ],
   "source": [
    "lista[0]"
   ]
  },
  {
   "cell_type": "code",
   "execution_count": 55,
   "metadata": {},
   "outputs": [
    {
     "data": {
      "text/plain": [
       "[2, 3]"
      ]
     },
     "execution_count": 55,
     "metadata": {},
     "output_type": "execute_result"
    }
   ],
   "source": [
    "lista[0][1]"
   ]
  },
  {
   "cell_type": "code",
   "execution_count": 56,
   "metadata": {},
   "outputs": [
    {
     "data": {
      "text/plain": [
       "2"
      ]
     },
     "execution_count": 56,
     "metadata": {},
     "output_type": "execute_result"
    }
   ],
   "source": [
    "lista[0][1][0]"
   ]
  },
  {
   "cell_type": "code",
   "execution_count": 68,
   "metadata": {},
   "outputs": [
    {
     "data": {
      "text/plain": [
       "array([[[0, 1],\n",
       "        [2, 3]],\n",
       "\n",
       "       [[0, 1],\n",
       "        [2, 3]]])"
      ]
     },
     "execution_count": 68,
     "metadata": {},
     "output_type": "execute_result"
    }
   ],
   "source": [
    "arr3d"
   ]
  },
  {
   "cell_type": "code",
   "execution_count": 69,
   "metadata": {},
   "outputs": [
    {
     "name": "stdout",
     "output_type": "stream",
     "text": [
      "3\n"
     ]
    }
   ],
   "source": [
    "# print(arr2d[0, 1])\n",
    "# print(arr3d[0, 1, 1])\n",
    "# print(arr3d[0, 1, :])\n",
    "# print(arr3d[0, 1, :2])\n",
    "# print(arr3d[0, :, /:1])\n",
    "print(arr3d[0, 1, -1])"
   ]
  },
  {
   "cell_type": "code",
   "execution_count": 73,
   "metadata": {},
   "outputs": [
    {
     "name": "stdout",
     "output_type": "stream",
     "text": [
      "[1 2 3 4 5 6] (6,)\n",
      "[[1 2 3]\n",
      " [4 5 6]] (3, 2)\n"
     ]
    }
   ],
   "source": [
    "arr = np.array([1, 2, 3, 4, 5, 6])\n",
    "print(arr, arr.shape)\n",
    "print(arr.reshape(2, 3), arr.reshape(3, 2).shape)\n"
   ]
  },
  {
   "cell_type": "markdown",
   "metadata": {},
   "source": [
    "# Creación de arreglos"
   ]
  },
  {
   "cell_type": "code",
   "execution_count": 79,
   "metadata": {},
   "outputs": [
    {
     "name": "stdout",
     "output_type": "stream",
     "text": [
      "[False False False False False False False False False False]\n"
     ]
    }
   ],
   "source": [
    "print(np.zeros(10, dtype=bool))\n",
    "# print(np.zeros((3, 2)))\n",
    "# print(np.zeros((10, 5)))\n",
    "# print(np.zeros((2, 2, 2)))"
   ]
  },
  {
   "cell_type": "code",
   "execution_count": 82,
   "metadata": {},
   "outputs": [
    {
     "data": {
      "text/plain": [
       "array([[[ True,  True],\n",
       "        [ True,  True]],\n",
       "\n",
       "       [[ True,  True],\n",
       "        [ True,  True]]])"
      ]
     },
     "execution_count": 82,
     "metadata": {},
     "output_type": "execute_result"
    }
   ],
   "source": [
    "# np.ones(10)\n",
    "# np.ones((3, 2))\n",
    "# np.ones((10, 5))\n",
    "np.ones((2, 2, 2), dtype=bool)"
   ]
  },
  {
   "cell_type": "code",
   "execution_count": 83,
   "metadata": {},
   "outputs": [
    {
     "name": "stdout",
     "output_type": "stream",
     "text": [
      "[0.68933559 0.62021082 0.41674821 0.59670807 0.68977382 0.1697337\n",
      " 0.06694625 0.76555173 0.60746307 0.46954076] \n",
      "\n",
      "[[0.32667425 0.27013847]\n",
      " [0.75797228 0.88359033]\n",
      " [0.69004625 0.60556943]] \n",
      "\n",
      "[[0.7121526  0.01265568 0.87879544 0.02279035 0.31393074]\n",
      " [0.19703752 0.93160034 0.09545353 0.28640419 0.22109744]\n",
      " [0.70256935 0.57920816 0.07657397 0.33449616 0.35196477]\n",
      " [0.47396097 0.13172217 0.58271444 0.57744203 0.78096866]\n",
      " [0.10495642 0.55497149 0.95026549 0.46314216 0.01434234]\n",
      " [0.87869987 0.23878146 0.43199965 0.3353649  0.19384897]\n",
      " [0.160831   0.73990419 0.07445597 0.88466888 0.94226183]\n",
      " [0.01110341 0.73476667 0.44019905 0.42690296 0.86195052]\n",
      " [0.31638334 0.88418815 0.14057856 0.12709846 0.96887014]\n",
      " [0.69537646 0.95070602 0.44820749 0.60881307 0.47941654]] \n",
      "\n",
      "[[[0.70656894 0.00719298]\n",
      "  [0.9744201  0.1664717 ]]\n",
      "\n",
      " [[0.96927632 0.85278802]\n",
      "  [0.8318127  0.55525138]]]\n"
     ]
    }
   ],
   "source": [
    "print(np.random.rand(10), '\\n')\n",
    "print(np.random.rand(3, 2), '\\n')\n",
    "print(np.random.rand(10, 5), '\\n')\n",
    "print(np.random.rand(2, 2, 2))"
   ]
  },
  {
   "cell_type": "code",
   "execution_count": 84,
   "metadata": {},
   "outputs": [
    {
     "name": "stdout",
     "output_type": "stream",
     "text": [
      "[-0.6672312  -2.35765333 -0.08720569  0.26832287  0.76377718 -0.0603738\n",
      " -0.04579129 -1.31914373  0.30021993 -0.27153915] \n",
      "\n",
      "[[ 0.8428708  -0.28661687]\n",
      " [ 0.36073096  0.73473178]\n",
      " [ 0.02595853 -0.06720884]] \n",
      "\n",
      "[[-0.54840624  0.58724562 -0.63332825 -2.4392126   1.9449827 ]\n",
      " [ 1.07741134 -0.11329659 -0.68145     0.44521612 -1.57959034]\n",
      " [ 0.64930645 -0.03470663  0.05019715  0.32863463  0.04521143]\n",
      " [ 0.00587215 -1.29787465  0.18130709 -1.73253992  1.54636856]\n",
      " [-0.53987629  1.18604886 -0.70900404  1.12324065 -1.52383611]\n",
      " [ 0.22385687 -1.35241639  0.86904876 -0.4918645  -0.83663276]\n",
      " [ 2.24858368 -1.71857213  0.53518206 -1.94804789  1.26904922]\n",
      " [ 1.58262651  1.16725466  0.10311166  0.64258981 -0.10087931]\n",
      " [-1.02522033 -0.17668421 -1.25888427 -0.13066314 -0.44230447]\n",
      " [ 2.54024945  0.4526435  -0.27159827  0.29560512 -0.07479291]] \n",
      "\n",
      "[[[ 0.20844204 -0.70674756]\n",
      "  [ 0.95695857 -0.98865598]]\n",
      "\n",
      " [[-0.35565449 -0.29959661]\n",
      "  [-0.66816655 -1.91675197]]]\n"
     ]
    }
   ],
   "source": [
    "print(np.random.randn(10), '\\n')\n",
    "print(np.random.randn(3, 2), '\\n')\n",
    "print(np.random.randn(10, 5), '\\n')\n",
    "print(np.random.randn(2, 2, 2))"
   ]
  },
  {
   "cell_type": "code",
   "execution_count": 87,
   "metadata": {},
   "outputs": [],
   "source": [
    "import matplotlib.pyplot as plt\n",
    "%matplotlib inline\n"
   ]
  },
  {
   "cell_type": "code",
   "execution_count": 92,
   "metadata": {},
   "outputs": [
    {
     "data": {
      "text/plain": [
       "(array([   4.,   56.,  352., 1235., 2583., 3012., 1872.,  714.,  150.,\n",
       "          22.]),\n",
       " array([-4.11175738, -3.32948366, -2.54720994, -1.76493622, -0.98266249,\n",
       "        -0.20038877,  0.58188495,  1.36415867,  2.14643239,  2.92870612,\n",
       "         3.71097984]),\n",
       " <a list of 10 Patch objects>)"
      ]
     },
     "execution_count": 92,
     "metadata": {},
     "output_type": "execute_result"
    },
    {
     "data": {
      "image/png": "[encoded data removed]",
      "text/plain": [
       "<Figure size 432x288 with 1 Axes>"
      ]
     },
     "metadata": {
      "needs_background": "light"
     },
     "output_type": "display_data"
    }
   ],
   "source": [
    "plt.hist(np.random.randn(10000))"
   ]
  },
  {
   "cell_type": "code",
   "execution_count": 112,
   "metadata": {},
   "outputs": [
    {
     "data": {
      "text/plain": [
       "array([[7, 3, 6],\n",
       "       [8, 6, 3],\n",
       "       [5, 8, 9]])"
      ]
     },
     "execution_count": 112,
     "metadata": {},
     "output_type": "execute_result"
    }
   ],
   "source": [
    "np.random.randint(3, 10, size=(3,3))"
   ]
  },
  {
   "cell_type": "code",
   "execution_count": 113,
   "metadata": {},
   "outputs": [
    {
     "name": "stdout",
     "output_type": "stream",
     "text": [
      "[0 6 7 2 2 2 4 2 3 5] \n",
      "\n",
      "[[2 2 0]\n",
      " [6 2 9]\n",
      " [1 6 2]] \n",
      "\n"
     ]
    }
   ],
   "source": [
    "print(np.random.randint(10, size=10), '\\n')\n",
    "print(np.random.randint(10, size=(3, 3)), '\\n')"
   ]
  },
  {
   "cell_type": "code",
   "execution_count": 118,
   "metadata": {},
   "outputs": [
    {
     "data": {
      "text/plain": [
       "array([0. , 0.1, 0.2, 0.3, 0.4, 0.5, 0.6, 0.7, 0.8, 0.9, 1. , 1.1, 1.2,\n",
       "       1.3, 1.4, 1.5, 1.6, 1.7, 1.8, 1.9, 2. , 2.1, 2.2, 2.3, 2.4, 2.5,\n",
       "       2.6, 2.7, 2.8, 2.9, 3. , 3.1, 3.2, 3.3, 3.4, 3.5, 3.6, 3.7, 3.8,\n",
       "       3.9, 4. , 4.1, 4.2, 4.3, 4.4, 4.5, 4.6, 4.7, 4.8, 4.9, 5. , 5.1,\n",
       "       5.2, 5.3, 5.4, 5.5, 5.6, 5.7, 5.8, 5.9, 6. , 6.1, 6.2, 6.3, 6.4,\n",
       "       6.5, 6.6, 6.7, 6.8, 6.9, 7. , 7.1, 7.2, 7.3, 7.4, 7.5, 7.6, 7.7,\n",
       "       7.8, 7.9, 8. , 8.1, 8.2, 8.3, 8.4, 8.5, 8.6, 8.7, 8.8, 8.9, 9. ,\n",
       "       9.1, 9.2, 9.3, 9.4, 9.5, 9.6, 9.7, 9.8, 9.9])"
      ]
     },
     "execution_count": 118,
     "metadata": {},
     "output_type": "execute_result"
    }
   ],
   "source": [
    "# np.arange(10)\n",
    "# np.arange(0, 10, 1) # start, stop, step\n",
    "# np.arange(2, 16, 2)\n",
    "np.arange(0, 10, .1)"
   ]
  },
  {
   "cell_type": "code",
   "execution_count": 122,
   "metadata": {},
   "outputs": [
    {
     "name": "stdout",
     "output_type": "stream",
     "text": [
      "[ 0.          1.66666667  3.33333333  5.          6.66666667  8.33333333\n",
      " 10.        ]\n",
      "[ 0.   0.1  0.2  0.3  0.4  0.5  0.6  0.7  0.8  0.9  1.   1.1  1.2  1.3\n",
      "  1.4  1.5  1.6  1.7  1.8  1.9  2.   2.1  2.2  2.3  2.4  2.5  2.6  2.7\n",
      "  2.8  2.9  3.   3.1  3.2  3.3  3.4  3.5  3.6  3.7  3.8  3.9  4.   4.1\n",
      "  4.2  4.3  4.4  4.5  4.6  4.7  4.8  4.9  5.   5.1  5.2  5.3  5.4  5.5\n",
      "  5.6  5.7  5.8  5.9  6.   6.1  6.2  6.3  6.4  6.5  6.6  6.7  6.8  6.9\n",
      "  7.   7.1  7.2  7.3  7.4  7.5  7.6  7.7  7.8  7.9  8.   8.1  8.2  8.3\n",
      "  8.4  8.5  8.6  8.7  8.8  8.9  9.   9.1  9.2  9.3  9.4  9.5  9.6  9.7\n",
      "  9.8  9.9 10. ]\n"
     ]
    }
   ],
   "source": [
    "print(np.linspace(0, 10, 7)) # start, stop, length\n",
    "print(np.linspace(0, 10, 101))"
   ]
  },
  {
   "cell_type": "code",
   "execution_count": 129,
   "metadata": {},
   "outputs": [
    {
     "data": {
      "text/plain": [
       "array([0., 0., 0., 0., 0., 1., 1., 1., 1., 1.])"
      ]
     },
     "execution_count": 129,
     "metadata": {},
     "output_type": "execute_result"
    }
   ],
   "source": [
    "# np.append(np.zeros(5), 1.)\n",
    "# np.append(np.zeros(5), np.ones(5))\n",
    "# np.concatenate((np.zeros(5), np.ones(5), np.arange(5)))\n",
    "# np.stack((np.zeros(5), np.ones(5)), axis=0)\n",
    "np.hstack((np.zeros(5), np.ones(5)))\n"
   ]
  },
  {
   "cell_type": "code",
   "execution_count": 131,
   "metadata": {},
   "outputs": [
    {
     "name": "stdout",
     "output_type": "stream",
     "text": [
      "nan inf\n"
     ]
    },
    {
     "name": "stderr",
     "output_type": "stream",
     "text": [
      "c:\\users\\agus\\appdata\\local\\programs\\python\\python36\\lib\\site-packages\\ipykernel_launcher.py:3: RuntimeWarning: invalid value encountered in multiply\n",
      "  This is separate from the ipykernel package so we can avoid doing imports until\n"
     ]
    },
    {
     "data": {
      "text/plain": [
       "array([[nan, nan, nan, nan, nan, nan, nan, nan, nan, nan],\n",
       "       [nan, nan, nan, nan, nan, nan, nan, nan, nan, nan],\n",
       "       [nan, nan, nan, nan, nan, nan, nan, nan, nan, nan],\n",
       "       [nan, nan, nan, nan, nan, nan, nan, nan, nan, nan],\n",
       "       [nan, nan, nan, nan, nan, nan, nan, nan, nan, nan],\n",
       "       [nan, nan, nan, nan, nan, nan, nan, nan, nan, nan],\n",
       "       [nan, nan, nan, nan, nan, nan, nan, nan, nan, nan],\n",
       "       [nan, nan, nan, nan, nan, nan, nan, nan, nan, nan],\n",
       "       [nan, nan, nan, nan, nan, nan, nan, nan, nan, nan],\n",
       "       [nan, nan, nan, nan, nan, nan, nan, nan, nan, nan]])"
      ]
     },
     "execution_count": 131,
     "metadata": {},
     "output_type": "execute_result"
    }
   ],
   "source": [
    "print(np.nan, np.inf)\n",
    "# print(np.exp(1000))\n",
    "np.zeros((10, 10)) * np.inf"
   ]
  },
  {
   "cell_type": "markdown",
   "metadata": {},
   "source": [
    "**Desafío:** crear un array 1d de longitud 10 que tenga el número 5 en todas sus posiciones <br>\n",
    "**Desafío:** crear un array 1d que tenga todos los números del 1 al 40 pero con todos los pares primero y los impares después <br>\n",
    "**Desafío usando google:** crear un array 1d de longitud 20 que tenga los números del 1 al 20 desordenados <br>"
   ]
  },
  {
   "cell_type": "markdown",
   "metadata": {},
   "source": [
    "# Funciones"
   ]
  },
  {
   "cell_type": "markdown",
   "metadata": {},
   "source": [
    "## Promedio o media\n",
    "$$\n",
    "X = (x_1, x_2,...,x_N)\n",
    "$$\n",
    "\n",
    "$$\n",
    "\\bar{x}=\\frac{1}{N}\\sum_{n=1}^{N} x_n\n",
    "$$\n",
    "\n",
    "#### Valor esperado"
   ]
  },
  {
   "cell_type": "code",
   "execution_count": 132,
   "metadata": {},
   "outputs": [
    {
     "name": "stdout",
     "output_type": "stream",
     "text": [
      "[4. 4. 4. 4. 4. 4. 4.]\n",
      "4.0\n"
     ]
    }
   ],
   "source": [
    "X = np.ones(7) * 4\n",
    "print(X)\n",
    "print(np.mean(X))"
   ]
  },
  {
   "cell_type": "code",
   "execution_count": 135,
   "metadata": {},
   "outputs": [
    {
     "name": "stdout",
     "output_type": "stream",
     "text": [
      "4.0\n",
      "[4 5 3 6 2]\n",
      "4.0\n"
     ]
    }
   ],
   "source": [
    "X = np.arange(2, 7)\n",
    "print(np.mean(X))\n",
    "np.random.shuffle(X)\n",
    "print(X)\n",
    "print(np.mean(X))"
   ]
  },
  {
   "cell_type": "code",
   "execution_count": 136,
   "metadata": {},
   "outputs": [
    {
     "name": "stdout",
     "output_type": "stream",
     "text": [
      "[1 2 3 4 5 6 7]\n",
      "4.0\n"
     ]
    }
   ],
   "source": [
    "X = np.arange(1, 8)\n",
    "print(X)\n",
    "print(np.mean(X))"
   ]
  },
  {
   "cell_type": "code",
   "execution_count": 138,
   "metadata": {},
   "outputs": [
    {
     "name": "stdout",
     "output_type": "stream",
     "text": [
      "[[1 2 3]\n",
      " [4 5 6]\n",
      " [7 8 9]] \n",
      "\n",
      "5.0\n",
      "[4. 5. 6.] \n",
      "\n",
      "[2. 5. 8.]\n"
     ]
    }
   ],
   "source": [
    "X = np.arange(1, 10).reshape(3, 3)\n",
    "print(X, '\\n')\n",
    "print(np.mean(X))\n",
    "print(np.mean(X, 0), '\\n') # o np.mean(X, axis=0)\n",
    "print(np.mean(X, 1)) # o np.mean(X, axis=1)"
   ]
  },
  {
   "cell_type": "code",
   "execution_count": 139,
   "metadata": {},
   "outputs": [
    {
     "data": {
      "text/plain": [
       "\u001b[1;31mSignature:\u001b[0m \u001b[0mnp\u001b[0m\u001b[1;33m.\u001b[0m\u001b[0mmean\u001b[0m\u001b[1;33m(\u001b[0m\u001b[0ma\u001b[0m\u001b[1;33m,\u001b[0m \u001b[0maxis\u001b[0m\u001b[1;33m=\u001b[0m\u001b[1;32mNone\u001b[0m\u001b[1;33m,\u001b[0m \u001b[0mdtype\u001b[0m\u001b[1;33m=\u001b[0m\u001b[1;32mNone\u001b[0m\u001b[1;33m,\u001b[0m \u001b[0mout\u001b[0m\u001b[1;33m=\u001b[0m\u001b[1;32mNone\u001b[0m\u001b[1;33m,\u001b[0m \u001b[0mkeepdims\u001b[0m\u001b[1;33m=\u001b[0m\u001b[1;33m<\u001b[0m\u001b[0mno\u001b[0m \u001b[0mvalue\u001b[0m\u001b[1;33m>\u001b[0m\u001b[1;33m)\u001b[0m\u001b[1;33m\u001b[0m\u001b[0m\n",
       "\u001b[1;31mDocstring:\u001b[0m\n",
       "Compute the arithmetic mean along the specified axis.\n",
       "\n",
       "Returns the average of the array elements.  The average is taken over\n",
       "the flattened array by default, otherwise over the specified axis.\n",
       "`float64` intermediate and return values are used for integer inputs.\n",
       "\n",
       "Parameters\n",
       "----------\n",
       "a : array_like\n",
       "    Array containing numbers whose mean is desired. If `a` is not an\n",
       "    array, a conversion is attempted.\n",
       "axis : None or int or tuple of ints, optional\n",
       "    Axis or axes along which the means are computed. The default is to\n",
       "    compute the mean of the flattened array.\n",
       "\n",
       "    .. versionadded:: 1.7.0\n",
       "\n",
       "    If this is a tuple of ints, a mean is performed over multiple axes,\n",
       "    instead of a single axis or all the axes as before.\n",
       "dtype : data-type, optional\n",
       "    Type to use in computing the mean.  For integer inputs, the default\n",
       "    is `float64`; for floating point inputs, it is the same as the\n",
       "    input dtype.\n",
       "out : ndarray, optional\n",
       "    Alternate output array in which to place the result.  The default\n",
       "    is ``None``; if provided, it must have the same shape as the\n",
       "    expected output, but the type will be cast if necessary.\n",
       "    See `doc.ufuncs` for details.\n",
       "\n",
       "keepdims : bool, optional\n",
       "    If this is set to True, the axes which are reduced are left\n",
       "    in the result as dimensions with size one. With this option,\n",
       "    the result will broadcast correctly against the input array.\n",
       "\n",
       "    If the default value is passed, then `keepdims` will not be\n",
       "    passed through to the `mean` method of sub-classes of\n",
       "    `ndarray`, however any non-default value will be.  If the\n",
       "    sub-class' method does not implement `keepdims` any\n",
       "    exceptions will be raised.\n",
       "\n",
       "Returns\n",
       "-------\n",
       "m : ndarray, see dtype parameter above\n",
       "    If `out=None`, returns a new array containing the mean values,\n",
       "    otherwise a reference to the output array is returned.\n",
       "\n",
       "See Also\n",
       "--------\n",
       "average : Weighted average\n",
       "std, var, nanmean, nanstd, nanvar\n",
       "\n",
       "Notes\n",
       "-----\n",
       "The arithmetic mean is the sum of the elements along the axis divided\n",
       "by the number of elements.\n",
       "\n",
       "Note that for floating-point input, the mean is computed using the\n",
       "same precision the input has.  Depending on the input data, this can\n",
       "cause the results to be inaccurate, especially for `float32` (see\n",
       "example below).  Specifying a higher-precision accumulator using the\n",
       "`dtype` keyword can alleviate this issue.\n",
       "\n",
       "By default, `float16` results are computed using `float32` intermediates\n",
       "for extra precision.\n",
       "\n",
       "Examples\n",
       "--------\n",
       ">>> a = np.array([[1, 2], [3, 4]])\n",
       ">>> np.mean(a)\n",
       "2.5\n",
       ">>> np.mean(a, axis=0)\n",
       "array([ 2.,  3.])\n",
       ">>> np.mean(a, axis=1)\n",
       "array([ 1.5,  3.5])\n",
       "\n",
       "In single precision, `mean` can be inaccurate:\n",
       "\n",
       ">>> a = np.zeros((2, 512*512), dtype=np.float32)\n",
       ">>> a[0, :] = 1.0\n",
       ">>> a[1, :] = 0.1\n",
       ">>> np.mean(a)\n",
       "0.54999924\n",
       "\n",
       "Computing the mean in float64 is more accurate:\n",
       "\n",
       ">>> np.mean(a, dtype=np.float64)\n",
       "0.55000000074505806\n",
       "\u001b[1;31mFile:\u001b[0m      c:\\users\\agus\\appdata\\local\\programs\\python\\python36\\lib\\site-packages\\numpy\\core\\fromnumeric.py\n",
       "\u001b[1;31mType:\u001b[0m      function\n"
      ]
     },
     "metadata": {},
     "output_type": "display_data"
    }
   ],
   "source": [
    "np.mean?"
   ]
  },
  {
   "cell_type": "markdown",
   "metadata": {},
   "source": [
    "## Varianza\n",
    "$$\n",
    "\\sigma_x=\\frac{1}{N}\\sum_{n=1}^{N} (x_n - \\bar{x})^2\n",
    "$$\n",
    "\n",
    "#### Mide la dispersión de los valores alrededor de la media"
   ]
  },
  {
   "cell_type": "code",
   "execution_count": 140,
   "metadata": {},
   "outputs": [
    {
     "name": "stdout",
     "output_type": "stream",
     "text": [
      "[4. 4. 4. 4. 4. 4. 4.]\n",
      "0.0\n"
     ]
    }
   ],
   "source": [
    "X = np.ones(7) * 4\n",
    "print(X)\n",
    "print(np.var(X))"
   ]
  },
  {
   "cell_type": "code",
   "execution_count": 141,
   "metadata": {},
   "outputs": [
    {
     "name": "stdout",
     "output_type": "stream",
     "text": [
      "[2 3 4 5 6]\n",
      "2.0\n"
     ]
    }
   ],
   "source": [
    "X = np.arange(2, 7)\n",
    "print(X)\n",
    "print(np.var(X))"
   ]
  },
  {
   "cell_type": "code",
   "execution_count": 142,
   "metadata": {},
   "outputs": [
    {
     "name": "stdout",
     "output_type": "stream",
     "text": [
      "[1 2 3 4 5 6 7]\n",
      "4.0\n"
     ]
    }
   ],
   "source": [
    "X = np.arange(1, 8)\n",
    "print(X)\n",
    "print(np.var(X))"
   ]
  },
  {
   "cell_type": "code",
   "execution_count": 144,
   "metadata": {},
   "outputs": [
    {
     "name": "stdout",
     "output_type": "stream",
     "text": [
      "[[1 2 3]\n",
      " [4 5 6]\n",
      " [7 8 9]] \n",
      "\n",
      "6.666666666666667\n",
      "[6. 6. 6.] \n",
      "\n",
      "[0.66666667 0.66666667 0.66666667]\n"
     ]
    }
   ],
   "source": [
    "X = np.arange(1, 10).reshape(3, 3)\n",
    "print(X, '\\n')\n",
    "print(np.var(X))\n",
    "print(np.var(X, 0), '\\n') # o np.var(X, axis=0)\n",
    "print(np.var(X, 1)) # o np.var(X, axis=1)"
   ]
  },
  {
   "cell_type": "markdown",
   "metadata": {},
   "source": [
    "Otras"
   ]
  },
  {
   "cell_type": "code",
   "execution_count": 145,
   "metadata": {},
   "outputs": [
    {
     "name": "stdout",
     "output_type": "stream",
     "text": [
      "[-3 -2 -1  0  1  2  3]\n",
      "-3\n",
      "3\n",
      "0\n"
     ]
    }
   ],
   "source": [
    "X = np.arange(-3, 4)\n",
    "print(X)\n",
    "print(np.min(X))\n",
    "print(np.max(X))\n",
    "print(np.sum(X))\n",
    "# también funcionan con axis"
   ]
  },
  {
   "cell_type": "code",
   "execution_count": 147,
   "metadata": {},
   "outputs": [
    {
     "name": "stdout",
     "output_type": "stream",
     "text": [
      "[-3 -2 -1  0  1  2  3]\n",
      "[3 2 1 0 1 2 3]\n",
      "[-1 -1 -1  0  1  1  1]\n"
     ]
    }
   ],
   "source": [
    "X = np.arange(-3, 4)\n",
    "print(X)\n",
    "print(np.abs(X))\n",
    "print(np.sign(X))"
   ]
  },
  {
   "cell_type": "code",
   "execution_count": 148,
   "metadata": {},
   "outputs": [
    {
     "name": "stdout",
     "output_type": "stream",
     "text": [
      "[4 6 2 1 5 7 3]\n",
      "3 1\n",
      "5 7\n"
     ]
    }
   ],
   "source": [
    "X = np.arange(1, 8)\n",
    "np.random.shuffle(X)\n",
    "print(X)\n",
    "arg_min = np.argmin(X)\n",
    "arg_max = np.argmax(X)\n",
    "print(arg_min, X[arg_min])\n",
    "print(arg_max, X[arg_max])"
   ]
  },
  {
   "cell_type": "code",
   "execution_count": 149,
   "metadata": {},
   "outputs": [
    {
     "name": "stdout",
     "output_type": "stream",
     "text": [
      "[1.7 2.7 3.7 4.7 5.7 6.7 7.7]\n",
      "[2. 3. 4. 5. 6. 7. 8.]\n"
     ]
    }
   ],
   "source": [
    "X = np.arange(1, 8) + 0.7\n",
    "print(X)\n",
    "print(np.round(X, 0))"
   ]
  },
  {
   "cell_type": "markdown",
   "metadata": {},
   "source": [
    "# Máscaras booleanas"
   ]
  },
  {
   "cell_type": "code",
   "execution_count": 150,
   "metadata": {},
   "outputs": [
    {
     "name": "stdout",
     "output_type": "stream",
     "text": [
      "[ True False]\n",
      "bool\n",
      "[0. 1.]\n",
      "float64\n"
     ]
    }
   ],
   "source": [
    "arr = np.array([0., 1.])\n",
    "mask = np.array([True, False])\n",
    "print(mask)\n",
    "print(mask.dtype)\n",
    "print(arr)\n",
    "print(arr.dtype)"
   ]
  },
  {
   "cell_type": "code",
   "execution_count": 151,
   "metadata": {},
   "outputs": [
    {
     "data": {
      "text/plain": [
       "array([0.])"
      ]
     },
     "execution_count": 151,
     "metadata": {},
     "output_type": "execute_result"
    }
   ],
   "source": [
    "arr[mask]"
   ]
  },
  {
   "cell_type": "code",
   "execution_count": 153,
   "metadata": {},
   "outputs": [],
   "source": [
    "mask = arr>3"
   ]
  },
  {
   "cell_type": "code",
   "execution_count": 155,
   "metadata": {},
   "outputs": [
    {
     "data": {
      "text/plain": [
       "array([4, 5, 6, 7, 8, 9])"
      ]
     },
     "execution_count": 155,
     "metadata": {},
     "output_type": "execute_result"
    }
   ],
   "source": [
    "arr[arr>3]"
   ]
  },
  {
   "cell_type": "code",
   "execution_count": null,
   "metadata": {},
   "outputs": [],
   "source": [
    "& and"
   ]
  },
  {
   "cell_type": "code",
   "execution_count": 160,
   "metadata": {},
   "outputs": [
    {
     "name": "stdout",
     "output_type": "stream",
     "text": [
      "[0 1 2 3 4 5 6 7 8 9]\n",
      "[False False False False  True  True  True  True  True  True]\n",
      "[ True  True  True  True False False False False False False]\n",
      "[False False False False  True  True  True  True False False]\n",
      "[ True  True  True False False False False False False  True]\n"
     ]
    }
   ],
   "source": [
    "arr = np.arange(10)\n",
    "print(arr)\n",
    "print(arr > 3)\n",
    "print(~(arr > 3))\n",
    "print((arr > 3) & (arr < 8))\n",
    "print((arr < 3) | (arr > 8))"
   ]
  },
  {
   "cell_type": "markdown",
   "metadata": {},
   "source": [
    "#### Puedo filtrar datos"
   ]
  },
  {
   "cell_type": "code",
   "execution_count": 161,
   "metadata": {},
   "outputs": [
    {
     "name": "stdout",
     "output_type": "stream",
     "text": [
      "[5.]\n"
     ]
    }
   ],
   "source": [
    "arr = np.array([5., 10.])\n",
    "mask = np.array([True, False])\n",
    "print(arr[mask])"
   ]
  },
  {
   "cell_type": "code",
   "execution_count": 165,
   "metadata": {},
   "outputs": [
    {
     "name": "stdout",
     "output_type": "stream",
     "text": [
      "[0 1 2 3 4 5 6 7 8 9]\n",
      "[4 5 6 7]\n"
     ]
    }
   ],
   "source": [
    "arr = np.arange(10)\n",
    "print(arr)\n",
    "mask = (arr > 3) & (arr < 8)\n",
    "mask1 = arr < 3\n",
    "print(arr[mask])"
   ]
  },
  {
   "cell_type": "code",
   "execution_count": 166,
   "metadata": {},
   "outputs": [
    {
     "data": {
      "text/plain": [
       "array([6, 7, 8, 9])"
      ]
     },
     "execution_count": 166,
     "metadata": {},
     "output_type": "execute_result"
    }
   ],
   "source": [
    "arr[mask]arr[mask] + 2"
   ]
  },
  {
   "cell_type": "markdown",
   "metadata": {},
   "source": [
    "#### Devuelvo siempre un array 1d"
   ]
  },
  {
   "cell_type": "code",
   "execution_count": 170,
   "metadata": {},
   "outputs": [
    {
     "data": {
      "text/plain": [
       "array([[ 0,  1,  2,  3,  4],\n",
       "       [10, 10, 10, 10, 10]])"
      ]
     },
     "execution_count": 170,
     "metadata": {},
     "output_type": "execute_result"
    }
   ],
   "source": [
    "arr[arr>4] = 10\n",
    "arr"
   ]
  },
  {
   "cell_type": "code",
   "execution_count": 167,
   "metadata": {},
   "outputs": [
    {
     "name": "stdout",
     "output_type": "stream",
     "text": [
      "[[0 1 2 3 4]\n",
      " [5 6 7 8 9]]\n",
      "[4 5 6 7]\n"
     ]
    }
   ],
   "source": [
    "arr = np.arange(10).reshape(2, 5)\n",
    "mask = (arr > 3) & (arr < 8)\n",
    "print(arr)\n",
    "print(arr[mask])"
   ]
  },
  {
   "cell_type": "markdown",
   "metadata": {},
   "source": [
    "#### Puedo usar *np.zeros* y *np.ones* para crear arrays de False y True"
   ]
  },
  {
   "cell_type": "code",
   "execution_count": 168,
   "metadata": {},
   "outputs": [
    {
     "data": {
      "text/plain": [
       "array([False, False, False, False, False, False, False, False, False,\n",
       "       False])"
      ]
     },
     "execution_count": 168,
     "metadata": {},
     "output_type": "execute_result"
    }
   ],
   "source": [
    "np.zeros(10, dtype=bool)\n",
    "# np.ones(10, dtype=bool)"
   ]
  },
  {
   "cell_type": "markdown",
   "metadata": {},
   "source": [
    "#### np.any y np.all"
   ]
  },
  {
   "cell_type": "code",
   "execution_count": 171,
   "metadata": {},
   "outputs": [
    {
     "name": "stdout",
     "output_type": "stream",
     "text": [
      "[False False False False False False False False False False]   any= False\n",
      "[False False False False False  True False False False False]   any= True\n"
     ]
    }
   ],
   "source": [
    "mask = np.zeros(10, dtype=bool)\n",
    "print(mask, '  any=', np.any(mask))\n",
    "mask[5] = True\n",
    "print(mask, '  any=', np.any(mask))"
   ]
  },
  {
   "cell_type": "code",
   "execution_count": 172,
   "metadata": {},
   "outputs": [
    {
     "name": "stdout",
     "output_type": "stream",
     "text": [
      "[ True  True  True  True  True  True  True  True  True  True]   all= True\n",
      "[ True  True  True  True  True False  True  True  True  True]   all= False\n"
     ]
    }
   ],
   "source": [
    "mask = np.ones(10, dtype=bool)\n",
    "print(mask, '  all=', np.all(mask))\n",
    "mask[5] = False\n",
    "print(mask, '  all=', np.all(mask))"
   ]
  },
  {
   "cell_type": "code",
   "execution_count": 175,
   "metadata": {},
   "outputs": [
    {
     "data": {
      "text/plain": [
       "array([[ True,  True,  True],\n",
       "       [ True, False, False],\n",
       "       [ True, False,  True]])"
      ]
     },
     "execution_count": 175,
     "metadata": {},
     "output_type": "execute_result"
    }
   ],
   "source": [
    "np.random.randint(2, size=(3, 3)).astype(bool)"
   ]
  },
  {
   "cell_type": "code",
   "execution_count": 176,
   "metadata": {},
   "outputs": [
    {
     "name": "stdout",
     "output_type": "stream",
     "text": [
      "[[ True  True False]\n",
      " [False False False]\n",
      " [False False  True]] \n",
      "\n",
      "[False False False] \n",
      "\n",
      "[False False False]\n"
     ]
    }
   ],
   "source": [
    "# mask = np.array(np.random.randint(2, size=(3, 3)), dtype=bool)\n",
    "mask = np.random.randint(2, size=(3, 3)).astype(bool)\n",
    "print(mask, '\\n')\n",
    "print(np.all(mask, 0), '\\n')\n",
    "print(np.all(mask, 1))"
   ]
  },
  {
   "cell_type": "code",
   "execution_count": 187,
   "metadata": {},
   "outputs": [
    {
     "name": "stdout",
     "output_type": "stream",
     "text": [
      "[[5 1 9 6 4]\n",
      " [3 8 7 0 2]]\n"
     ]
    }
   ],
   "source": [
    "arr = np.arange(10)\n",
    "np.random.shuffle(arr)\n",
    "arr = arr.reshape(2,5)\n",
    "print(arr)\n"
   ]
  },
  {
   "cell_type": "code",
   "execution_count": 190,
   "metadata": {},
   "outputs": [
    {
     "data": {
      "text/plain": [
       "array([9, 8, 7])"
      ]
     },
     "execution_count": 190,
     "metadata": {},
     "output_type": "execute_result"
    }
   ],
   "source": [
    "idxs = np.where(arr.reshape(2,5)>6)\n",
    "arr[idxs]"
   ]
  },
  {
   "cell_type": "code",
   "execution_count": null,
   "metadata": {},
   "outputs": [],
   "source": [
    "mask = np.array(np.random.randint(2, size=(3, 3)), dtype=bool)\n",
    "print(mask, '\\n')\n",
    "print(np.where(mask), '\\n')"
   ]
  },
  {
   "cell_type": "markdown",
   "metadata": {},
   "source": [
    "# Ejercicios"
   ]
  },
  {
   "cell_type": "markdown",
   "metadata": {},
   "source": [
    "1. Crear un arreglo de ceros de longitud 12\n",
    "2. Crear un arreglo de longitud 10 con ceros en todas sus posiciones y un 10 en la posición número 5\n",
    "3. Crear un arreglo que tenga los números del 10 al 49\n",
    "4. Crear una arreglo 2d de shape (3, 3) que tenga los números del 0 al 8\n",
    "5. Crear un arreglo de números aleatorios de longitud 100 y obtener su media y varianza\n",
    "6. Calcular la media de un arreglo usando np.sum\n",
    "7. Calcular la varianza de un arreglo usando np.sum y np.mean\n",
    "8. Crear un array de números aleatorios usando np.random.randn y llenar con ceros todas las posiciones menores a 0 usando una máscara\n",
    "9. Crear el array np.arange(10) e insertar el número 0 en todos los valores pares usando una máscara\n",
    "10. Crear un arreglo de números aleatorios de longitud 10. Hallar el valor mínimo y reemplazarlo por 0"
   ]
  }
 ],
 "metadata": {
  "kernelspec": {
   "display_name": "Python 3",
   "language": "python",
   "name": "python3"
  },
  "language_info": {
   "codemirror_mode": {
    "name": "ipython",
    "version": 3
   },
   "file_extension": ".py",
   "mimetype": "text/x-python",
   "name": "python",
   "nbconvert_exporter": "python",
   "pygments_lexer": "ipython3",
   "version": "3.7.3"
  }
 },
 "nbformat": 4,
 "nbformat_minor": 2
}
