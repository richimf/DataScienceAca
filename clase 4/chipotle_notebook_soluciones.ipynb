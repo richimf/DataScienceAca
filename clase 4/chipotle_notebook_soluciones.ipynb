{
 "cells": [
  {
   "cell_type": "markdown",
   "metadata": {},
   "source": [
    "### Importar las librerías"
   ]
  },
  {
   "cell_type": "code",
   "execution_count": 40,
   "metadata": {},
   "outputs": [],
   "source": [
    "import pandas as pd"
   ]
  },
  {
   "cell_type": "markdown",
   "metadata": {},
   "source": [
    "### Cargar el archivo chipotle.csv en un dataframe y guardarlo en una variable de nombre chipo"
   ]
  },
  {
   "cell_type": "code",
   "execution_count": 41,
   "metadata": {},
   "outputs": [],
   "source": [
    "chipo = pd.read_csv('./chipotle.csv')"
   ]
  },
  {
   "cell_type": "markdown",
   "metadata": {},
   "source": [
    "### Ver las primeras 10 filas"
   ]
  },
  {
   "cell_type": "code",
   "execution_count": 42,
   "metadata": {},
   "outputs": [
    {
     "data": {
      "text/html": [
       "<div>\n",
       "<style scoped>\n",
       "    .dataframe tbody tr th:only-of-type {\n",
       "        vertical-align: middle;\n",
       "    }\n",
       "\n",
       "    .dataframe tbody tr th {\n",
       "        vertical-align: top;\n",
       "    }\n",
       "\n",
       "    .dataframe thead th {\n",
       "        text-align: right;\n",
       "    }\n",
       "</style>\n",
       "<table border=\"1\" class=\"dataframe\">\n",
       "  <thead>\n",
       "    <tr style=\"text-align: right;\">\n",
       "      <th></th>\n",
       "      <th>order_id</th>\n",
       "      <th>quantity</th>\n",
       "      <th>item_name</th>\n",
       "      <th>choice_description</th>\n",
       "      <th>item_price</th>\n",
       "    </tr>\n",
       "  </thead>\n",
       "  <tbody>\n",
       "    <tr>\n",
       "      <th>0</th>\n",
       "      <td>1</td>\n",
       "      <td>1</td>\n",
       "      <td>Chips and Fresh Tomato Salsa</td>\n",
       "      <td>NaN</td>\n",
       "      <td>$2.39</td>\n",
       "    </tr>\n",
       "    <tr>\n",
       "      <th>1</th>\n",
       "      <td>1</td>\n",
       "      <td>1</td>\n",
       "      <td>Izze</td>\n",
       "      <td>[Clementine]</td>\n",
       "      <td>$3.39</td>\n",
       "    </tr>\n",
       "    <tr>\n",
       "      <th>2</th>\n",
       "      <td>1</td>\n",
       "      <td>1</td>\n",
       "      <td>Nantucket Nectar</td>\n",
       "      <td>[Apple]</td>\n",
       "      <td>$3.39</td>\n",
       "    </tr>\n",
       "    <tr>\n",
       "      <th>3</th>\n",
       "      <td>1</td>\n",
       "      <td>1</td>\n",
       "      <td>Chips and Tomatillo-Green Chili Salsa</td>\n",
       "      <td>NaN</td>\n",
       "      <td>$2.39</td>\n",
       "    </tr>\n",
       "    <tr>\n",
       "      <th>4</th>\n",
       "      <td>2</td>\n",
       "      <td>2</td>\n",
       "      <td>Chicken Bowl</td>\n",
       "      <td>[Tomatillo-Red Chili Salsa (Hot), [Black Beans...</td>\n",
       "      <td>$16.98</td>\n",
       "    </tr>\n",
       "    <tr>\n",
       "      <th>5</th>\n",
       "      <td>3</td>\n",
       "      <td>1</td>\n",
       "      <td>Chicken Bowl</td>\n",
       "      <td>[Fresh Tomato Salsa (Mild), [Rice, Cheese, Sou...</td>\n",
       "      <td>$10.98</td>\n",
       "    </tr>\n",
       "    <tr>\n",
       "      <th>6</th>\n",
       "      <td>3</td>\n",
       "      <td>1</td>\n",
       "      <td>Side of Chips</td>\n",
       "      <td>NaN</td>\n",
       "      <td>$1.69</td>\n",
       "    </tr>\n",
       "    <tr>\n",
       "      <th>7</th>\n",
       "      <td>4</td>\n",
       "      <td>1</td>\n",
       "      <td>Steak Burrito</td>\n",
       "      <td>[Tomatillo Red Chili Salsa, [Fajita Vegetables...</td>\n",
       "      <td>$11.75</td>\n",
       "    </tr>\n",
       "    <tr>\n",
       "      <th>8</th>\n",
       "      <td>4</td>\n",
       "      <td>1</td>\n",
       "      <td>Steak Soft Tacos</td>\n",
       "      <td>[Tomatillo Green Chili Salsa, [Pinto Beans, Ch...</td>\n",
       "      <td>$9.25</td>\n",
       "    </tr>\n",
       "    <tr>\n",
       "      <th>9</th>\n",
       "      <td>5</td>\n",
       "      <td>1</td>\n",
       "      <td>Steak Burrito</td>\n",
       "      <td>[Fresh Tomato Salsa, [Rice, Black Beans, Pinto...</td>\n",
       "      <td>$9.25</td>\n",
       "    </tr>\n",
       "  </tbody>\n",
       "</table>\n",
       "</div>"
      ],
      "text/plain": [
       "   order_id  quantity                              item_name  \\\n",
       "0         1         1           Chips and Fresh Tomato Salsa   \n",
       "1         1         1                                   Izze   \n",
       "2         1         1                       Nantucket Nectar   \n",
       "3         1         1  Chips and Tomatillo-Green Chili Salsa   \n",
       "4         2         2                           Chicken Bowl   \n",
       "5         3         1                           Chicken Bowl   \n",
       "6         3         1                          Side of Chips   \n",
       "7         4         1                          Steak Burrito   \n",
       "8         4         1                       Steak Soft Tacos   \n",
       "9         5         1                          Steak Burrito   \n",
       "\n",
       "                                  choice_description item_price  \n",
       "0                                                NaN     $2.39   \n",
       "1                                       [Clementine]     $3.39   \n",
       "2                                            [Apple]     $3.39   \n",
       "3                                                NaN     $2.39   \n",
       "4  [Tomatillo-Red Chili Salsa (Hot), [Black Beans...    $16.98   \n",
       "5  [Fresh Tomato Salsa (Mild), [Rice, Cheese, Sou...    $10.98   \n",
       "6                                                NaN     $1.69   \n",
       "7  [Tomatillo Red Chili Salsa, [Fajita Vegetables...    $11.75   \n",
       "8  [Tomatillo Green Chili Salsa, [Pinto Beans, Ch...     $9.25   \n",
       "9  [Fresh Tomato Salsa, [Rice, Black Beans, Pinto...     $9.25   "
      ]
     },
     "execution_count": 42,
     "metadata": {},
     "output_type": "execute_result"
    }
   ],
   "source": [
    "chipo.head(10)"
   ]
  },
  {
   "cell_type": "code",
   "execution_count": 43,
   "metadata": {},
   "outputs": [
    {
     "data": {
      "text/plain": [
       "18"
      ]
     },
     "execution_count": 43,
     "metadata": {},
     "output_type": "execute_result"
    }
   ],
   "source": [
    "chipo[chipo.item_name == \"Veggie Salad Bowl\"].quantity.sum()"
   ]
  },
  {
   "cell_type": "markdown",
   "metadata": {},
   "source": [
    "### ¿Cuál es el número de muestras en el dataset? ¿Y el número de atributos? Mostrar el nombre de los atributos"
   ]
  },
  {
   "cell_type": "code",
   "execution_count": 44,
   "metadata": {},
   "outputs": [
    {
     "name": "stdout",
     "output_type": "stream",
     "text": [
      "<class 'pandas.core.frame.DataFrame'>\n",
      "RangeIndex: 4622 entries, 0 to 4621\n",
      "Data columns (total 5 columns):\n",
      "order_id              4622 non-null int64\n",
      "quantity              4622 non-null int64\n",
      "item_name             4622 non-null object\n",
      "choice_description    3376 non-null object\n",
      "item_price            4622 non-null object\n",
      "dtypes: int64(2), object(3)\n",
      "memory usage: 180.6+ KB\n"
     ]
    }
   ],
   "source": [
    "chipo.shape\n",
    "chipo.info()"
   ]
  },
  {
   "cell_type": "markdown",
   "metadata": {},
   "source": [
    "### ¿Cuántos items se ordenaron en total? Notar que una fila puede contener más de un item en la columna *quantity*"
   ]
  },
  {
   "cell_type": "code",
   "execution_count": 45,
   "metadata": {
    "collapsed": false
   },
   "outputs": [
    {
     "data": {
      "text/plain": [
       "4972"
      ]
     },
     "execution_count": 45,
     "metadata": {},
     "output_type": "execute_result"
    }
   ],
   "source": [
    "# chipo.quantity.value_counts()\n",
    "\n",
    "chipo.quantity.sum()"
   ]
  },
  {
   "cell_type": "markdown",
   "metadata": {},
   "source": [
    "### ¿Cuántas órdenes se hicieron en total? Notar que en una orden se pueden comprar muchos productos. Hay una orden por cada *orden_id*"
   ]
  },
  {
   "cell_type": "code",
   "execution_count": 46,
   "metadata": {
    "collapsed": false
   },
   "outputs": [
    {
     "data": {
      "text/plain": [
       "1834"
      ]
     },
     "execution_count": 46,
     "metadata": {},
     "output_type": "execute_result"
    }
   ],
   "source": [
    "# chipo.order_id.nunique()\n",
    "\n",
    "chipo.order_id.max() # asumiendo que no falta ningun orden_id\n",
    "\n",
    "# chipo.groupby('order_id').count().shape\n",
    "# chipo.order_id.unique()"
   ]
  },
  {
   "cell_type": "markdown",
   "metadata": {},
   "source": [
    "### ¿Cuántos items diferentes se venden?"
   ]
  },
  {
   "cell_type": "code",
   "execution_count": 47,
   "metadata": {
    "collapsed": false
   },
   "outputs": [
    {
     "data": {
      "text/plain": [
       "(50,)"
      ]
     },
     "execution_count": 47,
     "metadata": {},
     "output_type": "execute_result"
    }
   ],
   "source": [
    "# chipo.item_name.nunique()\n",
    "# len(chipo.item_name.unique())\n",
    "chipo.item_name.unique().shape"
   ]
  },
  {
   "cell_type": "markdown",
   "metadata": {},
   "source": [
    "### Convertir el atributo *item_price* a float. Tener en cuenta que el formato es un string de la forma \"$2.39 \" por lo que necesitamos remover el primer y el último caracter del string. **IMPORTANTE PARA SEGUIR**"
   ]
  },
  {
   "cell_type": "code",
   "execution_count": 52,
   "metadata": {},
   "outputs": [],
   "source": [
    "chipo['item_price'] = chipo['item_price'].replace( '[\\$,)]','', regex=True, inplace=True)"
   ]
  },
  {
   "cell_type": "code",
   "execution_count": 53,
   "metadata": {},
   "outputs": [
    {
     "data": {
      "text/plain": [
       "0     2.39 \n",
       "1     3.39 \n",
       "2     3.39 \n",
       "3     2.39 \n",
       "4    16.98 \n",
       "Name: item_price, dtype: object"
      ]
     },
     "execution_count": 53,
     "metadata": {},
     "output_type": "execute_result"
    }
   ],
   "source": [
    "chipo.item_price.head()"
   ]
  },
  {
   "cell_type": "code",
   "execution_count": 34,
   "metadata": {},
   "outputs": [
    {
     "name": "stdout",
     "output_type": "stream",
     "text": [
      "<class 'pandas.core.series.Series'> object\n"
     ]
    }
   ],
   "source": [
    "print(type(chipo['item_price']), chipo.item_price.dtype)"
   ]
  },
  {
   "cell_type": "code",
   "execution_count": 20,
   "metadata": {},
   "outputs": [],
   "source": [
    "chipo['item_price'] = chipo['item_price'].str[1:-1].astype('float')\n",
    "# chipo.item_price.dtype"
   ]
  },
  {
   "cell_type": "markdown",
   "metadata": {},
   "source": [
    "¿De qué otra manera podemos referirnos a la columna *item_price* del dataframe?"
   ]
  },
  {
   "cell_type": "code",
   "execution_count": 21,
   "metadata": {},
   "outputs": [
    {
     "data": {
      "text/plain": [
       "0        2.39\n",
       "1        3.39\n",
       "2        3.39\n",
       "3        2.39\n",
       "4       16.98\n",
       "5       10.98\n",
       "6        1.69\n",
       "7       11.75\n",
       "8        9.25\n",
       "9        9.25\n",
       "10       4.45\n",
       "11       8.75\n",
       "12       8.75\n",
       "13      11.25\n",
       "14       4.45\n",
       "15       2.39\n",
       "16       8.49\n",
       "17       8.49\n",
       "18       2.18\n",
       "19       8.75\n",
       "20       4.45\n",
       "21       8.99\n",
       "22       3.39\n",
       "23      10.98\n",
       "24       3.39\n",
       "25       2.39\n",
       "26       8.49\n",
       "27       8.99\n",
       "28       1.09\n",
       "29       8.49\n",
       "        ...  \n",
       "4592    11.75\n",
       "4593    11.75\n",
       "4594    11.75\n",
       "4595     8.75\n",
       "4596     4.45\n",
       "4597     1.25\n",
       "4598     1.50\n",
       "4599     8.75\n",
       "4600     4.45\n",
       "4601     1.25\n",
       "4602     9.25\n",
       "4603     9.25\n",
       "4604     8.75\n",
       "4605     4.45\n",
       "4606     1.25\n",
       "4607    11.75\n",
       "4608    11.25\n",
       "4609     1.25\n",
       "4610    11.75\n",
       "4611    11.25\n",
       "4612     9.25\n",
       "4613     2.15\n",
       "4614     1.50\n",
       "4615     8.75\n",
       "4616     4.45\n",
       "4617    11.75\n",
       "4618    11.75\n",
       "4619    11.25\n",
       "4620     8.75\n",
       "4621     8.75\n",
       "Name: item_price, Length: 4622, dtype: float64"
      ]
     },
     "execution_count": 21,
     "metadata": {},
     "output_type": "execute_result"
    }
   ],
   "source": [
    "chipo.item_price\n",
    "chipo.loc[:, 'item_price']"
   ]
  },
  {
   "cell_type": "markdown",
   "metadata": {},
   "source": [
    "### ¿En qué consistió la orden número 1000? ¿Cuánto gastó?"
   ]
  },
  {
   "cell_type": "code",
   "execution_count": 31,
   "metadata": {},
   "outputs": [
    {
     "data": {
      "text/html": [
       "<div>\n",
       "<style scoped>\n",
       "    .dataframe tbody tr th:only-of-type {\n",
       "        vertical-align: middle;\n",
       "    }\n",
       "\n",
       "    .dataframe tbody tr th {\n",
       "        vertical-align: top;\n",
       "    }\n",
       "\n",
       "    .dataframe thead th {\n",
       "        text-align: right;\n",
       "    }\n",
       "</style>\n",
       "<table border=\"1\" class=\"dataframe\">\n",
       "  <thead>\n",
       "    <tr style=\"text-align: right;\">\n",
       "      <th></th>\n",
       "      <th>order_id</th>\n",
       "      <th>quantity</th>\n",
       "      <th>item_name</th>\n",
       "      <th>choice_description</th>\n",
       "      <th>item_price</th>\n",
       "    </tr>\n",
       "  </thead>\n",
       "  <tbody>\n",
       "    <tr>\n",
       "      <th>2517</th>\n",
       "      <td>1000</td>\n",
       "      <td>1</td>\n",
       "      <td>Barbacoa Bowl</td>\n",
       "      <td>[Roasted Chili Corn Salsa, [Rice, Black Beans,...</td>\n",
       "      <td>9.25</td>\n",
       "    </tr>\n",
       "    <tr>\n",
       "      <th>2518</th>\n",
       "      <td>1000</td>\n",
       "      <td>1</td>\n",
       "      <td>Chicken Bowl</td>\n",
       "      <td>[Fresh Tomato Salsa, [Black Beans, Cheese, Gua...</td>\n",
       "      <td>11.25</td>\n",
       "    </tr>\n",
       "  </tbody>\n",
       "</table>\n",
       "</div>"
      ],
      "text/plain": [
       "      order_id  quantity      item_name  \\\n",
       "2517      1000         1  Barbacoa Bowl   \n",
       "2518      1000         1   Chicken Bowl   \n",
       "\n",
       "                                     choice_description  item_price  \n",
       "2517  [Roasted Chili Corn Salsa, [Rice, Black Beans,...        9.25  \n",
       "2518  [Fresh Tomato Salsa, [Black Beans, Cheese, Gua...       11.25  "
      ]
     },
     "metadata": {},
     "output_type": "display_data"
    }
   ],
   "source": [
    "# aux = chipo[chipo.order_id == 1000]\n",
    "# (aux.item_price * aux.quantity).sum()\n",
    "display(aux)"
   ]
  },
  {
   "cell_type": "markdown",
   "metadata": {},
   "source": [
    "### ¿Cuántas *Veggie Salad Bowl* se compraron?"
   ]
  },
  {
   "cell_type": "code",
   "execution_count": 44,
   "metadata": {
    "collapsed": false
   },
   "outputs": [],
   "source": [
    "# chipo[chipo.item_name == \"Veggie Salad Bowl\"]#.quantity.sum()\n",
    "# chipo[chipo.item_name == \"Veggie Salad Bowl\"]\n",
    "# chipo.loc[chipo.item_name == \"Veggie Salad Bowl\", :]\n",
    "\n",
    "# chipo.query(\"item_name == 'Veggie Salad Bowl'\")"
   ]
  },
  {
   "cell_type": "markdown",
   "metadata": {},
   "source": [
    "### ¿Cuántas veces alguien ordenó más de una *Canned Soda*?"
   ]
  },
  {
   "cell_type": "markdown",
   "metadata": {},
   "source": [
    "¿Cuántas veces en una fila hay más de una *Canned Soda* en *quantity*?"
   ]
  },
  {
   "cell_type": "code",
   "execution_count": 46,
   "metadata": {
    "collapsed": false
   },
   "outputs": [
    {
     "data": {
      "text/plain": [
       "20"
      ]
     },
     "execution_count": 46,
     "metadata": {},
     "output_type": "execute_result"
    }
   ],
   "source": [
    "len(chipo[(chipo.item_name == \"Canned Soda\") & (chipo.quantity > 1)])#.shape[0]\n",
    "\n",
    "\n",
    "# aux = chipo.groupby(['order_id', 'item_name']).quantity.sum()\n",
    "# aux = aux.reset_index()\n",
    "# aux[(aux.item_name == \"Canned Soda\") & (aux.quantity > 1)].shape[0]"
   ]
  },
  {
   "cell_type": "markdown",
   "metadata": {},
   "source": [
    "¿Cuántas veces alguien ordenó más de una *Canned Soda* teniendo en cuenta que en una orden puede haber más de una separada?"
   ]
  },
  {
   "cell_type": "code",
   "execution_count": 53,
   "metadata": {},
   "outputs": [
    {
     "data": {
      "text/plain": [
       "24"
      ]
     },
     "execution_count": 53,
     "metadata": {},
     "output_type": "execute_result"
    }
   ],
   "source": [
    "# chipo.groupby('order_id').sum() # notar que order_id pasa a ser index\n",
    "\n",
    "chipo_soda = chipo[chipo.item_name == \"Canned Soda\"]\n",
    "\n",
    "chipo_soda.groupby(['order_id']).sum().quantity\n",
    "\n",
    "soda_orders = chipo_soda.groupby(['order_id']).sum().quantity\n",
    "soda_orders[soda_orders > 1].count()"
   ]
  },
  {
   "cell_type": "markdown",
   "metadata": {},
   "source": [
    "### Agregar una columna de nombre *revenue* (ingreso) que contenga el dinero ganado por la compra de los items de la fila"
   ]
  },
  {
   "cell_type": "code",
   "execution_count": 57,
   "metadata": {
    "collapsed": false
   },
   "outputs": [
    {
     "data": {
      "text/html": [
       "<div>\n",
       "<style scoped>\n",
       "    .dataframe tbody tr th:only-of-type {\n",
       "        vertical-align: middle;\n",
       "    }\n",
       "\n",
       "    .dataframe tbody tr th {\n",
       "        vertical-align: top;\n",
       "    }\n",
       "\n",
       "    .dataframe thead th {\n",
       "        text-align: right;\n",
       "    }\n",
       "</style>\n",
       "<table border=\"1\" class=\"dataframe\">\n",
       "  <thead>\n",
       "    <tr style=\"text-align: right;\">\n",
       "      <th></th>\n",
       "      <th>order_id</th>\n",
       "      <th>quantity</th>\n",
       "      <th>item_name</th>\n",
       "      <th>choice_description</th>\n",
       "      <th>item_price</th>\n",
       "      <th>revenue</th>\n",
       "    </tr>\n",
       "  </thead>\n",
       "  <tbody>\n",
       "    <tr>\n",
       "      <th>0</th>\n",
       "      <td>1</td>\n",
       "      <td>1</td>\n",
       "      <td>Chips and Fresh Tomato Salsa</td>\n",
       "      <td>NaN</td>\n",
       "      <td>2.39</td>\n",
       "      <td>2.39</td>\n",
       "    </tr>\n",
       "    <tr>\n",
       "      <th>1</th>\n",
       "      <td>1</td>\n",
       "      <td>1</td>\n",
       "      <td>Izze</td>\n",
       "      <td>[Clementine]</td>\n",
       "      <td>3.39</td>\n",
       "      <td>3.39</td>\n",
       "    </tr>\n",
       "    <tr>\n",
       "      <th>2</th>\n",
       "      <td>1</td>\n",
       "      <td>1</td>\n",
       "      <td>Nantucket Nectar</td>\n",
       "      <td>[Apple]</td>\n",
       "      <td>3.39</td>\n",
       "      <td>3.39</td>\n",
       "    </tr>\n",
       "    <tr>\n",
       "      <th>3</th>\n",
       "      <td>1</td>\n",
       "      <td>1</td>\n",
       "      <td>Chips and Tomatillo-Green Chili Salsa</td>\n",
       "      <td>NaN</td>\n",
       "      <td>2.39</td>\n",
       "      <td>2.39</td>\n",
       "    </tr>\n",
       "    <tr>\n",
       "      <th>4</th>\n",
       "      <td>2</td>\n",
       "      <td>2</td>\n",
       "      <td>Chicken Bowl</td>\n",
       "      <td>[Tomatillo-Red Chili Salsa (Hot), [Black Beans...</td>\n",
       "      <td>16.98</td>\n",
       "      <td>33.96</td>\n",
       "    </tr>\n",
       "    <tr>\n",
       "      <th>5</th>\n",
       "      <td>3</td>\n",
       "      <td>1</td>\n",
       "      <td>Chicken Bowl</td>\n",
       "      <td>[Fresh Tomato Salsa (Mild), [Rice, Cheese, Sou...</td>\n",
       "      <td>10.98</td>\n",
       "      <td>10.98</td>\n",
       "    </tr>\n",
       "    <tr>\n",
       "      <th>6</th>\n",
       "      <td>3</td>\n",
       "      <td>1</td>\n",
       "      <td>Side of Chips</td>\n",
       "      <td>NaN</td>\n",
       "      <td>1.69</td>\n",
       "      <td>1.69</td>\n",
       "    </tr>\n",
       "    <tr>\n",
       "      <th>7</th>\n",
       "      <td>4</td>\n",
       "      <td>1</td>\n",
       "      <td>Steak Burrito</td>\n",
       "      <td>[Tomatillo Red Chili Salsa, [Fajita Vegetables...</td>\n",
       "      <td>11.75</td>\n",
       "      <td>11.75</td>\n",
       "    </tr>\n",
       "    <tr>\n",
       "      <th>8</th>\n",
       "      <td>4</td>\n",
       "      <td>1</td>\n",
       "      <td>Steak Soft Tacos</td>\n",
       "      <td>[Tomatillo Green Chili Salsa, [Pinto Beans, Ch...</td>\n",
       "      <td>9.25</td>\n",
       "      <td>9.25</td>\n",
       "    </tr>\n",
       "    <tr>\n",
       "      <th>9</th>\n",
       "      <td>5</td>\n",
       "      <td>1</td>\n",
       "      <td>Steak Burrito</td>\n",
       "      <td>[Fresh Tomato Salsa, [Rice, Black Beans, Pinto...</td>\n",
       "      <td>9.25</td>\n",
       "      <td>9.25</td>\n",
       "    </tr>\n",
       "  </tbody>\n",
       "</table>\n",
       "</div>"
      ],
      "text/plain": [
       "   order_id  quantity                              item_name  \\\n",
       "0         1         1           Chips and Fresh Tomato Salsa   \n",
       "1         1         1                                   Izze   \n",
       "2         1         1                       Nantucket Nectar   \n",
       "3         1         1  Chips and Tomatillo-Green Chili Salsa   \n",
       "4         2         2                           Chicken Bowl   \n",
       "5         3         1                           Chicken Bowl   \n",
       "6         3         1                          Side of Chips   \n",
       "7         4         1                          Steak Burrito   \n",
       "8         4         1                       Steak Soft Tacos   \n",
       "9         5         1                          Steak Burrito   \n",
       "\n",
       "                                  choice_description  item_price  revenue  \n",
       "0                                                NaN        2.39     2.39  \n",
       "1                                       [Clementine]        3.39     3.39  \n",
       "2                                            [Apple]        3.39     3.39  \n",
       "3                                                NaN        2.39     2.39  \n",
       "4  [Tomatillo-Red Chili Salsa (Hot), [Black Beans...       16.98    33.96  \n",
       "5  [Fresh Tomato Salsa (Mild), [Rice, Cheese, Sou...       10.98    10.98  \n",
       "6                                                NaN        1.69     1.69  \n",
       "7  [Tomatillo Red Chili Salsa, [Fajita Vegetables...       11.75    11.75  \n",
       "8  [Tomatillo Green Chili Salsa, [Pinto Beans, Ch...        9.25     9.25  \n",
       "9  [Fresh Tomato Salsa, [Rice, Black Beans, Pinto...        9.25     9.25  "
      ]
     },
     "execution_count": 57,
     "metadata": {},
     "output_type": "execute_result"
    }
   ],
   "source": [
    "# chipo['revenue'] = chipo['quantity'] * chipo['item_price']\n",
    "chipo.head(10)"
   ]
  },
  {
   "cell_type": "markdown",
   "metadata": {},
   "source": [
    "### ¿Cuál es el *revenue* (ingreso) promedio por orden?"
   ]
  },
  {
   "cell_type": "code",
   "execution_count": 60,
   "metadata": {
    "collapsed": false
   },
   "outputs": [
    {
     "data": {
      "text/plain": [
       "21.394231188658654"
      ]
     },
     "execution_count": 60,
     "metadata": {},
     "output_type": "execute_result"
    }
   ],
   "source": [
    "# chipo.groupby(['order_id']).sum()\n",
    "\n",
    "chipo.groupby(['order_id']).sum().mean()['revenue']"
   ]
  },
  {
   "cell_type": "markdown",
   "metadata": {},
   "source": [
    "### Mostrar las 3 filas que dieron como resultado el mayor *revenue*"
   ]
  },
  {
   "cell_type": "code",
   "execution_count": 63,
   "metadata": {
    "collapsed": false
   },
   "outputs": [
    {
     "data": {
      "text/html": [
       "<div>\n",
       "<style scoped>\n",
       "    .dataframe tbody tr th:only-of-type {\n",
       "        vertical-align: middle;\n",
       "    }\n",
       "\n",
       "    .dataframe tbody tr th {\n",
       "        vertical-align: top;\n",
       "    }\n",
       "\n",
       "    .dataframe thead th {\n",
       "        text-align: right;\n",
       "    }\n",
       "</style>\n",
       "<table border=\"1\" class=\"dataframe\">\n",
       "  <thead>\n",
       "    <tr style=\"text-align: right;\">\n",
       "      <th></th>\n",
       "      <th>order_id</th>\n",
       "      <th>quantity</th>\n",
       "      <th>item_name</th>\n",
       "      <th>choice_description</th>\n",
       "      <th>item_price</th>\n",
       "      <th>revenue</th>\n",
       "    </tr>\n",
       "  </thead>\n",
       "  <tbody>\n",
       "    <tr>\n",
       "      <th>3598</th>\n",
       "      <td>1443</td>\n",
       "      <td>15</td>\n",
       "      <td>Chips and Fresh Tomato Salsa</td>\n",
       "      <td>NaN</td>\n",
       "      <td>44.25</td>\n",
       "      <td>663.75</td>\n",
       "    </tr>\n",
       "    <tr>\n",
       "      <th>4152</th>\n",
       "      <td>1660</td>\n",
       "      <td>10</td>\n",
       "      <td>Bottled Water</td>\n",
       "      <td>NaN</td>\n",
       "      <td>15.00</td>\n",
       "      <td>150.00</td>\n",
       "    </tr>\n",
       "    <tr>\n",
       "      <th>1254</th>\n",
       "      <td>511</td>\n",
       "      <td>4</td>\n",
       "      <td>Chicken Burrito</td>\n",
       "      <td>[Fresh Tomato Salsa, [Fajita Vegetables, Rice,...</td>\n",
       "      <td>35.00</td>\n",
       "      <td>140.00</td>\n",
       "    </tr>\n",
       "  </tbody>\n",
       "</table>\n",
       "</div>"
      ],
      "text/plain": [
       "      order_id  quantity                     item_name  \\\n",
       "3598      1443        15  Chips and Fresh Tomato Salsa   \n",
       "4152      1660        10                 Bottled Water   \n",
       "1254       511         4               Chicken Burrito   \n",
       "\n",
       "                                     choice_description  item_price  revenue  \n",
       "3598                                                NaN       44.25   663.75  \n",
       "4152                                                NaN       15.00   150.00  \n",
       "1254  [Fresh Tomato Salsa, [Fajita Vegetables, Rice,...       35.00   140.00  "
      ]
     },
     "execution_count": 63,
     "metadata": {},
     "output_type": "execute_result"
    }
   ],
   "source": [
    "chipo.sort_values\n",
    "chipo.sort_values(by=\"revenue\", ascending=False).head(3)"
   ]
  },
  {
   "cell_type": "markdown",
   "metadata": {},
   "source": [
    "### ¿Cuál fue el item más ordenado?"
   ]
  },
  {
   "cell_type": "code",
   "execution_count": 70,
   "metadata": {
    "collapsed": false
   },
   "outputs": [],
   "source": [
    "# chipo.groupby('item_name').sum()\n",
    "\n",
    "# chipo.groupby('item_name').sum().sort_values(['quantity'], ascending=False).head(1)\n",
    "# chipo.groupby('item_name').sum().quantity.idxmax()"
   ]
  },
  {
   "cell_type": "markdown",
   "metadata": {},
   "source": [
    "### ¿Qué ingresos produjo el item más ordenado?"
   ]
  },
  {
   "cell_type": "code",
   "execution_count": 74,
   "metadata": {
    "collapsed": false
   },
   "outputs": [
    {
     "data": {
      "text/html": [
       "<div>\n",
       "<style scoped>\n",
       "    .dataframe tbody tr th:only-of-type {\n",
       "        vertical-align: middle;\n",
       "    }\n",
       "\n",
       "    .dataframe tbody tr th {\n",
       "        vertical-align: top;\n",
       "    }\n",
       "\n",
       "    .dataframe thead th {\n",
       "        text-align: right;\n",
       "    }\n",
       "</style>\n",
       "<table border=\"1\" class=\"dataframe\">\n",
       "  <thead>\n",
       "    <tr style=\"text-align: right;\">\n",
       "      <th></th>\n",
       "      <th>order_id</th>\n",
       "      <th>quantity</th>\n",
       "      <th>item_price</th>\n",
       "      <th>revenue</th>\n",
       "    </tr>\n",
       "    <tr>\n",
       "      <th>item_name</th>\n",
       "      <th></th>\n",
       "      <th></th>\n",
       "      <th></th>\n",
       "      <th></th>\n",
       "    </tr>\n",
       "  </thead>\n",
       "  <tbody>\n",
       "    <tr>\n",
       "      <th>6 Pack Soft Drink</th>\n",
       "      <td>968.925926</td>\n",
       "      <td>1.018519</td>\n",
       "      <td>6.610185</td>\n",
       "      <td>6.850556</td>\n",
       "    </tr>\n",
       "    <tr>\n",
       "      <th>Barbacoa Bowl</th>\n",
       "      <td>817.757576</td>\n",
       "      <td>1.000000</td>\n",
       "      <td>10.187273</td>\n",
       "      <td>10.187273</td>\n",
       "    </tr>\n",
       "    <tr>\n",
       "      <th>Barbacoa Burrito</th>\n",
       "      <td>821.076923</td>\n",
       "      <td>1.000000</td>\n",
       "      <td>9.832418</td>\n",
       "      <td>9.832418</td>\n",
       "    </tr>\n",
       "    <tr>\n",
       "      <th>Barbacoa Crispy Tacos</th>\n",
       "      <td>510.272727</td>\n",
       "      <td>1.090909</td>\n",
       "      <td>10.928182</td>\n",
       "      <td>12.610000</td>\n",
       "    </tr>\n",
       "    <tr>\n",
       "      <th>Barbacoa Salad Bowl</th>\n",
       "      <td>970.800000</td>\n",
       "      <td>1.000000</td>\n",
       "      <td>10.640000</td>\n",
       "      <td>10.640000</td>\n",
       "    </tr>\n",
       "    <tr>\n",
       "      <th>Barbacoa Soft Tacos</th>\n",
       "      <td>749.000000</td>\n",
       "      <td>1.000000</td>\n",
       "      <td>10.018400</td>\n",
       "      <td>10.018400</td>\n",
       "    </tr>\n",
       "    <tr>\n",
       "      <th>Bottled Water</th>\n",
       "      <td>1086.074074</td>\n",
       "      <td>1.302469</td>\n",
       "      <td>1.867654</td>\n",
       "      <td>4.007284</td>\n",
       "    </tr>\n",
       "    <tr>\n",
       "      <th>Bowl</th>\n",
       "      <td>236.000000</td>\n",
       "      <td>2.000000</td>\n",
       "      <td>14.800000</td>\n",
       "      <td>37.000000</td>\n",
       "    </tr>\n",
       "    <tr>\n",
       "      <th>Burrito</th>\n",
       "      <td>258.333333</td>\n",
       "      <td>1.000000</td>\n",
       "      <td>7.400000</td>\n",
       "      <td>7.400000</td>\n",
       "    </tr>\n",
       "    <tr>\n",
       "      <th>Canned Soda</th>\n",
       "      <td>734.576923</td>\n",
       "      <td>1.211538</td>\n",
       "      <td>1.320577</td>\n",
       "      <td>1.844615</td>\n",
       "    </tr>\n",
       "    <tr>\n",
       "      <th>Canned Soft Drink</th>\n",
       "      <td>1012.468439</td>\n",
       "      <td>1.166113</td>\n",
       "      <td>1.457641</td>\n",
       "      <td>2.005814</td>\n",
       "    </tr>\n",
       "    <tr>\n",
       "      <th>Carnitas Bowl</th>\n",
       "      <td>922.676471</td>\n",
       "      <td>1.044118</td>\n",
       "      <td>10.833971</td>\n",
       "      <td>12.216324</td>\n",
       "    </tr>\n",
       "    <tr>\n",
       "      <th>Carnitas Burrito</th>\n",
       "      <td>875.457627</td>\n",
       "      <td>1.016949</td>\n",
       "      <td>10.132712</td>\n",
       "      <td>10.446271</td>\n",
       "    </tr>\n",
       "    <tr>\n",
       "      <th>Carnitas Crispy Tacos</th>\n",
       "      <td>838.285714</td>\n",
       "      <td>1.142857</td>\n",
       "      <td>11.137143</td>\n",
       "      <td>13.705714</td>\n",
       "    </tr>\n",
       "    <tr>\n",
       "      <th>Carnitas Salad</th>\n",
       "      <td>1500.000000</td>\n",
       "      <td>1.000000</td>\n",
       "      <td>8.990000</td>\n",
       "      <td>8.990000</td>\n",
       "    </tr>\n",
       "    <tr>\n",
       "      <th>Carnitas Salad Bowl</th>\n",
       "      <td>1115.500000</td>\n",
       "      <td>1.000000</td>\n",
       "      <td>11.056667</td>\n",
       "      <td>11.056667</td>\n",
       "    </tr>\n",
       "    <tr>\n",
       "      <th>Carnitas Soft Tacos</th>\n",
       "      <td>941.825000</td>\n",
       "      <td>1.000000</td>\n",
       "      <td>9.398500</td>\n",
       "      <td>9.398500</td>\n",
       "    </tr>\n",
       "    <tr>\n",
       "      <th>Chicken Bowl</th>\n",
       "      <td>983.369146</td>\n",
       "      <td>1.048209</td>\n",
       "      <td>10.113953</td>\n",
       "      <td>11.080758</td>\n",
       "    </tr>\n",
       "    <tr>\n",
       "      <th>Chicken Burrito</th>\n",
       "      <td>899.282098</td>\n",
       "      <td>1.068716</td>\n",
       "      <td>10.082857</td>\n",
       "      <td>11.549837</td>\n",
       "    </tr>\n",
       "    <tr>\n",
       "      <th>Chicken Crispy Tacos</th>\n",
       "      <td>1008.127660</td>\n",
       "      <td>1.063830</td>\n",
       "      <td>10.045319</td>\n",
       "      <td>11.151277</td>\n",
       "    </tr>\n",
       "    <tr>\n",
       "      <th>Chicken Salad</th>\n",
       "      <td>1162.777778</td>\n",
       "      <td>1.000000</td>\n",
       "      <td>9.010000</td>\n",
       "      <td>9.010000</td>\n",
       "    </tr>\n",
       "    <tr>\n",
       "      <th>Chicken Salad Bowl</th>\n",
       "      <td>1064.581818</td>\n",
       "      <td>1.118182</td>\n",
       "      <td>11.170455</td>\n",
       "      <td>13.693182</td>\n",
       "    </tr>\n",
       "    <tr>\n",
       "      <th>Chicken Soft Tacos</th>\n",
       "      <td>855.608696</td>\n",
       "      <td>1.043478</td>\n",
       "      <td>9.635565</td>\n",
       "      <td>10.426174</td>\n",
       "    </tr>\n",
       "    <tr>\n",
       "      <th>Chips</th>\n",
       "      <td>985.800948</td>\n",
       "      <td>1.090047</td>\n",
       "      <td>2.342844</td>\n",
       "      <td>2.750427</td>\n",
       "    </tr>\n",
       "    <tr>\n",
       "      <th>Chips and Fresh Tomato Salsa</th>\n",
       "      <td>912.900000</td>\n",
       "      <td>1.181818</td>\n",
       "      <td>3.285091</td>\n",
       "      <td>9.399636</td>\n",
       "    </tr>\n",
       "    <tr>\n",
       "      <th>Chips and Guacamole</th>\n",
       "      <td>939.371608</td>\n",
       "      <td>1.056367</td>\n",
       "      <td>4.595073</td>\n",
       "      <td>5.168309</td>\n",
       "    </tr>\n",
       "    <tr>\n",
       "      <th>Chips and Mild Fresh Tomato Salsa</th>\n",
       "      <td>279.000000</td>\n",
       "      <td>1.000000</td>\n",
       "      <td>3.000000</td>\n",
       "      <td>3.000000</td>\n",
       "    </tr>\n",
       "    <tr>\n",
       "      <th>Chips and Roasted Chili Corn Salsa</th>\n",
       "      <td>681.772727</td>\n",
       "      <td>1.045455</td>\n",
       "      <td>3.084091</td>\n",
       "      <td>3.352273</td>\n",
       "    </tr>\n",
       "    <tr>\n",
       "      <th>Chips and Roasted Chili-Corn Salsa</th>\n",
       "      <td>970.111111</td>\n",
       "      <td>1.000000</td>\n",
       "      <td>2.390000</td>\n",
       "      <td>2.390000</td>\n",
       "    </tr>\n",
       "    <tr>\n",
       "      <th>Chips and Tomatillo Green Chili Salsa</th>\n",
       "      <td>957.441860</td>\n",
       "      <td>1.046512</td>\n",
       "      <td>3.087209</td>\n",
       "      <td>3.361628</td>\n",
       "    </tr>\n",
       "    <tr>\n",
       "      <th>Chips and Tomatillo Red Chili Salsa</th>\n",
       "      <td>949.083333</td>\n",
       "      <td>1.041667</td>\n",
       "      <td>3.072917</td>\n",
       "      <td>3.318750</td>\n",
       "    </tr>\n",
       "    <tr>\n",
       "      <th>Chips and Tomatillo-Green Chili Salsa</th>\n",
       "      <td>704.064516</td>\n",
       "      <td>1.064516</td>\n",
       "      <td>2.544194</td>\n",
       "      <td>2.852581</td>\n",
       "    </tr>\n",
       "    <tr>\n",
       "      <th>Chips and Tomatillo-Red Chili Salsa</th>\n",
       "      <td>917.200000</td>\n",
       "      <td>1.250000</td>\n",
       "      <td>2.987500</td>\n",
       "      <td>4.660500</td>\n",
       "    </tr>\n",
       "    <tr>\n",
       "      <th>Crispy Tacos</th>\n",
       "      <td>217.000000</td>\n",
       "      <td>1.000000</td>\n",
       "      <td>7.400000</td>\n",
       "      <td>7.400000</td>\n",
       "    </tr>\n",
       "    <tr>\n",
       "      <th>Izze</th>\n",
       "      <td>529.350000</td>\n",
       "      <td>1.000000</td>\n",
       "      <td>3.390000</td>\n",
       "      <td>3.390000</td>\n",
       "    </tr>\n",
       "    <tr>\n",
       "      <th>Nantucket Nectar</th>\n",
       "      <td>807.925926</td>\n",
       "      <td>1.074074</td>\n",
       "      <td>3.641111</td>\n",
       "      <td>4.143333</td>\n",
       "    </tr>\n",
       "    <tr>\n",
       "      <th>Salad</th>\n",
       "      <td>575.000000</td>\n",
       "      <td>1.000000</td>\n",
       "      <td>7.400000</td>\n",
       "      <td>7.400000</td>\n",
       "    </tr>\n",
       "    <tr>\n",
       "      <th>Side of Chips</th>\n",
       "      <td>839.297030</td>\n",
       "      <td>1.089109</td>\n",
       "      <td>1.840594</td>\n",
       "      <td>2.878020</td>\n",
       "    </tr>\n",
       "    <tr>\n",
       "      <th>Steak Bowl</th>\n",
       "      <td>918.255924</td>\n",
       "      <td>1.047393</td>\n",
       "      <td>10.711801</td>\n",
       "      <td>11.752654</td>\n",
       "    </tr>\n",
       "    <tr>\n",
       "      <th>Steak Burrito</th>\n",
       "      <td>892.491848</td>\n",
       "      <td>1.048913</td>\n",
       "      <td>10.465842</td>\n",
       "      <td>11.511223</td>\n",
       "    </tr>\n",
       "    <tr>\n",
       "      <th>Steak Crispy Tacos</th>\n",
       "      <td>1023.371429</td>\n",
       "      <td>1.028571</td>\n",
       "      <td>10.209714</td>\n",
       "      <td>10.723429</td>\n",
       "    </tr>\n",
       "    <tr>\n",
       "      <th>Steak Salad</th>\n",
       "      <td>590.500000</td>\n",
       "      <td>1.000000</td>\n",
       "      <td>8.915000</td>\n",
       "      <td>8.915000</td>\n",
       "    </tr>\n",
       "    <tr>\n",
       "      <th>Steak Salad Bowl</th>\n",
       "      <td>1020.344828</td>\n",
       "      <td>1.068966</td>\n",
       "      <td>11.847931</td>\n",
       "      <td>13.487931</td>\n",
       "    </tr>\n",
       "    <tr>\n",
       "      <th>Steak Soft Tacos</th>\n",
       "      <td>912.309091</td>\n",
       "      <td>1.018182</td>\n",
       "      <td>9.746364</td>\n",
       "      <td>10.082727</td>\n",
       "    </tr>\n",
       "    <tr>\n",
       "      <th>Veggie Bowl</th>\n",
       "      <td>850.235294</td>\n",
       "      <td>1.023529</td>\n",
       "      <td>10.211647</td>\n",
       "      <td>10.611176</td>\n",
       "    </tr>\n",
       "    <tr>\n",
       "      <th>Veggie Burrito</th>\n",
       "      <td>852.231579</td>\n",
       "      <td>1.021053</td>\n",
       "      <td>9.839684</td>\n",
       "      <td>10.550211</td>\n",
       "    </tr>\n",
       "    <tr>\n",
       "      <th>Veggie Crispy Tacos</th>\n",
       "      <td>668.000000</td>\n",
       "      <td>1.000000</td>\n",
       "      <td>8.490000</td>\n",
       "      <td>8.490000</td>\n",
       "    </tr>\n",
       "    <tr>\n",
       "      <th>Veggie Salad</th>\n",
       "      <td>1210.833333</td>\n",
       "      <td>1.000000</td>\n",
       "      <td>8.490000</td>\n",
       "      <td>8.490000</td>\n",
       "    </tr>\n",
       "    <tr>\n",
       "      <th>Veggie Salad Bowl</th>\n",
       "      <td>961.277778</td>\n",
       "      <td>1.000000</td>\n",
       "      <td>10.138889</td>\n",
       "      <td>10.138889</td>\n",
       "    </tr>\n",
       "    <tr>\n",
       "      <th>Veggie Soft Tacos</th>\n",
       "      <td>788.571429</td>\n",
       "      <td>1.142857</td>\n",
       "      <td>10.565714</td>\n",
       "      <td>12.991429</td>\n",
       "    </tr>\n",
       "  </tbody>\n",
       "</table>\n",
       "</div>"
      ],
      "text/plain": [
       "                                          order_id  quantity  item_price  \\\n",
       "item_name                                                                  \n",
       "6 Pack Soft Drink                       968.925926  1.018519    6.610185   \n",
       "Barbacoa Bowl                           817.757576  1.000000   10.187273   \n",
       "Barbacoa Burrito                        821.076923  1.000000    9.832418   \n",
       "Barbacoa Crispy Tacos                   510.272727  1.090909   10.928182   \n",
       "Barbacoa Salad Bowl                     970.800000  1.000000   10.640000   \n",
       "Barbacoa Soft Tacos                     749.000000  1.000000   10.018400   \n",
       "Bottled Water                          1086.074074  1.302469    1.867654   \n",
       "Bowl                                    236.000000  2.000000   14.800000   \n",
       "Burrito                                 258.333333  1.000000    7.400000   \n",
       "Canned Soda                             734.576923  1.211538    1.320577   \n",
       "Canned Soft Drink                      1012.468439  1.166113    1.457641   \n",
       "Carnitas Bowl                           922.676471  1.044118   10.833971   \n",
       "Carnitas Burrito                        875.457627  1.016949   10.132712   \n",
       "Carnitas Crispy Tacos                   838.285714  1.142857   11.137143   \n",
       "Carnitas Salad                         1500.000000  1.000000    8.990000   \n",
       "Carnitas Salad Bowl                    1115.500000  1.000000   11.056667   \n",
       "Carnitas Soft Tacos                     941.825000  1.000000    9.398500   \n",
       "Chicken Bowl                            983.369146  1.048209   10.113953   \n",
       "Chicken Burrito                         899.282098  1.068716   10.082857   \n",
       "Chicken Crispy Tacos                   1008.127660  1.063830   10.045319   \n",
       "Chicken Salad                          1162.777778  1.000000    9.010000   \n",
       "Chicken Salad Bowl                     1064.581818  1.118182   11.170455   \n",
       "Chicken Soft Tacos                      855.608696  1.043478    9.635565   \n",
       "Chips                                   985.800948  1.090047    2.342844   \n",
       "Chips and Fresh Tomato Salsa            912.900000  1.181818    3.285091   \n",
       "Chips and Guacamole                     939.371608  1.056367    4.595073   \n",
       "Chips and Mild Fresh Tomato Salsa       279.000000  1.000000    3.000000   \n",
       "Chips and Roasted Chili Corn Salsa      681.772727  1.045455    3.084091   \n",
       "Chips and Roasted Chili-Corn Salsa      970.111111  1.000000    2.390000   \n",
       "Chips and Tomatillo Green Chili Salsa   957.441860  1.046512    3.087209   \n",
       "Chips and Tomatillo Red Chili Salsa     949.083333  1.041667    3.072917   \n",
       "Chips and Tomatillo-Green Chili Salsa   704.064516  1.064516    2.544194   \n",
       "Chips and Tomatillo-Red Chili Salsa     917.200000  1.250000    2.987500   \n",
       "Crispy Tacos                            217.000000  1.000000    7.400000   \n",
       "Izze                                    529.350000  1.000000    3.390000   \n",
       "Nantucket Nectar                        807.925926  1.074074    3.641111   \n",
       "Salad                                   575.000000  1.000000    7.400000   \n",
       "Side of Chips                           839.297030  1.089109    1.840594   \n",
       "Steak Bowl                              918.255924  1.047393   10.711801   \n",
       "Steak Burrito                           892.491848  1.048913   10.465842   \n",
       "Steak Crispy Tacos                     1023.371429  1.028571   10.209714   \n",
       "Steak Salad                             590.500000  1.000000    8.915000   \n",
       "Steak Salad Bowl                       1020.344828  1.068966   11.847931   \n",
       "Steak Soft Tacos                        912.309091  1.018182    9.746364   \n",
       "Veggie Bowl                             850.235294  1.023529   10.211647   \n",
       "Veggie Burrito                          852.231579  1.021053    9.839684   \n",
       "Veggie Crispy Tacos                     668.000000  1.000000    8.490000   \n",
       "Veggie Salad                           1210.833333  1.000000    8.490000   \n",
       "Veggie Salad Bowl                       961.277778  1.000000   10.138889   \n",
       "Veggie Soft Tacos                       788.571429  1.142857   10.565714   \n",
       "\n",
       "                                         revenue  \n",
       "item_name                                         \n",
       "6 Pack Soft Drink                       6.850556  \n",
       "Barbacoa Bowl                          10.187273  \n",
       "Barbacoa Burrito                        9.832418  \n",
       "Barbacoa Crispy Tacos                  12.610000  \n",
       "Barbacoa Salad Bowl                    10.640000  \n",
       "Barbacoa Soft Tacos                    10.018400  \n",
       "Bottled Water                           4.007284  \n",
       "Bowl                                   37.000000  \n",
       "Burrito                                 7.400000  \n",
       "Canned Soda                             1.844615  \n",
       "Canned Soft Drink                       2.005814  \n",
       "Carnitas Bowl                          12.216324  \n",
       "Carnitas Burrito                       10.446271  \n",
       "Carnitas Crispy Tacos                  13.705714  \n",
       "Carnitas Salad                          8.990000  \n",
       "Carnitas Salad Bowl                    11.056667  \n",
       "Carnitas Soft Tacos                     9.398500  \n",
       "Chicken Bowl                           11.080758  \n",
       "Chicken Burrito                        11.549837  \n",
       "Chicken Crispy Tacos                   11.151277  \n",
       "Chicken Salad                           9.010000  \n",
       "Chicken Salad Bowl                     13.693182  \n",
       "Chicken Soft Tacos                     10.426174  \n",
       "Chips                                   2.750427  \n",
       "Chips and Fresh Tomato Salsa            9.399636  \n",
       "Chips and Guacamole                     5.168309  \n",
       "Chips and Mild Fresh Tomato Salsa       3.000000  \n",
       "Chips and Roasted Chili Corn Salsa      3.352273  \n",
       "Chips and Roasted Chili-Corn Salsa      2.390000  \n",
       "Chips and Tomatillo Green Chili Salsa   3.361628  \n",
       "Chips and Tomatillo Red Chili Salsa     3.318750  \n",
       "Chips and Tomatillo-Green Chili Salsa   2.852581  \n",
       "Chips and Tomatillo-Red Chili Salsa     4.660500  \n",
       "Crispy Tacos                            7.400000  \n",
       "Izze                                    3.390000  \n",
       "Nantucket Nectar                        4.143333  \n",
       "Salad                                   7.400000  \n",
       "Side of Chips                           2.878020  \n",
       "Steak Bowl                             11.752654  \n",
       "Steak Burrito                          11.511223  \n",
       "Steak Crispy Tacos                     10.723429  \n",
       "Steak Salad                             8.915000  \n",
       "Steak Salad Bowl                       13.487931  \n",
       "Steak Soft Tacos                       10.082727  \n",
       "Veggie Bowl                            10.611176  \n",
       "Veggie Burrito                         10.550211  \n",
       "Veggie Crispy Tacos                     8.490000  \n",
       "Veggie Salad                            8.490000  \n",
       "Veggie Salad Bowl                      10.138889  \n",
       "Veggie Soft Tacos                      12.991429  "
      ]
     },
     "execution_count": 74,
     "metadata": {},
     "output_type": "execute_result"
    }
   ],
   "source": [
    "mas_ordenado = chipo.groupby('item_name').sum().quantity.idxmax()\n",
    "\n",
    "# chipo.groupby('item_name').sum()\n",
    "\n",
    "# chipo.groupby('item_name').sum().loc[mas_ordenado].revenue\n",
    "\n",
    "# chipo[chipo.item_name == mas_ordenado].revenue.sum()"
   ]
  },
  {
   "cell_type": "markdown",
   "metadata": {},
   "source": [
    "### Chipotle decide abrir su primera sucursal en Argentina. Para eso nos pide que realicemos la lista de precios de sus productos"
   ]
  },
  {
   "cell_type": "markdown",
   "metadata": {},
   "source": [
    "#### Usando nuestro dataframe chipo, agrupemos por *item_name* y calculemos la media de *item_price* para cada item. Creemos un nuevo dataframe de nombre *chipo_precios* que solo contenga los *item_name* como index y una columna con los *item_price*."
   ]
  },
  {
   "cell_type": "code",
   "execution_count": 77,
   "metadata": {},
   "outputs": [],
   "source": [
    "chipo_precios = chipo.groupby('item_name').mean()\n",
    "\n",
    "chipo_precios = chipo_precios.drop(columns=['order_id', 'quantity', 'revenue'])\n",
    "\n",
    "chipo_precios = chipo_precios.round({'item_price': 2})\n",
    "\n",
    "# chipo_precios"
   ]
  },
  {
   "cell_type": "markdown",
   "metadata": {},
   "source": [
    "#### Chipotle decide reemplazar su producto más ordenado (Chicken Bowl) por algo más local (Chori Bowl). Remover de *chipo_precios* la fila correspondiente y agregar usando concat o append el flamante Chori Bowl que se venderá al módico precio de $5 (dólares). Ordenar *chipo_precios* por index (item_name)"
   ]
  },
  {
   "cell_type": "code",
   "execution_count": 80,
   "metadata": {},
   "outputs": [],
   "source": [
    "# chori = pd.DataFrame([5.], index=['Chori Bowl'], columns=['item_price'])\n",
    "# chipo_precios = pd.concat([chipo_precios, chori])\n",
    "# chipo_precios = chipo_precios.drop('Chicken Bowl', axis=0)\n",
    "# chipo_precios = chipo_precios.sort_index()\n",
    "# # chipo_precios"
   ]
  },
  {
   "cell_type": "markdown",
   "metadata": {},
   "source": [
    "#### Agregar una columna a nuestro dataframe de nombre *item_price_arg* que obtenga el valor en pesos argentinos de cada producto usando la columna *item_price* y el valor del dólar hoy respecto al peso argentino"
   ]
  },
  {
   "cell_type": "code",
   "execution_count": null,
   "metadata": {
    "collapsed": false
   },
   "outputs": [],
   "source": [
    "# crear la serie y concat\n",
    "chipo_precios['item_price_arg'] = chipo_precios['item_price'] * 38\n",
    "chipo_precios"
   ]
  },
  {
   "cell_type": "markdown",
   "metadata": {},
   "source": [
    "#### Chipotle ve el valor del dólar en Enero 2018 y decide instalarse en Uruguay. Renombrar la columna anterior a *item_price_uru* usando rename y recalcular sus valores usando el valor del peso uruguayo"
   ]
  },
  {
   "cell_type": "code",
   "execution_count": null,
   "metadata": {},
   "outputs": [],
   "source": [
    "chipo_precios = chipo_precios.rename(columns={'item_price_arg': 'item_price_uru'})\n",
    "chipo_precios['item_price_uru'] = chipo_precios['item_price'] * 33\n",
    "chipo_precios"
   ]
  }
 ],
 "metadata": {
  "kernelspec": {
   "display_name": "Python 3",
   "language": "python",
   "name": "python3"
  },
  "language_info": {
   "codemirror_mode": {
    "name": "ipython",
    "version": 3
   },
   "file_extension": ".py",
   "mimetype": "text/x-python",
   "name": "python",
   "nbconvert_exporter": "python",
   "pygments_lexer": "ipython3",
   "version": "3.6.5"
  }
 },
 "nbformat": 4,
 "nbformat_minor": 2
}
