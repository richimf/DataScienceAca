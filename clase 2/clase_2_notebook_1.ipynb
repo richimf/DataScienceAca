{
 "cells": [
  {
   "cell_type": "markdown",
   "metadata": {
    "colab_type": "text",
    "id": "x-ZFh4G40Eak"
   },
   "source": [
    "# Asignación de variables, operaciones básicas y print"
   ]
  },
  {
   "cell_type": "markdown",
   "metadata": {
    "colab_type": "text",
    "id": "eq_VsfjW0Eam"
   },
   "source": [
    "Un notebook de Jupyter esta dividido en celdas que pueden contener código Python o Markdown escrito. Las celdas se ejecutan usando SHIFT + ENTER"
   ]
  },
  {
   "cell_type": "markdown",
   "metadata": {
    "colab_type": "text",
    "id": "JNpu4IKP0Ean"
   },
   "source": [
    "¿Qué quiere decir la siguiente línea?"
   ]
  },
  {
   "cell_type": "code",
   "execution_count": 5,
   "metadata": {
    "colab": {},
    "colab_type": "code",
    "id": "BlvGXHV_0Eao"
   },
   "outputs": [],
   "source": [
    "a = 2"
   ]
  },
  {
   "cell_type": "markdown",
   "metadata": {
    "colab_type": "text",
    "id": "pqlAFVlL0Eau"
   },
   "source": [
    "¿Cuál es el valor de c a continuación?"
   ]
  },
  {
   "cell_type": "code",
   "execution_count": 6,
   "metadata": {
    "colab": {},
    "colab_type": "code",
    "id": "YH1xEVl60Eav"
   },
   "outputs": [],
   "source": [
    "a = 2\n",
    "b = 3\n",
    "c = a + b"
   ]
  },
  {
   "cell_type": "markdown",
   "metadata": {
    "colab_type": "text",
    "id": "fzKG_PsH0Ea0"
   },
   "source": [
    "¿Qué hace la siguiente línea?"
   ]
  },
  {
   "cell_type": "code",
   "execution_count": 7,
   "metadata": {
    "colab": {
     "base_uri": "https://localhost:8080/",
     "height": 34
    },
    "colab_type": "code",
    "id": "ZF4GNF-p0Ea1",
    "outputId": "22fe3640-ee93-4e65-fe56-481199faa70c"
   },
   "outputs": [
    {
     "name": "stdout",
     "output_type": "stream",
     "text": [
      "5\n"
     ]
    }
   ],
   "source": [
    "print(c)"
   ]
  },
  {
   "cell_type": "markdown",
   "metadata": {
    "colab_type": "text",
    "id": "7tXxrzbJ0Ea5"
   },
   "source": [
    "¿Qué hace la siguiente línea?"
   ]
  },
  {
   "cell_type": "code",
   "execution_count": 8,
   "metadata": {
    "colab": {
     "base_uri": "https://localhost:8080/",
     "height": 34
    },
    "colab_type": "code",
    "id": "4zKI7esx0Ea5",
    "outputId": "e6bc6d79-4e55-4865-de95-cfc5ea3deab5"
   },
   "outputs": [
    {
     "name": "stdout",
     "output_type": "stream",
     "text": [
      "2 3 5\n"
     ]
    }
   ],
   "source": [
    "print(a, b, c)"
   ]
  },
  {
   "cell_type": "markdown",
   "metadata": {
    "colab_type": "text",
    "id": "McQC8AXZ0Ea7"
   },
   "source": [
    "¿Cuál es el valor de c a continuación? Muestrénlo en pantalla"
   ]
  },
  {
   "cell_type": "code",
   "execution_count": 17,
   "metadata": {
    "colab": {},
    "colab_type": "code",
    "id": "rceXvF2d0Ea8"
   },
   "outputs": [
    {
     "name": "stdout",
     "output_type": "stream",
     "text": [
      "1\n"
     ]
    }
   ],
   "source": [
    "a = 2\n",
    "b = 3\n",
    "c = 2 * a - b\n",
    "print(c)"
   ]
  },
  {
   "cell_type": "markdown",
   "metadata": {
    "colab_type": "text",
    "id": "vtp0co0C0Ea_"
   },
   "source": [
    "¿Cuál es el valor de c a continuación?"
   ]
  },
  {
   "cell_type": "code",
   "execution_count": 10,
   "metadata": {
    "colab": {},
    "colab_type": "code",
    "id": "aS7f9ICs0Ea_"
   },
   "outputs": [],
   "source": [
    "a = 2\n",
    "b = 3\n",
    "c = 2 * (a - b)"
   ]
  },
  {
   "cell_type": "markdown",
   "metadata": {
    "colab_type": "text",
    "id": "EMZ89piX0EbD"
   },
   "source": [
    "¿Qué diferencia hay entre las variables ''c'' y ''c2'' a continuación?"
   ]
  },
  {
   "cell_type": "code",
   "execution_count": 11,
   "metadata": {
    "colab": {},
    "colab_type": "code",
    "id": "F5VitT050EbE"
   },
   "outputs": [],
   "source": [
    "a, b = 2, 3\n",
    "c = 2 * a - b\n",
    "c2 = 1"
   ]
  },
  {
   "cell_type": "markdown",
   "metadata": {
    "colab_type": "text",
    "id": "xK4ZjzBK0EbL"
   },
   "source": [
    "¿Cuál es el valor de c a continuación? ¿En qué orden se ejecutan las operaciones?"
   ]
  },
  {
   "cell_type": "code",
   "execution_count": 12,
   "metadata": {
    "colab": {},
    "colab_type": "code",
    "id": "bPngIrOf0EbM"
   },
   "outputs": [],
   "source": [
    "a = 6\n",
    "c = a**2 / 3"
   ]
  },
  {
   "cell_type": "markdown",
   "metadata": {
    "colab_type": "text",
    "id": "fs8AHSgP0EbO"
   },
   "source": [
    "¿Qué pasa si ejecutamos la siguiente línea?"
   ]
  },
  {
   "cell_type": "code",
   "execution_count": 13,
   "metadata": {
    "colab": {
     "base_uri": "https://localhost:8080/",
     "height": 180
    },
    "colab_type": "code",
    "id": "lKFlLYfg0EbO",
    "outputId": "c1a20f4c-073e-4265-f7b6-0a93995ee64f"
   },
   "outputs": [
    {
     "ename": "ZeroDivisionError",
     "evalue": "division by zero",
     "output_type": "error",
     "traceback": [
      "\u001b[0;31m---------------------------------------------------------------------------\u001b[0m",
      "\u001b[0;31mZeroDivisionError\u001b[0m                         Traceback (most recent call last)",
      "\u001b[0;32m<ipython-input-13-dd1ae22112ed>\u001b[0m in \u001b[0;36m<module>\u001b[0;34m\u001b[0m\n\u001b[1;32m      1\u001b[0m \u001b[0ma\u001b[0m \u001b[0;34m=\u001b[0m \u001b[0;36m6\u001b[0m\u001b[0;34m\u001b[0m\u001b[0;34m\u001b[0m\u001b[0m\n\u001b[0;32m----> 2\u001b[0;31m \u001b[0mc\u001b[0m \u001b[0;34m=\u001b[0m \u001b[0ma\u001b[0m \u001b[0;34m/\u001b[0m \u001b[0;36m0\u001b[0m\u001b[0;34m\u001b[0m\u001b[0;34m\u001b[0m\u001b[0m\n\u001b[0m",
      "\u001b[0;31mZeroDivisionError\u001b[0m: division by zero"
     ]
    }
   ],
   "source": [
    "a = 6\n",
    "c = a / 0"
   ]
  },
  {
   "cell_type": "markdown",
   "metadata": {
    "colab_type": "text",
    "id": "DBP2_gxf0EbR"
   },
   "source": [
    "¿Cuál es el valor de c al final de la siguiente celda? ¿Por qué?"
   ]
  },
  {
   "cell_type": "code",
   "execution_count": 19,
   "metadata": {
    "colab": {},
    "colab_type": "code",
    "id": "OzhPrUvy0EbS"
   },
   "outputs": [
    {
     "name": "stdout",
     "output_type": "stream",
     "text": [
      "4\n"
     ]
    }
   ],
   "source": [
    "c = 2\n",
    "c = 4\n",
    "print(c)"
   ]
  },
  {
   "cell_type": "markdown",
   "metadata": {
    "colab_type": "text",
    "id": "Wh8Kd7_m0EbV"
   },
   "source": [
    "¿Cuál es el valor de c a continuación? ¿Por qué?"
   ]
  },
  {
   "cell_type": "code",
   "execution_count": 20,
   "metadata": {
    "colab": {},
    "colab_type": "code",
    "id": "XOk3OqiG0EbW"
   },
   "outputs": [
    {
     "name": "stdout",
     "output_type": "stream",
     "text": [
      "2\n"
     ]
    }
   ],
   "source": [
    "a = 2\n",
    "c = a\n",
    "a = 7\n",
    "print(c)"
   ]
  },
  {
   "cell_type": "markdown",
   "metadata": {
    "colab_type": "text",
    "id": "yiq3_RBa0Eba"
   },
   "source": [
    "# Tipos"
   ]
  },
  {
   "cell_type": "markdown",
   "metadata": {
    "colab_type": "text",
    "id": "qdxZ5hpg0Ebe"
   },
   "source": [
    "¿De qué tipo es la variable ''a'' a continuación?"
   ]
  },
  {
   "cell_type": "code",
   "execution_count": null,
   "metadata": {
    "colab": {},
    "colab_type": "code",
    "id": "x9PcmZwO0Ebe"
   },
   "outputs": [],
   "source": [
    "a = 2"
   ]
  },
  {
   "cell_type": "markdown",
   "metadata": {
    "colab_type": "text",
    "id": "QUWbPGA_0Ebj"
   },
   "source": [
    "Usamos type para averiguarlo"
   ]
  },
  {
   "cell_type": "code",
   "execution_count": 14,
   "metadata": {
    "colab": {},
    "colab_type": "code",
    "id": "rh5Zgemy0Ebk"
   },
   "outputs": [
    {
     "name": "stdout",
     "output_type": "stream",
     "text": [
      "<class 'int'>\n"
     ]
    }
   ],
   "source": [
    "print(type(a))"
   ]
  },
  {
   "cell_type": "markdown",
   "metadata": {
    "colab_type": "text",
    "id": "a9f8FuGE0Ebn"
   },
   "source": [
    "¿Qué significa ''int''?"
   ]
  },
  {
   "cell_type": "markdown",
   "metadata": {
    "colab_type": "text",
    "id": "cheweRrj0Ebp"
   },
   "source": [
    "¿De qué tipo es la variable ''a'' a continuación?"
   ]
  },
  {
   "cell_type": "code",
   "execution_count": null,
   "metadata": {
    "colab": {},
    "colab_type": "code",
    "id": "QVjBugPv0Ebq"
   },
   "outputs": [],
   "source": [
    "a = 2."
   ]
  },
  {
   "cell_type": "markdown",
   "metadata": {
    "colab_type": "text",
    "id": "2NxJtlMG0Ebr"
   },
   "source": [
    "¿Qué significa ''float''? "
   ]
  },
  {
   "cell_type": "markdown",
   "metadata": {
    "colab_type": "text",
    "id": "U_-4bdq40Ebs"
   },
   "source": [
    "¿Para qué necesito ''int'' y para qué necesito ''float''?"
   ]
  },
  {
   "cell_type": "markdown",
   "metadata": {
    "colab_type": "text",
    "id": "UvckhVtT0Ebt"
   },
   "source": [
    "¿A qué tipo pertenece la variable ''a'' al final de la celda? "
   ]
  },
  {
   "cell_type": "code",
   "execution_count": null,
   "metadata": {
    "colab": {},
    "colab_type": "code",
    "id": "hy3lYp8j0Ebt"
   },
   "outputs": [],
   "source": [
    "a = 2\n",
    "a = float(a)"
   ]
  },
  {
   "cell_type": "markdown",
   "metadata": {
    "colab_type": "text",
    "id": "NLtGajAi0Ebw"
   },
   "source": [
    "¿Qué valor toma la variable ''a'' al final de la celda? ¿A qué tipo pertenece? ¿Y al principio?"
   ]
  },
  {
   "cell_type": "code",
   "execution_count": null,
   "metadata": {
    "colab": {},
    "colab_type": "code",
    "id": "dJHTYF4c0Ebw"
   },
   "outputs": [],
   "source": [
    "a = 3.0\n",
    "a = int(a)"
   ]
  },
  {
   "cell_type": "markdown",
   "metadata": {
    "colab_type": "text",
    "id": "aojoKuCs0Eby"
   },
   "source": [
    "¿Qué valor toman la variables ''a'', ''b'' y ''c'' al final de la celda? ¿Por qué?"
   ]
  },
  {
   "cell_type": "code",
   "execution_count": null,
   "metadata": {
    "colab": {},
    "colab_type": "code",
    "id": "d1U8ZOvm0Ebz"
   },
   "outputs": [],
   "source": [
    "a, b, c = 3.1, 3.5, 3.9\n",
    "a = int(a)\n",
    "b = int(b)\n",
    "c = int(c)"
   ]
  },
  {
   "cell_type": "markdown",
   "metadata": {
    "colab_type": "text",
    "id": "QKTPCGhB0Eb0"
   },
   "source": [
    "¿Qué devuelve la siguiente expresión? ¿Qué representa el operador >? ¿Y si cambiamos > por <?"
   ]
  },
  {
   "cell_type": "code",
   "execution_count": null,
   "metadata": {
    "colab": {},
    "colab_type": "code",
    "id": "WV9tIU8S0Eb1"
   },
   "outputs": [],
   "source": [
    "print(3 > 2)"
   ]
  },
  {
   "cell_type": "markdown",
   "metadata": {
    "colab_type": "text",
    "id": "oal46XCr0Eb3"
   },
   "source": [
    "¿A qué tipo pertenece ''a''?"
   ]
  },
  {
   "cell_type": "code",
   "execution_count": null,
   "metadata": {
    "colab": {},
    "colab_type": "code",
    "id": "FJV4ODa_0Eb4"
   },
   "outputs": [],
   "source": [
    "a = 3 > 2"
   ]
  },
  {
   "cell_type": "markdown",
   "metadata": {
    "colab_type": "text",
    "id": "X-hnqinT0Eb6"
   },
   "source": [
    "¿Son diferentes las variables ''a'' y ''b'' a continuación? ¿Y ''a'' y ''c''?"
   ]
  },
  {
   "cell_type": "code",
   "execution_count": null,
   "metadata": {
    "colab": {},
    "colab_type": "code",
    "id": "URaFshdv0Eb6"
   },
   "outputs": [],
   "source": [
    "a = 3 > 2\n",
    "b = True\n",
    "c = False"
   ]
  },
  {
   "cell_type": "markdown",
   "metadata": {
    "colab_type": "text",
    "id": "MP_n_QTu0Eb7"
   },
   "source": [
    "# Variables booleanas"
   ]
  },
  {
   "cell_type": "markdown",
   "metadata": {
    "colab_type": "text",
    "id": "Oe0vsCNp0Eb8"
   },
   "source": [
    "¿Qué valor toma ''a'' a continuación? ¿Qué significa el operador ==?"
   ]
  },
  {
   "cell_type": "code",
   "execution_count": null,
   "metadata": {
    "colab": {},
    "colab_type": "code",
    "id": "Sq1EAj3e0Eb9"
   },
   "outputs": [],
   "source": [
    "print(2 * 5 - 3 == 7)"
   ]
  },
  {
   "cell_type": "markdown",
   "metadata": {
    "colab_type": "text",
    "id": "LelFVemW0Eb_"
   },
   "source": [
    "¿Qué valor toma ''a'' a continuación? ¿Qué significa el operador !=?"
   ]
  },
  {
   "cell_type": "code",
   "execution_count": null,
   "metadata": {
    "colab": {},
    "colab_type": "code",
    "id": "_gLw7SYZ0EcB"
   },
   "outputs": [],
   "source": [
    "print(0 != 1)"
   ]
  },
  {
   "cell_type": "markdown",
   "metadata": {
    "colab_type": "text",
    "id": "s7xcpufI0EcD"
   },
   "source": [
    "¿Qué valor toma ''a'' a continuación? ¿Qué significa el operador &?"
   ]
  },
  {
   "cell_type": "code",
   "execution_count": 21,
   "metadata": {
    "colab": {},
    "colab_type": "code",
    "id": "xvE-4h9k0EcD"
   },
   "outputs": [],
   "source": [
    "a = (3 > 2) & (10 <= 9)"
   ]
  },
  {
   "cell_type": "markdown",
   "metadata": {
    "colab_type": "text",
    "id": "s7xcpufI0EcD"
   },
   "source": [
    "¿Qué valor toma ''a'' a continuación?"
   ]
  },
  {
   "cell_type": "code",
   "execution_count": null,
   "metadata": {
    "colab": {},
    "colab_type": "code",
    "id": "xvE-4h9k0EcD"
   },
   "outputs": [],
   "source": [
    "a = (3 > 2) and (10 <= 9)"
   ]
  },
  {
   "cell_type": "markdown",
   "metadata": {
    "colab_type": "text",
    "id": "BMGIUWtJ0EcF"
   },
   "source": [
    "¿Qué valor toma ''a'' a continuación? ¿Qué significa el operador |?"
   ]
  },
  {
   "cell_type": "code",
   "execution_count": null,
   "metadata": {
    "colab": {},
    "colab_type": "code",
    "id": "R6j69z6-0EcG"
   },
   "outputs": [],
   "source": [
    "a = (3 > 2) | (10 <= 9)"
   ]
  },
  {
   "cell_type": "markdown",
   "metadata": {
    "colab_type": "text",
    "id": "BMGIUWtJ0EcF"
   },
   "source": [
    "¿Qué valor toma ''a'' a continuación?"
   ]
  },
  {
   "cell_type": "code",
   "execution_count": null,
   "metadata": {
    "colab": {},
    "colab_type": "code",
    "id": "R6j69z6-0EcG"
   },
   "outputs": [],
   "source": [
    "a = (3 > 2) or (10 <= 9)"
   ]
  },
  {
   "cell_type": "markdown",
   "metadata": {
    "colab_type": "text",
    "id": "LJnpvYF30EcI"
   },
   "source": [
    "¿Qué diferencia hay entre las siguientes dos líneas?"
   ]
  },
  {
   "cell_type": "code",
   "execution_count": null,
   "metadata": {
    "colab": {},
    "colab_type": "code",
    "id": "BKXArQnV0EcI"
   },
   "outputs": [],
   "source": [
    "a = 2\n",
    "a == 2"
   ]
  },
  {
   "cell_type": "markdown",
   "metadata": {
    "colab_type": "text",
    "id": "3v4qsPlz0EcK"
   },
   "source": [
    "¿V o F?"
   ]
  },
  {
   "cell_type": "code",
   "execution_count": null,
   "metadata": {
    "colab": {},
    "colab_type": "code",
    "id": "7RTeufq50EcL"
   },
   "outputs": [],
   "source": [
    "print(2==2.)"
   ]
  },
  {
   "cell_type": "markdown",
   "metadata": {
    "colab_type": "text",
    "id": "r004wakM0EcM"
   },
   "source": [
    "¿V o F?"
   ]
  },
  {
   "cell_type": "code",
   "execution_count": null,
   "metadata": {
    "colab": {},
    "colab_type": "code",
    "id": "sf5znKTL0EcM"
   },
   "outputs": [],
   "source": [
    "print(0 == False)"
   ]
  },
  {
   "cell_type": "markdown",
   "metadata": {
    "colab_type": "text",
    "id": "njbpM1bp0EcP"
   },
   "source": [
    "¿V o F?"
   ]
  },
  {
   "cell_type": "code",
   "execution_count": null,
   "metadata": {
    "colab": {},
    "colab_type": "code",
    "id": "S8745Jir0EcQ"
   },
   "outputs": [],
   "source": [
    "print(0 == True)"
   ]
  },
  {
   "cell_type": "markdown",
   "metadata": {
    "colab_type": "text",
    "id": "RRR9A8hZ0EcR"
   },
   "source": [
    "¿V o F?"
   ]
  },
  {
   "cell_type": "code",
   "execution_count": null,
   "metadata": {
    "colab": {},
    "colab_type": "code",
    "id": "nG8KSdtA0EcS"
   },
   "outputs": [],
   "source": [
    "print(1 == True)"
   ]
  },
  {
   "cell_type": "markdown",
   "metadata": {
    "colab_type": "text",
    "id": "YG3qxCAZ0EcT"
   },
   "source": [
    "# Strings"
   ]
  },
  {
   "cell_type": "markdown",
   "metadata": {
    "colab_type": "text",
    "id": "YG3qxCAZ0EcT"
   },
   "source": [
    "¿A qué tipo pertenece la siguiente variable? ¿Para qué sirve este tipo? ¿Puedo usar comillas dobles?"
   ]
  },
  {
   "cell_type": "code",
   "execution_count": null,
   "metadata": {},
   "outputs": [],
   "source": [
    "a = 'Hola mundo!'\n",
    "print(a)"
   ]
  },
  {
   "cell_type": "markdown",
   "metadata": {
    "colab_type": "text",
    "id": "YG3qxCAZ0EcT"
   },
   "source": [
    "¿Qué pasa si ejecutamos la siguiente línea?"
   ]
  },
  {
   "cell_type": "code",
   "execution_count": null,
   "metadata": {},
   "outputs": [],
   "source": [
    "print('hola')"
   ]
  },
  {
   "cell_type": "markdown",
   "metadata": {
    "colab_type": "text",
    "id": "YG3qxCAZ0EcT"
   },
   "source": [
    "¿Qué pasa si ejecutamos la siguiente línea?"
   ]
  },
  {
   "cell_type": "code",
   "execution_count": null,
   "metadata": {},
   "outputs": [],
   "source": [
    "print(hola)"
   ]
  },
  {
   "cell_type": "markdown",
   "metadata": {
    "colab_type": "text",
    "id": "YG3qxCAZ0EcT"
   },
   "source": [
    "¿Qué diferencia a las variables ''a'' y ''b'' a continuación? ¿Puedo sumarlas?"
   ]
  },
  {
   "cell_type": "code",
   "execution_count": 22,
   "metadata": {},
   "outputs": [
    {
     "ename": "TypeError",
     "evalue": "can only concatenate str (not \"int\") to str",
     "output_type": "error",
     "traceback": [
      "\u001b[0;31m---------------------------------------------------------------------------\u001b[0m",
      "\u001b[0;31mTypeError\u001b[0m                                 Traceback (most recent call last)",
      "\u001b[0;32m<ipython-input-22-8831f1236ba5>\u001b[0m in \u001b[0;36m<module>\u001b[0;34m\u001b[0m\n\u001b[1;32m      1\u001b[0m \u001b[0ma\u001b[0m \u001b[0;34m=\u001b[0m \u001b[0;34m'2'\u001b[0m\u001b[0;34m\u001b[0m\u001b[0;34m\u001b[0m\u001b[0m\n\u001b[1;32m      2\u001b[0m \u001b[0mb\u001b[0m \u001b[0;34m=\u001b[0m \u001b[0;36m2\u001b[0m\u001b[0;34m\u001b[0m\u001b[0;34m\u001b[0m\u001b[0m\n\u001b[0;32m----> 3\u001b[0;31m \u001b[0mc\u001b[0m \u001b[0;34m=\u001b[0m \u001b[0ma\u001b[0m \u001b[0;34m+\u001b[0m \u001b[0mb\u001b[0m\u001b[0;34m\u001b[0m\u001b[0;34m\u001b[0m\u001b[0m\n\u001b[0m\u001b[1;32m      4\u001b[0m \u001b[0mprint\u001b[0m\u001b[0;34m(\u001b[0m\u001b[0mc\u001b[0m\u001b[0;34m)\u001b[0m\u001b[0;34m\u001b[0m\u001b[0;34m\u001b[0m\u001b[0m\n",
      "\u001b[0;31mTypeError\u001b[0m: can only concatenate str (not \"int\") to str"
     ]
    }
   ],
   "source": [
    "a = '2'\n",
    "b = 2\n",
    "c = a + b\n",
    "print(c)"
   ]
  },
  {
   "cell_type": "markdown",
   "metadata": {
    "colab_type": "text",
    "id": "YG3qxCAZ0EcT"
   },
   "source": [
    "¿Para qué sirven los {} en una string junto con el comando format?"
   ]
  },
  {
   "cell_type": "code",
   "execution_count": null,
   "metadata": {},
   "outputs": [],
   "source": [
    "nombre = 'Diego'\n",
    "print('Me llamo {}'.format(nombre))"
   ]
  },
  {
   "cell_type": "code",
   "execution_count": null,
   "metadata": {},
   "outputs": [],
   "source": [
    "nombre = 'Diego'\n",
    "edad = 27\n",
    "print('Me llamo {}. Tengo {} años.'.format(nombre, edad))"
   ]
  },
  {
   "cell_type": "markdown",
   "metadata": {
    "colab_type": "text",
    "id": "YG3qxCAZ0EcT"
   },
   "source": [
    "¿Qué hace el comando ''str'' a continuación? ¿De qué tipo es la variable ''a''?"
   ]
  },
  {
   "cell_type": "code",
   "execution_count": null,
   "metadata": {},
   "outputs": [],
   "source": [
    "a = str(2)"
   ]
  },
  {
   "cell_type": "markdown",
   "metadata": {
    "colab_type": "text",
    "id": "End130-R0EcV"
   },
   "source": [
    "# Listas"
   ]
  },
  {
   "cell_type": "markdown",
   "metadata": {
    "colab_type": "text",
    "id": "9pKpcpN90EcV"
   },
   "source": [
    "¿Qué es la variable ''a''? ¿A qué tipo pertenece?"
   ]
  },
  {
   "cell_type": "code",
   "execution_count": null,
   "metadata": {
    "colab": {},
    "colab_type": "code",
    "id": "MJulnOvH0EcW"
   },
   "outputs": [],
   "source": [
    "a = [10, 11, 12, 13, 14, 15, 16, 17, 18, 19]"
   ]
  },
  {
   "cell_type": "code",
   "execution_count": null,
   "metadata": {
    "colab": {
     "base_uri": "https://localhost:8080/",
     "height": 34
    },
    "colab_type": "code",
    "id": "GcO2zVRf5Gmo",
    "outputId": "82459559-3778-4b26-c725-4f536b7ac1a4"
   },
   "outputs": [],
   "source": [
    "type(a)"
   ]
  },
  {
   "cell_type": "markdown",
   "metadata": {
    "colab_type": "text",
    "id": "End130-R0EcV"
   },
   "source": [
    "### Elementos y slicing"
   ]
  },
  {
   "cell_type": "markdown",
   "metadata": {
    "colab_type": "text",
    "id": "9pKpcpN90EcV"
   },
   "source": [
    "¿Qué devuelve la siguiente línea?"
   ]
  },
  {
   "cell_type": "code",
   "execution_count": null,
   "metadata": {
    "colab": {},
    "colab_type": "code",
    "id": "jBft9GEV0Eca"
   },
   "outputs": [],
   "source": [
    "a[0]"
   ]
  },
  {
   "cell_type": "markdown",
   "metadata": {
    "colab_type": "text",
    "id": "9pKpcpN90EcV"
   },
   "source": [
    "¿Qué elementos devuelvo a continuación?"
   ]
  },
  {
   "cell_type": "code",
   "execution_count": null,
   "metadata": {
    "colab": {},
    "colab_type": "code",
    "id": "ANmY57fE0Ecc"
   },
   "outputs": [],
   "source": [
    "print(a[0], a[1], a[2])"
   ]
  },
  {
   "cell_type": "markdown",
   "metadata": {
    "colab_type": "text",
    "id": "9pKpcpN90EcV"
   },
   "source": [
    "¿Qué elementos devuelvo a continuación?"
   ]
  },
  {
   "cell_type": "code",
   "execution_count": null,
   "metadata": {
    "colab": {},
    "colab_type": "code",
    "id": "hD9lkgIc0Ecd"
   },
   "outputs": [],
   "source": [
    "print(a[5], a[9])"
   ]
  },
  {
   "cell_type": "markdown",
   "metadata": {
    "colab_type": "text",
    "id": "9pKpcpN90EcV"
   },
   "source": [
    "¿Qué devuelve la siguiente línea? ¿Por qué?"
   ]
  },
  {
   "cell_type": "code",
   "execution_count": null,
   "metadata": {
    "colab": {},
    "colab_type": "code",
    "id": "4su_pZwA0Ece"
   },
   "outputs": [],
   "source": [
    "a[10]"
   ]
  },
  {
   "cell_type": "markdown",
   "metadata": {
    "colab_type": "text",
    "id": "9pKpcpN90EcV"
   },
   "source": [
    "¿Qué elementos devuelve la siguiente línea?"
   ]
  },
  {
   "cell_type": "code",
   "execution_count": null,
   "metadata": {
    "colab": {},
    "colab_type": "code",
    "id": "1vYC6FMP0Eck",
    "outputId": "1d07357f-9188-44ca-f046-368bfff00254"
   },
   "outputs": [],
   "source": [
    "a[:5]"
   ]
  },
  {
   "cell_type": "markdown",
   "metadata": {
    "colab_type": "text",
    "id": "9pKpcpN90EcV"
   },
   "source": [
    "¿Qué elementos devuelve la siguiente línea?"
   ]
  },
  {
   "cell_type": "code",
   "execution_count": null,
   "metadata": {
    "colab": {},
    "colab_type": "code",
    "id": "I-q-vuAt0Ecm",
    "outputId": "333f7559-87d2-4fd2-b9b2-7297d8719c24"
   },
   "outputs": [],
   "source": [
    "a[5:]"
   ]
  },
  {
   "cell_type": "markdown",
   "metadata": {
    "colab_type": "text",
    "id": "9pKpcpN90EcV"
   },
   "source": [
    "¿Qué elementos devuelve la siguiente línea?"
   ]
  },
  {
   "cell_type": "code",
   "execution_count": null,
   "metadata": {
    "colab": {},
    "colab_type": "code",
    "id": "QozB0cBn0Ecp",
    "outputId": "2b7155ba-44c2-4d21-8bd9-604cfe43165f"
   },
   "outputs": [],
   "source": [
    "a[2:8]"
   ]
  },
  {
   "cell_type": "markdown",
   "metadata": {
    "colab_type": "text",
    "id": "9pKpcpN90EcV"
   },
   "source": [
    "¿Qué elementos devuelve la siguiente línea?"
   ]
  },
  {
   "cell_type": "code",
   "execution_count": null,
   "metadata": {
    "colab": {},
    "colab_type": "code",
    "id": "QozB0cBn0Ecp",
    "outputId": "2b7155ba-44c2-4d21-8bd9-604cfe43165f"
   },
   "outputs": [],
   "source": [
    "a[:]"
   ]
  },
  {
   "cell_type": "markdown",
   "metadata": {
    "colab_type": "text",
    "id": "9pKpcpN90EcV"
   },
   "source": [
    "¿Qué elementos devuelve la siguiente línea?"
   ]
  },
  {
   "cell_type": "code",
   "execution_count": null,
   "metadata": {
    "colab": {},
    "colab_type": "code",
    "id": "QozB0cBn0Ecp",
    "outputId": "2b7155ba-44c2-4d21-8bd9-604cfe43165f"
   },
   "outputs": [],
   "source": [
    "a[0:10]"
   ]
  },
  {
   "cell_type": "markdown",
   "metadata": {
    "colab_type": "text",
    "id": "9pKpcpN90EcV"
   },
   "source": [
    "¿Qué elementos devuelve la siguiente línea?"
   ]
  },
  {
   "cell_type": "code",
   "execution_count": null,
   "metadata": {
    "colab": {},
    "colab_type": "code",
    "id": "QozB0cBn0Ecp",
    "outputId": "2b7155ba-44c2-4d21-8bd9-604cfe43165f"
   },
   "outputs": [],
   "source": [
    "a[0:10:2]"
   ]
  },
  {
   "cell_type": "markdown",
   "metadata": {
    "colab_type": "text",
    "id": "9pKpcpN90EcV"
   },
   "source": [
    "¿Qué elementos devuelve la siguiente línea?"
   ]
  },
  {
   "cell_type": "code",
   "execution_count": null,
   "metadata": {
    "colab": {},
    "colab_type": "code",
    "id": "QozB0cBn0Ecp",
    "outputId": "2b7155ba-44c2-4d21-8bd9-604cfe43165f"
   },
   "outputs": [],
   "source": [
    "a[0:10:3]"
   ]
  },
  {
   "cell_type": "markdown",
   "metadata": {
    "colab_type": "text",
    "id": "9pKpcpN90EcV"
   },
   "source": [
    "¿Qué elementos devuelve la siguiente línea? ¿Por qué?"
   ]
  },
  {
   "cell_type": "code",
   "execution_count": null,
   "metadata": {
    "colab": {},
    "colab_type": "code",
    "id": "QozB0cBn0Ecp",
    "outputId": "2b7155ba-44c2-4d21-8bd9-604cfe43165f"
   },
   "outputs": [],
   "source": [
    "a[-1]"
   ]
  },
  {
   "cell_type": "markdown",
   "metadata": {
    "colab_type": "text",
    "id": "9pKpcpN90EcV"
   },
   "source": [
    "¿Qué elementos devuelve la siguiente línea? ¿Por qué?"
   ]
  },
  {
   "cell_type": "code",
   "execution_count": null,
   "metadata": {
    "colab": {},
    "colab_type": "code",
    "id": "QozB0cBn0Ecp",
    "outputId": "2b7155ba-44c2-4d21-8bd9-604cfe43165f"
   },
   "outputs": [],
   "source": [
    "print(a[-1], a[-2], a[-3])"
   ]
  },
  {
   "cell_type": "markdown",
   "metadata": {
    "colab_type": "text",
    "id": "9pKpcpN90EcV"
   },
   "source": [
    "¿Qué elementos devuelve la siguiente línea? ¿Por qué?"
   ]
  },
  {
   "cell_type": "code",
   "execution_count": null,
   "metadata": {
    "colab": {},
    "colab_type": "code",
    "id": "QozB0cBn0Ecp",
    "outputId": "2b7155ba-44c2-4d21-8bd9-604cfe43165f"
   },
   "outputs": [],
   "source": [
    "print(a[:-1])"
   ]
  },
  {
   "cell_type": "markdown",
   "metadata": {
    "colab_type": "text",
    "id": "9pKpcpN90EcV"
   },
   "source": [
    "¿Qué elementos devuelve la siguiente línea? ¿Por qué?"
   ]
  },
  {
   "cell_type": "code",
   "execution_count": null,
   "metadata": {
    "colab": {},
    "colab_type": "code",
    "id": "QozB0cBn0Ecp",
    "outputId": "2b7155ba-44c2-4d21-8bd9-604cfe43165f"
   },
   "outputs": [],
   "source": [
    "print(a[:-2])"
   ]
  },
  {
   "cell_type": "markdown",
   "metadata": {
    "colab_type": "text",
    "id": "End130-R0EcV"
   },
   "source": [
    "Jugar con todo esto!!!"
   ]
  },
  {
   "cell_type": "markdown",
   "metadata": {
    "colab_type": "text",
    "id": "End130-R0EcV"
   },
   "source": [
    "### Asignación"
   ]
  },
  {
   "cell_type": "markdown",
   "metadata": {
    "colab_type": "text",
    "id": "9pKpcpN90EcV"
   },
   "source": [
    "¿Quién es ''a'' al final de la siguiente celda?"
   ]
  },
  {
   "cell_type": "code",
   "execution_count": null,
   "metadata": {
    "colab": {},
    "colab_type": "code",
    "id": "QozB0cBn0Ecp",
    "outputId": "2b7155ba-44c2-4d21-8bd9-604cfe43165f"
   },
   "outputs": [],
   "source": [
    "a = [10, 11, 12, 13, 14, 15, 16, 17, 18, 19]\n",
    "a[5] = 25\n",
    "a[-1] = 29"
   ]
  },
  {
   "cell_type": "markdown",
   "metadata": {
    "colab_type": "text",
    "id": "End130-R0EcV"
   },
   "source": [
    "### len"
   ]
  },
  {
   "cell_type": "code",
   "execution_count": null,
   "metadata": {
    "colab": {},
    "colab_type": "code",
    "id": "MJulnOvH0EcW"
   },
   "outputs": [],
   "source": [
    "a = [10, 11, 12, 13, 14, 15, 16, 17, 18, 19]"
   ]
  },
  {
   "cell_type": "markdown",
   "metadata": {
    "colab_type": "text",
    "id": "9pKpcpN90EcV"
   },
   "source": [
    "¿Qué devuelve la siguiente línea? ¿A qué tipo pertenece?"
   ]
  },
  {
   "cell_type": "code",
   "execution_count": null,
   "metadata": {
    "colab": {},
    "colab_type": "code",
    "id": "QozB0cBn0Ecp",
    "outputId": "2b7155ba-44c2-4d21-8bd9-604cfe43165f"
   },
   "outputs": [],
   "source": [
    "len(a)"
   ]
  },
  {
   "cell_type": "markdown",
   "metadata": {
    "colab_type": "text",
    "id": "9pKpcpN90EcV"
   },
   "source": [
    "¿Qué es ''a'' a continuación?"
   ]
  },
  {
   "cell_type": "code",
   "execution_count": null,
   "metadata": {
    "colab": {},
    "colab_type": "code",
    "id": "MJulnOvH0EcW"
   },
   "outputs": [],
   "source": [
    "a = []"
   ]
  },
  {
   "cell_type": "markdown",
   "metadata": {
    "colab_type": "text",
    "id": "9pKpcpN90EcV"
   },
   "source": [
    "¿Qué devuelve la siguiente línea? ¿A qué tipo pertenece?"
   ]
  },
  {
   "cell_type": "code",
   "execution_count": null,
   "metadata": {
    "colab": {},
    "colab_type": "code",
    "id": "QozB0cBn0Ecp",
    "outputId": "2b7155ba-44c2-4d21-8bd9-604cfe43165f"
   },
   "outputs": [],
   "source": [
    "len(a)"
   ]
  },
  {
   "cell_type": "markdown",
   "metadata": {
    "colab_type": "text",
    "id": "End130-R0EcV"
   },
   "source": [
    "### append"
   ]
  },
  {
   "cell_type": "markdown",
   "metadata": {
    "colab_type": "text",
    "id": "9pKpcpN90EcV"
   },
   "source": [
    "¿Quién es ''a'' al final de la siguiente celda?"
   ]
  },
  {
   "cell_type": "code",
   "execution_count": null,
   "metadata": {
    "colab": {},
    "colab_type": "code",
    "id": "MJulnOvH0EcW"
   },
   "outputs": [],
   "source": [
    "a = []\n",
    "a.append(10)"
   ]
  },
  {
   "cell_type": "markdown",
   "metadata": {
    "colab_type": "text",
    "id": "9pKpcpN90EcV"
   },
   "source": [
    "¿Quién es ''a'' al final de la siguiente celda?"
   ]
  },
  {
   "cell_type": "code",
   "execution_count": null,
   "metadata": {
    "colab": {},
    "colab_type": "code",
    "id": "MJulnOvH0EcW"
   },
   "outputs": [],
   "source": [
    "a = [10]\n",
    "a.append(20)"
   ]
  },
  {
   "cell_type": "markdown",
   "metadata": {
    "colab_type": "text",
    "id": "End130-R0EcV"
   },
   "source": [
    "### in"
   ]
  },
  {
   "cell_type": "code",
   "execution_count": null,
   "metadata": {
    "colab": {},
    "colab_type": "code",
    "id": "ApjrwDIk0Ech"
   },
   "outputs": [],
   "source": [
    "a = [10, 11, 12, 13, 14, 15, 16, 17, 18, 19]"
   ]
  },
  {
   "cell_type": "markdown",
   "metadata": {
    "colab_type": "text",
    "id": "9pKpcpN90EcV"
   },
   "source": [
    "¿Qué devuelve la siguiente línea?"
   ]
  },
  {
   "cell_type": "code",
   "execution_count": null,
   "metadata": {
    "colab": {},
    "colab_type": "code",
    "id": "y7w0gFbr0Ecs",
    "outputId": "abe2307c-4f21-420b-d3d6-56448103b9b4"
   },
   "outputs": [],
   "source": [
    "print(10 in a)"
   ]
  },
  {
   "cell_type": "markdown",
   "metadata": {
    "colab_type": "text",
    "id": "9pKpcpN90EcV"
   },
   "source": [
    "¿Qué devuelve la siguiente línea?"
   ]
  },
  {
   "cell_type": "code",
   "execution_count": null,
   "metadata": {
    "colab": {},
    "colab_type": "code",
    "id": "y7w0gFbr0Ecs",
    "outputId": "abe2307c-4f21-420b-d3d6-56448103b9b4"
   },
   "outputs": [],
   "source": [
    "print(9 in a)"
   ]
  },
  {
   "cell_type": "markdown",
   "metadata": {
    "colab_type": "text",
    "id": "9pKpcpN90EcV"
   },
   "source": [
    "¿Qué devuelve la siguiente línea?"
   ]
  },
  {
   "cell_type": "code",
   "execution_count": null,
   "metadata": {
    "colab": {},
    "colab_type": "code",
    "id": "y7w0gFbr0Ecs",
    "outputId": "abe2307c-4f21-420b-d3d6-56448103b9b4"
   },
   "outputs": [],
   "source": [
    "print('11' in a)"
   ]
  },
  {
   "cell_type": "markdown",
   "metadata": {
    "colab_type": "text",
    "id": "9pKpcpN90EcV"
   },
   "source": [
    "¿Qué devuelve la siguiente línea?"
   ]
  },
  {
   "cell_type": "code",
   "execution_count": null,
   "metadata": {
    "colab": {},
    "colab_type": "code",
    "id": "y7w0gFbr0Ecs",
    "outputId": "abe2307c-4f21-420b-d3d6-56448103b9b4"
   },
   "outputs": [],
   "source": [
    "print(11. in a)"
   ]
  },
  {
   "cell_type": "markdown",
   "metadata": {
    "colab_type": "text",
    "id": "eVd_J5QZ0Ecw"
   },
   "source": [
    "### Otros"
   ]
  },
  {
   "cell_type": "markdown",
   "metadata": {
    "colab_type": "text",
    "id": "eVd_J5QZ0Ecw"
   },
   "source": [
    "Qué va a mostrar cada print(c)?"
   ]
  },
  {
   "cell_type": "code",
   "execution_count": null,
   "metadata": {
    "colab": {},
    "colab_type": "code",
    "id": "Ow2LwN2E0Ecw"
   },
   "outputs": [],
   "source": [
    "a = [1,2,3]\n",
    "c = a\n",
    "print(c)\n",
    "a[0] = 4\n",
    "print(c)"
   ]
  },
  {
   "cell_type": "markdown",
   "metadata": {
    "colab_type": "text",
    "id": "eVd_J5QZ0Ecw"
   },
   "source": [
    "Lo siguiente vale..."
   ]
  },
  {
   "cell_type": "code",
   "execution_count": null,
   "metadata": {
    "colab": {},
    "colab_type": "code",
    "id": "D3NBq4mu0Ecy"
   },
   "outputs": [],
   "source": [
    "a = [1., '2', False]"
   ]
  },
  {
   "cell_type": "markdown",
   "metadata": {
    "colab_type": "text",
    "id": "eVd_J5QZ0Ecw"
   },
   "source": [
    "¿Qué es ''a'' a continuación? ¿Qué son a[0] y a[1]?"
   ]
  },
  {
   "cell_type": "code",
   "execution_count": null,
   "metadata": {
    "colab": {},
    "colab_type": "code",
    "id": "D3NBq4mu0Ecy"
   },
   "outputs": [],
   "source": [
    "a = [[1, 2, 3], [4, 5, 6]]"
   ]
  },
  {
   "cell_type": "markdown",
   "metadata": {
    "colab_type": "text",
    "id": "OslZ5w0c0Ecz"
   },
   "source": [
    "# Comentarios y otros"
   ]
  },
  {
   "cell_type": "code",
   "execution_count": null,
   "metadata": {},
   "outputs": [],
   "source": [
    "# Esta linea de codigo no se ejecuta\n",
    "a = 2"
   ]
  },
  {
   "cell_type": "markdown",
   "metadata": {
    "colab_type": "text",
    "id": "eVd_J5QZ0Ecw"
   },
   "source": [
    "¿Da error la siguiente celda?"
   ]
  },
  {
   "cell_type": "code",
   "execution_count": null,
   "metadata": {},
   "outputs": [],
   "source": [
    "# z = 2\n",
    "print(z)"
   ]
  },
  {
   "cell_type": "markdown",
   "metadata": {
    "colab_type": "text",
    "id": "eVd_J5QZ0Ecw"
   },
   "source": [
    "¿Da error la siguiente linea?"
   ]
  },
  {
   "cell_type": "code",
   "execution_count": null,
   "metadata": {},
   "outputs": [],
   "source": [
    "a = \n",
    "2"
   ]
  },
  {
   "cell_type": "markdown",
   "metadata": {
    "colab_type": "text",
    "id": "eVd_J5QZ0Ecw"
   },
   "source": [
    "¿Y ahora? ¿Para qué sirve el caracter \\?"
   ]
  },
  {
   "cell_type": "code",
   "execution_count": null,
   "metadata": {},
   "outputs": [],
   "source": [
    "a = \\\n",
    "2"
   ]
  },
  {
   "cell_type": "markdown",
   "metadata": {
    "colab_type": "text",
    "id": "eVd_J5QZ0Ecw"
   },
   "source": [
    "¿Da error la siguiente linea?"
   ]
  },
  {
   "cell_type": "code",
   "execution_count": null,
   "metadata": {},
   "outputs": [],
   "source": [
    "string  = [1, 2, 3, \n",
    "           4, 5, 6]"
   ]
  }
 ],
 "metadata": {
  "colab": {
   "collapsed_sections": [],
   "name": "clase_2_notebook_copia.ipynb",
   "provenance": [],
   "version": "0.3.2"
  },
  "kernelspec": {
   "display_name": "Python 3",
   "language": "python",
   "name": "python3"
  },
  "language_info": {
   "codemirror_mode": {
    "name": "ipython",
    "version": 3
   },
   "file_extension": ".py",
   "mimetype": "text/x-python",
   "name": "python",
   "nbconvert_exporter": "python",
   "pygments_lexer": "ipython3",
   "version": "3.7.3"
  }
 },
 "nbformat": 4,
 "nbformat_minor": 4
}
