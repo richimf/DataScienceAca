{
 "cells": [
  {
   "cell_type": "markdown",
   "metadata": {
    "colab_type": "text",
    "id": "NeSTYL8g0Ec0"
   },
   "source": [
    "# if, for statements"
   ]
  },
  {
   "cell_type": "markdown",
   "metadata": {
    "colab_type": "text",
    "id": "pJlV3_L22n99"
   },
   "source": [
    "## If statement"
   ]
  },
  {
   "cell_type": "code",
   "execution_count": 0,
   "metadata": {
    "colab": {},
    "colab_type": "code",
    "id": "IuqeBLCl0uro"
   },
   "outputs": [],
   "source": [
    "if True:\n",
    "  print('Corrí esta linea')\n",
    "  \n",
    "if False:\n",
    "  print('Corro esta linea?')"
   ]
  },
  {
   "cell_type": "markdown",
   "metadata": {
    "colab_type": "text",
    "id": "D8w-uTCp1PM_"
   },
   "source": [
    "Ya vimos que escribir comparaciones devuelve su condicion de verdad"
   ]
  },
  {
   "cell_type": "code",
   "execution_count": 0,
   "metadata": {
    "colab": {},
    "colab_type": "code",
    "id": "5Tm0EmBt1IhV"
   },
   "outputs": [],
   "source": [
    "print('Es 3<5?', 3<5)\n",
    "print('Es 3>5?', 3>5)"
   ]
  },
  {
   "cell_type": "markdown",
   "metadata": {
    "colab_type": "text",
    "id": "qDtTtYt91m6H"
   },
   "source": [
    "Entonces las podemos evaluar con el if statement"
   ]
  },
  {
   "cell_type": "code",
   "execution_count": 0,
   "metadata": {
    "colab": {},
    "colab_type": "code",
    "id": "6l8GFmB_1u7X"
   },
   "outputs": [],
   "source": [
    "if 3 < 5:\n",
    "  print('3 es menor que 5')\n",
    "else:\n",
    "  print('3 no es menor que 5')\n",
    "  \n",
    "if 3 > 5:\n",
    "  print('3 es mayor que 5')\n",
    "else:\n",
    "  print('3 no es mayor que 5')\n",
    "  "
   ]
  },
  {
   "cell_type": "code",
   "execution_count": null,
   "metadata": {},
   "outputs": [],
   "source": [
    "a = 3\n",
    "b = 5\n",
    "if a>b:\n",
    "    print(\"%i es mayor que %i\" % (a, b))\n",
    "elif a<b:\n",
    "    print(\"%i es menor que %i\" % (a, b))\n",
    "else:\n",
    "    print(\"%i no es ni menor ni mayor que %i, debe ser igual!\" % (a, b))\n",
    "    print(a==b)\n",
    "    "
   ]
  },
  {
   "cell_type": "markdown",
   "metadata": {
    "colab_type": "text",
    "id": "chkg2kFW2tvK"
   },
   "source": [
    "## for loops\n",
    "for es otro statement de python, este nos permite repetir la mismas lineas de código con distintos elementos"
   ]
  },
  {
   "cell_type": "code",
   "execution_count": 0,
   "metadata": {
    "colab": {
     "base_uri": "https://localhost:8080/",
     "height": 102
    },
    "colab_type": "code",
    "id": "LH3sdGi02zK7",
    "outputId": "d163eb99-d825-466e-b3d1-6b3e8b58bbf9"
   },
   "outputs": [
    {
     "name": "stdout",
     "output_type": "stream",
     "text": [
      "0\n",
      "1\n",
      "2\n",
      "3\n",
      "4\n"
     ]
    }
   ],
   "source": [
    "for i in range(5):\n",
    "  print(i)"
   ]
  },
  {
   "cell_type": "markdown",
   "metadata": {
    "colab_type": "text",
    "id": "ZjW2-g0f3RpL"
   },
   "source": [
    "utiliza diferentes tipos variables llamados \"iterables\""
   ]
  },
  {
   "cell_type": "code",
   "execution_count": 0,
   "metadata": {
    "colab": {
     "base_uri": "https://localhost:8080/",
     "height": 867
    },
    "colab_type": "code",
    "id": "5qQN9POT3Y2c",
    "outputId": "8b7d26fa-b0ae-4cbd-8399-70250861e4b0"
   },
   "outputs": [
    {
     "name": "stdout",
     "output_type": "stream",
     "text": [
      "0\n",
      "1\n",
      "2\n",
      "\n",
      "\n",
      "0\n",
      "1\n",
      "2\n",
      "\n",
      "\n",
      "0\n",
      "1\n",
      "2\n",
      "\n",
      "\n",
      "l\n",
      "o\n",
      "s\n",
      " \n",
      "'\n",
      "s\n",
      "t\n",
      "r\n",
      "i\n",
      "n\n",
      "g\n",
      "s\n",
      "'\n",
      " \n",
      "t\n",
      "a\n",
      "m\n",
      "b\n",
      "i\n",
      "e\n",
      "n\n",
      " \n",
      "s\n",
      "o\n",
      "n\n",
      " \n",
      "i\n",
      "t\n",
      "e\n",
      "r\n",
      "a\n",
      "b\n",
      "l\n",
      "e\n",
      "s\n"
     ]
    }
   ],
   "source": [
    "iterable1 = [0, 1, 2]\n",
    "iterable2 = range(3)\n",
    "iterable3 = {0:2, 1:3, 2:5} \n",
    "iterable4 = \"los 'strings' tambien son iterables!\"\n",
    "for elemento in iterable1:\n",
    "  print(elemento)\n",
    "print('\\n')\n",
    "for elemento in iterable2:\n",
    "  print(elemento)\n",
    "print('\\n')\n",
    "for elemento in iterable3:\n",
    "  print(elemento)\n",
    "print('\\n')\n",
    "for elemento in iterable4:\n",
    "  print(elemento)\n",
    "  \n",
    "print('Cualquier numero es un ejemplo de objeto no iterable:')\n",
    "for elemento in 4:\n",
    "      print(elemento)"
   ]
  },
  {
   "cell_type": "code",
   "execution_count": 0,
   "metadata": {
    "colab": {
     "base_uri": "https://localhost:8080/",
     "height": 119
    },
    "colab_type": "code",
    "id": "OhRKtv22MI2a",
    "outputId": "7400c113-cd13-42f9-f6f6-3ea24fefe45d"
   },
   "outputs": [
    {
     "name": "stdout",
     "output_type": "stream",
     "text": [
      "0 es divisible por 2\n",
      "2 es divisible por 2\n",
      "4 es divisible por 2\n",
      "6 es divisible por 2\n",
      "8 es divisible por 2\n",
      "10 es divisible por 2\n"
     ]
    }
   ],
   "source": [
    "for j in range(11):\n",
    "  if j % 2 == 0:\n",
    "    print(\"%i es divisible por 2\" % j)"
   ]
  },
  {
   "cell_type": "code",
   "execution_count": null,
   "metadata": {},
   "outputs": [],
   "source": [
    "lista = [3, 7, 5]\n",
    "b = 5\n",
    "for a in lista:\n",
    "    if a>b:\n",
    "        print(\"%i es mayor que %i\" % (a, b))\n",
    "    elif a<b:\n",
    "        print(\"%i es menor que %i\" % (a, b))\n",
    "    else:\n",
    "        print(\"%i no es ni menor ni mayor que %i, debe ser igual!\" % (a, b))\n",
    "        print(a==b)"
   ]
  },
  {
   "cell_type": "markdown",
   "metadata": {
    "colab_type": "text",
    "id": "WJOp12oHEPXW"
   },
   "source": [
    "# List comprehension (comprension de listas)\n",
    "Ahora que vimos cómo funcionan las listas, algunos statements  y loops, podemos poner todo una linea para generar listas"
   ]
  },
  {
   "cell_type": "code",
   "execution_count": 0,
   "metadata": {
    "colab": {
     "base_uri": "https://localhost:8080/",
     "height": 34
    },
    "colab_type": "code",
    "id": "-Z9hzPgfFje6",
    "outputId": "611678bf-2aed-4b3a-ab56-049d09baf2b5"
   },
   "outputs": [
    {
     "data": {
      "text/plain": [
       "[0, 1, 2, 3, 4, 5, 6, 7, 8, 9]"
      ]
     },
     "execution_count": 25,
     "metadata": {
      "tags": []
     },
     "output_type": "execute_result"
    }
   ],
   "source": [
    "[x for x in range(10)]"
   ]
  },
  {
   "cell_type": "code",
   "execution_count": 0,
   "metadata": {
    "colab": {
     "base_uri": "https://localhost:8080/",
     "height": 34
    },
    "colab_type": "code",
    "id": "AbAIIrN4FrKw",
    "outputId": "2f62f718-0255-4e21-af37-c9c502f4d2ea"
   },
   "outputs": [
    {
     "data": {
      "text/plain": [
       "[0, 2, 4, 6, 8]"
      ]
     },
     "execution_count": 27,
     "metadata": {
      "tags": []
     },
     "output_type": "execute_result"
    }
   ],
   "source": [
    "[x for x in range(10) if x % 2 == 0]"
   ]
  },
  {
   "cell_type": "markdown",
   "metadata": {},
   "source": [
    "Finalmente, podemos convertir iterables que no son tipo \"lista\" en listas con la funcion list()"
   ]
  },
  {
   "cell_type": "code",
   "execution_count": null,
   "metadata": {},
   "outputs": [],
   "source": [
    "diccionario = {1: 2, 3: 4}\n",
    "print(type(diccionario))\n",
    "lista = list(diccionario)\n",
    "print(lista)\n",
    "print(type(lista))"
   ]
  },
  {
   "cell_type": "markdown",
   "metadata": {},
   "source": [
    "# Modulo Numpy\n",
    "veamos que funciones tiene numpy que podemos aplicar a listas"
   ]
  },
  {
   "cell_type": "code",
   "execution_count": 1,
   "metadata": {},
   "outputs": [],
   "source": [
    "import numpy as np"
   ]
  },
  {
   "cell_type": "markdown",
   "metadata": {},
   "source": [
    "numpy se maneja con con arreglos (arrays) pero tambien podemos usarlo para realizar operaciones sobre listas.\n",
    "Convertimos un arreglo de numpy (nos vamos a meter con ellos la semana que viene)"
   ]
  },
  {
   "cell_type": "code",
   "execution_count": 8,
   "metadata": {},
   "outputs": [
    {
     "name": "stdout",
     "output_type": "stream",
     "text": [
      "[0.009078512621420898, 0.502874979101742, 0.6089343847089136, 0.7236683840765452, 0.5336269631109314, 0.13592357599566296, 0.5159232636052866, 0.47339467174068717, 0.09657252778591019, 0.44148438743521745]\n",
      "<class 'list'>\n"
     ]
    }
   ],
   "source": [
    "lista_de_randoms = list(np.random.random(10))\n",
    "print(lista_de_randoms)\n",
    "print(type(lista_de_randoms))"
   ]
  },
  {
   "cell_type": "code",
   "execution_count": 28,
   "metadata": {},
   "outputs": [
    {
     "data": {
      "text/plain": [
       "0.4041481650182317"
      ]
     },
     "execution_count": 28,
     "metadata": {},
     "output_type": "execute_result"
    }
   ],
   "source": [
    "np.mean(lista_de_randoms)"
   ]
  },
  {
   "cell_type": "code",
   "execution_count": 9,
   "metadata": {},
   "outputs": [
    {
     "data": {
      "text/plain": [
       "0.009078512621420898"
      ]
     },
     "execution_count": 9,
     "metadata": {},
     "output_type": "execute_result"
    }
   ],
   "source": [
    "np.min(lista_de_randoms)"
   ]
  },
  {
   "cell_type": "code",
   "execution_count": 10,
   "metadata": {},
   "outputs": [
    {
     "data": {
      "text/plain": [
       "0.7236683840765452"
      ]
     },
     "execution_count": 10,
     "metadata": {},
     "output_type": "execute_result"
    }
   ],
   "source": [
    "np.max(lista_de_randoms)"
   ]
  },
  {
   "cell_type": "code",
   "execution_count": 11,
   "metadata": {},
   "outputs": [
    {
     "data": {
      "text/plain": [
       "3"
      ]
     },
     "execution_count": 11,
     "metadata": {},
     "output_type": "execute_result"
    }
   ],
   "source": [
    "np.argmax(lista_de_randoms)"
   ]
  },
  {
   "cell_type": "code",
   "execution_count": 12,
   "metadata": {},
   "outputs": [
    {
     "data": {
      "text/plain": [
       "0"
      ]
     },
     "execution_count": 12,
     "metadata": {},
     "output_type": "execute_result"
    }
   ],
   "source": [
    "np.argmin(lista_de_randoms)"
   ]
  },
  {
   "cell_type": "code",
   "execution_count": 13,
   "metadata": {},
   "outputs": [
    {
     "data": {
      "text/plain": [
       "0.2262415273593232"
      ]
     },
     "execution_count": 13,
     "metadata": {},
     "output_type": "execute_result"
    }
   ],
   "source": [
    "np.std(lista_de_randoms)"
   ]
  },
  {
   "cell_type": "code",
   "execution_count": 14,
   "metadata": {},
   "outputs": [
    {
     "data": {
      "text/plain": [
       "0.051185228701879394"
      ]
     },
     "execution_count": 14,
     "metadata": {},
     "output_type": "execute_result"
    }
   ],
   "source": [
    "np.var(lista_de_randoms)"
   ]
  },
  {
   "cell_type": "code",
   "execution_count": 18,
   "metadata": {},
   "outputs": [
    {
     "name": "stdout",
     "output_type": "stream",
     "text": [
      "0.051185228701879394\n",
      "0.051185228701879394\n"
     ]
    }
   ],
   "source": [
    "squared_std = np.power(np.std(lista_de_randoms), 2)\n",
    "print(squared_std)\n",
    "print(np.std(lista_de_randoms)**2)"
   ]
  },
  {
   "cell_type": "code",
   "execution_count": 22,
   "metadata": {},
   "outputs": [
    {
     "name": "stdout",
     "output_type": "stream",
     "text": [
      "[8.24193914e-05 2.52883245e-01 3.70801085e-01 5.23695930e-01\n",
      " 2.84757736e-01 1.84752185e-02 2.66176814e-01 2.24102515e-01\n",
      " 9.32625312e-03 1.94908464e-01]\n"
     ]
    },
    {
     "ename": "TypeError",
     "evalue": "unsupported operand type(s) for ** or pow(): 'list' and 'int'",
     "output_type": "error",
     "traceback": [
      "\u001b[1;31m---------------------------------------------------------------------------\u001b[0m",
      "\u001b[1;31mTypeError\u001b[0m                                 Traceback (most recent call last)",
      "\u001b[1;32m<ipython-input-22-74f67909af31>\u001b[0m in \u001b[0;36m<module>\u001b[1;34m\u001b[0m\n\u001b[0;32m      1\u001b[0m \u001b[0mprint\u001b[0m\u001b[1;33m(\u001b[0m\u001b[0mnp\u001b[0m\u001b[1;33m.\u001b[0m\u001b[0mpower\u001b[0m\u001b[1;33m(\u001b[0m\u001b[0mlista_de_randoms\u001b[0m\u001b[1;33m,\u001b[0m \u001b[1;36m2\u001b[0m\u001b[1;33m)\u001b[0m\u001b[1;33m)\u001b[0m\u001b[1;33m\u001b[0m\u001b[0m\n\u001b[1;32m----> 2\u001b[1;33m \u001b[0mlista_de_randoms\u001b[0m \u001b[1;33m**\u001b[0m \u001b[1;36m2\u001b[0m\u001b[1;33m\u001b[0m\u001b[0m\n\u001b[0m",
      "\u001b[1;31mTypeError\u001b[0m: unsupported operand type(s) for ** or pow(): 'list' and 'int'"
     ]
    }
   ],
   "source": [
    "print(np.power(lista_de_randoms, 2))\n",
    "lista_de_randoms ** 2"
   ]
  },
  {
   "cell_type": "code",
   "execution_count": 26,
   "metadata": {},
   "outputs": [
    {
     "name": "stdout",
     "output_type": "stream",
     "text": [
      "4.041481650182317\n",
      "4.041481650182317\n"
     ]
    }
   ],
   "source": [
    "print(sum(lista_de_randoms))\n",
    "print(np.sum(lista_de_randoms))"
   ]
  },
  {
   "cell_type": "code",
   "execution_count": 27,
   "metadata": {},
   "outputs": [
    {
     "data": {
      "text/plain": [
       "array([ 0.49379647,  0.10605941,  0.114734  , -0.19004142, -0.39770339,\n",
       "        0.37999969, -0.04252859, -0.37682214,  0.34491186])"
      ]
     },
     "execution_count": 27,
     "metadata": {},
     "output_type": "execute_result"
    }
   ],
   "source": [
    "np.diff(lista_de_randoms)"
   ]
  },
  {
   "cell_type": "markdown",
   "metadata": {},
   "source": [
    "### y tambien tiene funciones matematicas y constantes"
   ]
  },
  {
   "cell_type": "code",
   "execution_count": 29,
   "metadata": {},
   "outputs": [
    {
     "data": {
      "text/plain": [
       "1.0"
      ]
     },
     "execution_count": 29,
     "metadata": {},
     "output_type": "execute_result"
    }
   ],
   "source": [
    "np.exp(0)"
   ]
  },
  {
   "cell_type": "code",
   "execution_count": 30,
   "metadata": {},
   "outputs": [
    {
     "data": {
      "text/plain": [
       "1.0"
      ]
     },
     "execution_count": 30,
     "metadata": {},
     "output_type": "execute_result"
    }
   ],
   "source": [
    "np.cos(0)"
   ]
  },
  {
   "cell_type": "code",
   "execution_count": 34,
   "metadata": {},
   "outputs": [
    {
     "name": "stdout",
     "output_type": "stream",
     "text": [
      "3.141592653589793\n",
      "2.718281828459045\n"
     ]
    }
   ],
   "source": [
    "print(np.pi)\n",
    "print(np.e)"
   ]
  },
  {
   "cell_type": "code",
   "execution_count": 32,
   "metadata": {},
   "outputs": [
    {
     "data": {
      "text/plain": [
       "1.2246467991473532e-16"
      ]
     },
     "execution_count": 32,
     "metadata": {},
     "output_type": "execute_result"
    }
   ],
   "source": [
    "np.sin(np.pi)"
   ]
  },
  {
   "cell_type": "code",
   "execution_count": 33,
   "metadata": {},
   "outputs": [
    {
     "data": {
      "text/plain": [
       "-1.0"
      ]
     },
     "execution_count": 33,
     "metadata": {},
     "output_type": "execute_result"
    }
   ],
   "source": [
    "np.cos(np.pi)"
   ]
  },
  {
   "cell_type": "code",
   "execution_count": null,
   "metadata": {},
   "outputs": [],
   "source": []
  }
 ],
 "metadata": {
  "colab": {
   "collapsed_sections": [],
   "name": "clase_2_notebook_copia.ipynb",
   "provenance": [],
   "version": "0.3.2"
  },
  "kernelspec": {
   "display_name": "Python 3",
   "language": "python",
   "name": "python3"
  },
  "language_info": {
   "codemirror_mode": {
    "name": "ipython",
    "version": 3
   },
   "file_extension": ".py",
   "mimetype": "text/x-python",
   "name": "python",
   "nbconvert_exporter": "python",
   "pygments_lexer": "ipython3",
   "version": "3.7.3"
  }
 },
 "nbformat": 4,
 "nbformat_minor": 1
}
